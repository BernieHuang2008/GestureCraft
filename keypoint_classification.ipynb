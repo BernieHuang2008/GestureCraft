{
 "cells": [
  {
   "cell_type": "code",
   "execution_count": 1,
   "metadata": {},
   "outputs": [],
   "source": [
    "import csv\n",
    "\n",
    "import numpy as np\n",
    "import tensorflow as tf\n",
    "from sklearn.model_selection import train_test_split\n",
    "\n",
    "RANDOM_SEED = 42"
   ]
  },
  {
   "cell_type": "markdown",
   "metadata": {},
   "source": [
    "# 各パス指定"
   ]
  },
  {
   "cell_type": "code",
   "execution_count": 2,
   "metadata": {},
   "outputs": [],
   "source": [
    "dataset = 'model/keypoint_classifier/keypoint.csv'\n",
    "model_save_path = 'model/keypoint_classifier/keypoint_classifier.hdf5'"
   ]
  },
  {
   "cell_type": "markdown",
   "metadata": {},
   "source": [
    "# 分類数設定"
   ]
  },
  {
   "cell_type": "code",
   "execution_count": 3,
   "metadata": {},
   "outputs": [],
   "source": [
    "NUM_CLASSES = 6"
   ]
  },
  {
   "cell_type": "markdown",
   "metadata": {},
   "source": [
    "# 学習データ読み込み"
   ]
  },
  {
   "cell_type": "code",
   "execution_count": 4,
   "metadata": {},
   "outputs": [],
   "source": [
    "X_dataset = np.loadtxt(dataset, delimiter=',', dtype='float32', usecols=list(range(1, (21 * 2) + 1)))"
   ]
  },
  {
   "cell_type": "code",
   "execution_count": 5,
   "metadata": {},
   "outputs": [],
   "source": [
    "y_dataset = np.loadtxt(dataset, delimiter=',', dtype='int32', usecols=(0))"
   ]
  },
  {
   "cell_type": "code",
   "execution_count": 6,
   "metadata": {},
   "outputs": [],
   "source": [
    "X_train, X_test, y_train, y_test = train_test_split(X_dataset, y_dataset, train_size=0.75, random_state=RANDOM_SEED)"
   ]
  },
  {
   "cell_type": "markdown",
   "metadata": {},
   "source": [
    "# モデル構築"
   ]
  },
  {
   "cell_type": "code",
   "execution_count": 7,
   "metadata": {},
   "outputs": [],
   "source": [
    "model = tf.keras.models.Sequential([\n",
    "    tf.keras.layers.Input((21 * 2, )),\n",
    "    tf.keras.layers.Dropout(0.2),\n",
    "    tf.keras.layers.Dense(20, activation='relu'),\n",
    "    tf.keras.layers.Dropout(0.4),\n",
    "    tf.keras.layers.Dense(10, activation='relu'),\n",
    "    tf.keras.layers.Dense(NUM_CLASSES, activation='softmax')\n",
    "])"
   ]
  },
  {
   "cell_type": "code",
   "execution_count": 8,
   "metadata": {},
   "outputs": [
    {
     "name": "stdout",
     "output_type": "stream",
     "text": [
      "Model: \"sequential\"\n",
      "_________________________________________________________________\n",
      " Layer (type)                Output Shape              Param #   \n",
      "=================================================================\n",
      " dropout (Dropout)           (None, 42)                0         \n",
      "                                                                 \n",
      " dense (Dense)               (None, 20)                860       \n",
      "                                                                 \n",
      " dropout_1 (Dropout)         (None, 20)                0         \n",
      "                                                                 \n",
      " dense_1 (Dense)             (None, 10)                210       \n",
      "                                                                 \n",
      " dense_2 (Dense)             (None, 6)                 66        \n",
      "                                                                 \n",
      "=================================================================\n",
      "Total params: 1136 (4.44 KB)\n",
      "Trainable params: 1136 (4.44 KB)\n",
      "Non-trainable params: 0 (0.00 Byte)\n",
      "_________________________________________________________________\n"
     ]
    }
   ],
   "source": [
    "model.summary()  # tf.keras.utils.plot_model(model, show_shapes=True)"
   ]
  },
  {
   "cell_type": "code",
   "execution_count": 9,
   "metadata": {},
   "outputs": [],
   "source": [
    "# モデルチェックポイントのコールバック\n",
    "cp_callback = tf.keras.callbacks.ModelCheckpoint(\n",
    "    model_save_path, verbose=1, save_weights_only=False)\n",
    "# 早期打ち切り用コールバック\n",
    "es_callback = tf.keras.callbacks.EarlyStopping(patience=20, verbose=1)"
   ]
  },
  {
   "cell_type": "code",
   "execution_count": 10,
   "metadata": {},
   "outputs": [],
   "source": [
    "# モデルコンパイル\n",
    "model.compile(\n",
    "    optimizer='adam',\n",
    "    loss='sparse_categorical_crossentropy',\n",
    "    metrics=['accuracy']\n",
    ")"
   ]
  },
  {
   "cell_type": "markdown",
   "metadata": {},
   "source": [
    "# モデル訓練"
   ]
  },
  {
   "cell_type": "code",
   "execution_count": 11,
   "metadata": {
    "scrolled": true
   },
   "outputs": [
    {
     "name": "stdout",
     "output_type": "stream",
     "text": [
      "Epoch 1/1000\n",
      " 1/31 [..............................] - ETA: 8s - loss: 1.8766 - accuracy: 0.1250\n",
      "Epoch 1: saving model to model/keypoint_classifier/keypoint_classifier.hdf5\n",
      "31/31 [==============================] - 0s 6ms/step - loss: 1.8010 - accuracy: 0.1872 - val_loss: 1.6743 - val_accuracy: 0.4197\n",
      "Epoch 2/1000\n",
      " 1/31 [..............................] - ETA: 0s - loss: 1.6960 - accuracy: 0.2109\n",
      "Epoch 2: saving model to model/keypoint_classifier/keypoint_classifier.hdf5\n",
      "31/31 [==============================] - 0s 2ms/step - loss: 1.6451 - accuracy: 0.3246 - val_loss: 1.5125 - val_accuracy: 0.5311\n",
      "Epoch 3/1000\n",
      " 1/31 [..............................] - ETA: 0s - loss: 1.5849 - accuracy: 0.3594\n",
      "Epoch 3: saving model to model/keypoint_classifier/keypoint_classifier.hdf5\n",
      "31/31 [==============================] - 0s 2ms/step - loss: 1.5151 - accuracy: 0.3705 - val_loss: 1.3500 - val_accuracy: 0.5788\n",
      "Epoch 4/1000\n",
      " 1/31 [..............................] - ETA: 0s - loss: 1.4165 - accuracy: 0.4609\n",
      "Epoch 4: saving model to model/keypoint_classifier/keypoint_classifier.hdf5\n",
      "31/31 [==============================] - 0s 2ms/step - loss: 1.3822 - accuracy: 0.4120 - val_loss: 1.2330 - val_accuracy: 0.6045\n",
      "Epoch 5/1000\n",
      " 1/31 [..............................] - ETA: 0s - loss: 1.2536 - accuracy: 0.5156"
     ]
    },
    {
     "name": "stderr",
     "output_type": "stream",
     "text": [
      "/Users/nathanchen/Library/Python/3.9/lib/python/site-packages/keras/src/engine/training.py:3000: UserWarning: You are saving your model as an HDF5 file via `model.save()`. This file format is considered legacy. We recommend using instead the native Keras format, e.g. `model.save('my_model.keras')`.\n",
      "  saving_api.save_model(\n"
     ]
    },
    {
     "name": "stdout",
     "output_type": "stream",
     "text": [
      "\n",
      "Epoch 5: saving model to model/keypoint_classifier/keypoint_classifier.hdf5\n",
      "31/31 [==============================] - 0s 2ms/step - loss: 1.2945 - accuracy: 0.4509 - val_loss: 1.1314 - val_accuracy: 0.6295\n",
      "Epoch 6/1000\n",
      " 1/31 [..............................] - ETA: 0s - loss: 1.3407 - accuracy: 0.4297\n",
      "Epoch 6: saving model to model/keypoint_classifier/keypoint_classifier.hdf5\n",
      "31/31 [==============================] - 0s 1ms/step - loss: 1.2320 - accuracy: 0.4708 - val_loss: 1.0605 - val_accuracy: 0.6409\n",
      "Epoch 7/1000\n",
      " 1/31 [..............................] - ETA: 0s - loss: 1.1501 - accuracy: 0.4922\n",
      "Epoch 7: saving model to model/keypoint_classifier/keypoint_classifier.hdf5\n",
      "31/31 [==============================] - 0s 2ms/step - loss: 1.1761 - accuracy: 0.5001 - val_loss: 1.0007 - val_accuracy: 0.6508\n",
      "Epoch 8/1000\n",
      " 1/31 [..............................] - ETA: 0s - loss: 1.0492 - accuracy: 0.5938\n",
      "Epoch 8: saving model to model/keypoint_classifier/keypoint_classifier.hdf5\n",
      "31/31 [==============================] - 0s 1ms/step - loss: 1.1342 - accuracy: 0.5226 - val_loss: 0.9365 - val_accuracy: 0.6795\n",
      "Epoch 9/1000\n",
      " 1/31 [..............................] - ETA: 0s - loss: 1.0901 - accuracy: 0.5469\n",
      "Epoch 9: saving model to model/keypoint_classifier/keypoint_classifier.hdf5\n",
      "31/31 [==============================] - 0s 2ms/step - loss: 1.0880 - accuracy: 0.5433 - val_loss: 0.8806 - val_accuracy: 0.6932\n",
      "Epoch 10/1000\n",
      " 1/31 [..............................] - ETA: 0s - loss: 0.9584 - accuracy: 0.5938\n",
      "Epoch 10: saving model to model/keypoint_classifier/keypoint_classifier.hdf5\n",
      "31/31 [==============================] - 0s 1ms/step - loss: 1.0453 - accuracy: 0.5542 - val_loss: 0.8281 - val_accuracy: 0.7197\n",
      "Epoch 11/1000\n",
      " 1/31 [..............................] - ETA: 0s - loss: 1.0178 - accuracy: 0.5781\n",
      "Epoch 11: saving model to model/keypoint_classifier/keypoint_classifier.hdf5\n",
      "31/31 [==============================] - 0s 1ms/step - loss: 1.0193 - accuracy: 0.5600 - val_loss: 0.7797 - val_accuracy: 0.7364\n",
      "Epoch 12/1000\n",
      " 1/31 [..............................] - ETA: 0s - loss: 0.9989 - accuracy: 0.5234\n",
      "Epoch 12: saving model to model/keypoint_classifier/keypoint_classifier.hdf5\n",
      "31/31 [==============================] - 0s 2ms/step - loss: 0.9870 - accuracy: 0.5716 - val_loss: 0.7429 - val_accuracy: 0.7379\n",
      "Epoch 13/1000\n",
      " 1/31 [..............................] - ETA: 0s - loss: 0.9925 - accuracy: 0.5703\n",
      "Epoch 13: saving model to model/keypoint_classifier/keypoint_classifier.hdf5\n",
      "31/31 [==============================] - 0s 1ms/step - loss: 0.9618 - accuracy: 0.5911 - val_loss: 0.7094 - val_accuracy: 0.7462\n",
      "Epoch 14/1000\n",
      " 1/31 [..............................] - ETA: 0s - loss: 0.8925 - accuracy: 0.6562\n",
      "Epoch 14: saving model to model/keypoint_classifier/keypoint_classifier.hdf5\n",
      "31/31 [==============================] - 0s 2ms/step - loss: 0.9163 - accuracy: 0.6176 - val_loss: 0.6713 - val_accuracy: 0.7409\n",
      "Epoch 15/1000\n",
      " 1/31 [..............................] - ETA: 0s - loss: 0.9683 - accuracy: 0.5781\n",
      "Epoch 15: saving model to model/keypoint_classifier/keypoint_classifier.hdf5\n",
      "31/31 [==============================] - 0s 2ms/step - loss: 0.9028 - accuracy: 0.6204 - val_loss: 0.6322 - val_accuracy: 0.7667\n",
      "Epoch 16/1000\n",
      " 1/31 [..............................] - ETA: 0s - loss: 0.9011 - accuracy: 0.6094\n",
      "Epoch 16: saving model to model/keypoint_classifier/keypoint_classifier.hdf5\n",
      "31/31 [==============================] - 0s 2ms/step - loss: 0.8819 - accuracy: 0.6272 - val_loss: 0.6119 - val_accuracy: 0.7576\n",
      "Epoch 17/1000\n",
      " 1/31 [..............................] - ETA: 0s - loss: 0.9373 - accuracy: 0.6406\n",
      "Epoch 17: saving model to model/keypoint_classifier/keypoint_classifier.hdf5\n",
      "31/31 [==============================] - 0s 2ms/step - loss: 0.8471 - accuracy: 0.6305 - val_loss: 0.5853 - val_accuracy: 0.7583\n",
      "Epoch 18/1000\n",
      " 1/31 [..............................] - ETA: 0s - loss: 0.7934 - accuracy: 0.6875\n",
      "Epoch 18: saving model to model/keypoint_classifier/keypoint_classifier.hdf5\n",
      "31/31 [==============================] - 0s 1ms/step - loss: 0.8325 - accuracy: 0.6486 - val_loss: 0.5691 - val_accuracy: 0.7652\n",
      "Epoch 19/1000\n",
      " 1/31 [..............................] - ETA: 0s - loss: 0.8755 - accuracy: 0.5938\n",
      "Epoch 19: saving model to model/keypoint_classifier/keypoint_classifier.hdf5\n",
      "31/31 [==============================] - 0s 1ms/step - loss: 0.8187 - accuracy: 0.6509 - val_loss: 0.5471 - val_accuracy: 0.7803\n",
      "Epoch 20/1000\n",
      " 1/31 [..............................] - ETA: 0s - loss: 0.8292 - accuracy: 0.6719\n",
      "Epoch 20: saving model to model/keypoint_classifier/keypoint_classifier.hdf5\n",
      "31/31 [==============================] - 0s 2ms/step - loss: 0.8228 - accuracy: 0.6509 - val_loss: 0.5343 - val_accuracy: 0.7720\n",
      "Epoch 21/1000\n",
      " 1/31 [..............................] - ETA: 0s - loss: 0.8493 - accuracy: 0.6484\n",
      "Epoch 21: saving model to model/keypoint_classifier/keypoint_classifier.hdf5\n",
      "31/31 [==============================] - 0s 1ms/step - loss: 0.7995 - accuracy: 0.6633 - val_loss: 0.5100 - val_accuracy: 0.8212\n",
      "Epoch 22/1000\n",
      " 1/31 [..............................] - ETA: 0s - loss: 0.7945 - accuracy: 0.6406\n",
      "Epoch 22: saving model to model/keypoint_classifier/keypoint_classifier.hdf5\n",
      "31/31 [==============================] - 0s 1ms/step - loss: 0.8051 - accuracy: 0.6719 - val_loss: 0.5113 - val_accuracy: 0.7795\n",
      "Epoch 23/1000\n",
      " 1/31 [..............................] - ETA: 0s - loss: 0.8168 - accuracy: 0.6719\n",
      "Epoch 23: saving model to model/keypoint_classifier/keypoint_classifier.hdf5\n",
      "31/31 [==============================] - 0s 1ms/step - loss: 0.7671 - accuracy: 0.6764 - val_loss: 0.4903 - val_accuracy: 0.8061\n",
      "Epoch 24/1000\n",
      " 1/31 [..............................] - ETA: 0s - loss: 0.8173 - accuracy: 0.6250\n",
      "Epoch 24: saving model to model/keypoint_classifier/keypoint_classifier.hdf5\n",
      "31/31 [==============================] - 0s 1ms/step - loss: 0.7809 - accuracy: 0.6588 - val_loss: 0.4784 - val_accuracy: 0.8545\n",
      "Epoch 25/1000\n",
      " 1/31 [..............................] - ETA: 0s - loss: 0.6858 - accuracy: 0.7422\n",
      "Epoch 25: saving model to model/keypoint_classifier/keypoint_classifier.hdf5\n",
      "31/31 [==============================] - 0s 1ms/step - loss: 0.7521 - accuracy: 0.6764 - val_loss: 0.4726 - val_accuracy: 0.8470\n",
      "Epoch 26/1000\n",
      " 1/31 [..............................] - ETA: 0s - loss: 0.7571 - accuracy: 0.6484\n",
      "Epoch 26: saving model to model/keypoint_classifier/keypoint_classifier.hdf5\n",
      "31/31 [==============================] - 0s 1ms/step - loss: 0.7373 - accuracy: 0.6936 - val_loss: 0.4560 - val_accuracy: 0.8008\n",
      "Epoch 27/1000\n",
      " 1/31 [..............................] - ETA: 0s - loss: 0.6386 - accuracy: 0.6797\n",
      "Epoch 27: saving model to model/keypoint_classifier/keypoint_classifier.hdf5\n",
      "31/31 [==============================] - 0s 2ms/step - loss: 0.7542 - accuracy: 0.6845 - val_loss: 0.4540 - val_accuracy: 0.8068\n",
      "Epoch 28/1000\n",
      " 1/31 [..............................] - ETA: 0s - loss: 0.8827 - accuracy: 0.5859\n",
      "Epoch 28: saving model to model/keypoint_classifier/keypoint_classifier.hdf5\n",
      "31/31 [==============================] - 0s 2ms/step - loss: 0.7180 - accuracy: 0.7009 - val_loss: 0.4404 - val_accuracy: 0.8182\n",
      "Epoch 29/1000\n",
      " 1/31 [..............................] - ETA: 0s - loss: 0.7156 - accuracy: 0.6875\n",
      "Epoch 29: saving model to model/keypoint_classifier/keypoint_classifier.hdf5\n",
      "31/31 [==============================] - 0s 2ms/step - loss: 0.7488 - accuracy: 0.6881 - val_loss: 0.4484 - val_accuracy: 0.8652\n",
      "Epoch 30/1000\n",
      " 1/31 [..............................] - ETA: 0s - loss: 0.6770 - accuracy: 0.6953\n",
      "Epoch 30: saving model to model/keypoint_classifier/keypoint_classifier.hdf5\n",
      "31/31 [==============================] - 0s 2ms/step - loss: 0.7167 - accuracy: 0.6908 - val_loss: 0.4256 - val_accuracy: 0.9189\n",
      "Epoch 31/1000\n",
      " 1/31 [..............................] - ETA: 0s - loss: 0.7650 - accuracy: 0.6328\n",
      "Epoch 31: saving model to model/keypoint_classifier/keypoint_classifier.hdf5\n",
      "31/31 [==============================] - 0s 2ms/step - loss: 0.6943 - accuracy: 0.7110 - val_loss: 0.4115 - val_accuracy: 0.9227\n",
      "Epoch 32/1000\n",
      " 1/31 [..............................] - ETA: 0s - loss: 0.7276 - accuracy: 0.6875\n",
      "Epoch 32: saving model to model/keypoint_classifier/keypoint_classifier.hdf5\n",
      "31/31 [==============================] - 0s 2ms/step - loss: 0.6976 - accuracy: 0.6997 - val_loss: 0.4108 - val_accuracy: 0.9235\n",
      "Epoch 33/1000\n",
      " 1/31 [..............................] - ETA: 0s - loss: 0.7636 - accuracy: 0.6797\n",
      "Epoch 33: saving model to model/keypoint_classifier/keypoint_classifier.hdf5\n",
      "31/31 [==============================] - 0s 2ms/step - loss: 0.7091 - accuracy: 0.7027 - val_loss: 0.4098 - val_accuracy: 0.8902\n",
      "Epoch 34/1000\n",
      " 1/31 [..............................] - ETA: 0s - loss: 0.6628 - accuracy: 0.7344\n",
      "Epoch 34: saving model to model/keypoint_classifier/keypoint_classifier.hdf5\n",
      "31/31 [==============================] - 0s 2ms/step - loss: 0.6946 - accuracy: 0.7019 - val_loss: 0.4022 - val_accuracy: 0.9258\n",
      "Epoch 35/1000\n",
      " 1/31 [..............................] - ETA: 0s - loss: 0.6406 - accuracy: 0.7266\n",
      "Epoch 35: saving model to model/keypoint_classifier/keypoint_classifier.hdf5\n",
      "31/31 [==============================] - 0s 2ms/step - loss: 0.7010 - accuracy: 0.6984 - val_loss: 0.3933 - val_accuracy: 0.9303\n",
      "Epoch 36/1000\n",
      " 1/31 [..............................] - ETA: 0s - loss: 0.6812 - accuracy: 0.7109\n",
      "Epoch 36: saving model to model/keypoint_classifier/keypoint_classifier.hdf5\n",
      "31/31 [==============================] - 0s 2ms/step - loss: 0.6945 - accuracy: 0.7052 - val_loss: 0.3923 - val_accuracy: 0.9273\n",
      "Epoch 37/1000\n",
      " 1/31 [..............................] - ETA: 0s - loss: 0.7113 - accuracy: 0.6641\n",
      "Epoch 37: saving model to model/keypoint_classifier/keypoint_classifier.hdf5\n",
      "31/31 [==============================] - 0s 2ms/step - loss: 0.6804 - accuracy: 0.7110 - val_loss: 0.3911 - val_accuracy: 0.9242\n",
      "Epoch 38/1000\n",
      " 1/31 [..............................] - ETA: 0s - loss: 0.6918 - accuracy: 0.7891\n",
      "Epoch 38: saving model to model/keypoint_classifier/keypoint_classifier.hdf5\n",
      "31/31 [==============================] - 0s 2ms/step - loss: 0.6680 - accuracy: 0.7216 - val_loss: 0.3838 - val_accuracy: 0.9265\n",
      "Epoch 39/1000\n",
      " 1/31 [..............................] - ETA: 0s - loss: 0.6740 - accuracy: 0.7031\n",
      "Epoch 39: saving model to model/keypoint_classifier/keypoint_classifier.hdf5\n",
      "31/31 [==============================] - 0s 1ms/step - loss: 0.6782 - accuracy: 0.7105 - val_loss: 0.3785 - val_accuracy: 0.9356\n",
      "Epoch 40/1000\n",
      " 1/31 [..............................] - ETA: 0s - loss: 0.6777 - accuracy: 0.6406\n",
      "Epoch 40: saving model to model/keypoint_classifier/keypoint_classifier.hdf5\n",
      "31/31 [==============================] - 0s 2ms/step - loss: 0.6693 - accuracy: 0.7244 - val_loss: 0.3721 - val_accuracy: 0.9288\n",
      "Epoch 41/1000\n",
      " 1/31 [..............................] - ETA: 0s - loss: 0.5920 - accuracy: 0.7500\n",
      "Epoch 41: saving model to model/keypoint_classifier/keypoint_classifier.hdf5\n",
      "31/31 [==============================] - 0s 2ms/step - loss: 0.6578 - accuracy: 0.7280 - val_loss: 0.3694 - val_accuracy: 0.9341\n",
      "Epoch 42/1000\n",
      " 1/31 [..............................] - ETA: 0s - loss: 0.7207 - accuracy: 0.7031\n",
      "Epoch 42: saving model to model/keypoint_classifier/keypoint_classifier.hdf5\n",
      "31/31 [==============================] - 0s 1ms/step - loss: 0.6590 - accuracy: 0.7196 - val_loss: 0.3673 - val_accuracy: 0.9333\n",
      "Epoch 43/1000\n",
      " 1/31 [..............................] - ETA: 0s - loss: 0.6129 - accuracy: 0.7344\n",
      "Epoch 43: saving model to model/keypoint_classifier/keypoint_classifier.hdf5\n",
      "31/31 [==============================] - 0s 2ms/step - loss: 0.6663 - accuracy: 0.7186 - val_loss: 0.3656 - val_accuracy: 0.9205\n",
      "Epoch 44/1000\n",
      " 1/31 [..............................] - ETA: 0s - loss: 0.7191 - accuracy: 0.7422\n",
      "Epoch 44: saving model to model/keypoint_classifier/keypoint_classifier.hdf5\n",
      "31/31 [==============================] - 0s 2ms/step - loss: 0.6667 - accuracy: 0.7224 - val_loss: 0.3616 - val_accuracy: 0.9432\n",
      "Epoch 45/1000\n",
      " 1/31 [..............................] - ETA: 0s - loss: 0.6947 - accuracy: 0.7031\n",
      "Epoch 45: saving model to model/keypoint_classifier/keypoint_classifier.hdf5\n",
      "31/31 [==============================] - 0s 2ms/step - loss: 0.6479 - accuracy: 0.7373 - val_loss: 0.3553 - val_accuracy: 0.9409\n",
      "Epoch 46/1000\n",
      " 1/31 [..............................] - ETA: 0s - loss: 0.5442 - accuracy: 0.7969\n",
      "Epoch 46: saving model to model/keypoint_classifier/keypoint_classifier.hdf5\n",
      "31/31 [==============================] - 0s 2ms/step - loss: 0.6433 - accuracy: 0.7348 - val_loss: 0.3552 - val_accuracy: 0.9326\n",
      "Epoch 47/1000\n",
      " 1/31 [..............................] - ETA: 0s - loss: 0.6667 - accuracy: 0.7812\n",
      "Epoch 47: saving model to model/keypoint_classifier/keypoint_classifier.hdf5\n",
      "31/31 [==============================] - 0s 2ms/step - loss: 0.6416 - accuracy: 0.7396 - val_loss: 0.3445 - val_accuracy: 0.9447\n",
      "Epoch 48/1000\n",
      " 1/31 [..............................] - ETA: 0s - loss: 0.6555 - accuracy: 0.7344\n",
      "Epoch 48: saving model to model/keypoint_classifier/keypoint_classifier.hdf5\n",
      "31/31 [==============================] - 0s 1ms/step - loss: 0.6361 - accuracy: 0.7363 - val_loss: 0.3501 - val_accuracy: 0.9364\n",
      "Epoch 49/1000\n",
      " 1/31 [..............................] - ETA: 0s - loss: 0.5879 - accuracy: 0.7578\n",
      "Epoch 49: saving model to model/keypoint_classifier/keypoint_classifier.hdf5\n",
      "31/31 [==============================] - 0s 2ms/step - loss: 0.6451 - accuracy: 0.7330 - val_loss: 0.3430 - val_accuracy: 0.9447\n",
      "Epoch 50/1000\n",
      " 1/31 [..............................] - ETA: 0s - loss: 0.5799 - accuracy: 0.8047\n",
      "Epoch 50: saving model to model/keypoint_classifier/keypoint_classifier.hdf5\n",
      "31/31 [==============================] - 0s 2ms/step - loss: 0.6407 - accuracy: 0.7416 - val_loss: 0.3394 - val_accuracy: 0.9470\n",
      "Epoch 51/1000\n",
      " 1/31 [..............................] - ETA: 0s - loss: 0.5988 - accuracy: 0.7734\n",
      "Epoch 51: saving model to model/keypoint_classifier/keypoint_classifier.hdf5\n",
      "31/31 [==============================] - 0s 2ms/step - loss: 0.6147 - accuracy: 0.7484 - val_loss: 0.3333 - val_accuracy: 0.9371\n",
      "Epoch 52/1000\n",
      " 1/31 [..............................] - ETA: 0s - loss: 0.5719 - accuracy: 0.7344\n",
      "Epoch 52: saving model to model/keypoint_classifier/keypoint_classifier.hdf5\n",
      "31/31 [==============================] - 0s 2ms/step - loss: 0.6355 - accuracy: 0.7292 - val_loss: 0.3362 - val_accuracy: 0.9447\n",
      "Epoch 53/1000\n",
      " 1/31 [..............................] - ETA: 0s - loss: 0.5373 - accuracy: 0.7578\n",
      "Epoch 53: saving model to model/keypoint_classifier/keypoint_classifier.hdf5\n",
      "31/31 [==============================] - 0s 2ms/step - loss: 0.6243 - accuracy: 0.7386 - val_loss: 0.3337 - val_accuracy: 0.9424\n",
      "Epoch 54/1000\n",
      " 1/31 [..............................] - ETA: 0s - loss: 0.5981 - accuracy: 0.7500\n",
      "Epoch 54: saving model to model/keypoint_classifier/keypoint_classifier.hdf5\n",
      "31/31 [==============================] - 0s 2ms/step - loss: 0.6037 - accuracy: 0.7449 - val_loss: 0.3245 - val_accuracy: 0.9477\n",
      "Epoch 55/1000\n",
      " 1/31 [..............................] - ETA: 0s - loss: 0.6034 - accuracy: 0.7188\n",
      "Epoch 55: saving model to model/keypoint_classifier/keypoint_classifier.hdf5\n",
      "31/31 [==============================] - 0s 2ms/step - loss: 0.6035 - accuracy: 0.7487 - val_loss: 0.3132 - val_accuracy: 0.9530\n",
      "Epoch 56/1000\n",
      " 1/31 [..............................] - ETA: 0s - loss: 0.5290 - accuracy: 0.7578\n",
      "Epoch 56: saving model to model/keypoint_classifier/keypoint_classifier.hdf5\n",
      "31/31 [==============================] - 0s 1ms/step - loss: 0.6023 - accuracy: 0.7547 - val_loss: 0.3128 - val_accuracy: 0.9424\n",
      "Epoch 57/1000\n",
      " 1/31 [..............................] - ETA: 0s - loss: 0.6356 - accuracy: 0.7500\n",
      "Epoch 57: saving model to model/keypoint_classifier/keypoint_classifier.hdf5\n",
      "31/31 [==============================] - 0s 2ms/step - loss: 0.6051 - accuracy: 0.7467 - val_loss: 0.3211 - val_accuracy: 0.9439\n",
      "Epoch 58/1000\n",
      " 1/31 [..............................] - ETA: 0s - loss: 0.7476 - accuracy: 0.7188\n",
      "Epoch 58: saving model to model/keypoint_classifier/keypoint_classifier.hdf5\n",
      "31/31 [==============================] - 0s 2ms/step - loss: 0.6128 - accuracy: 0.7419 - val_loss: 0.3122 - val_accuracy: 0.9508\n",
      "Epoch 59/1000\n",
      " 1/31 [..............................] - ETA: 0s - loss: 0.5679 - accuracy: 0.7344\n",
      "Epoch 59: saving model to model/keypoint_classifier/keypoint_classifier.hdf5\n",
      "31/31 [==============================] - 0s 2ms/step - loss: 0.6108 - accuracy: 0.7472 - val_loss: 0.3155 - val_accuracy: 0.9439\n",
      "Epoch 60/1000\n",
      " 1/31 [..............................] - ETA: 0s - loss: 0.5457 - accuracy: 0.7656\n",
      "Epoch 60: saving model to model/keypoint_classifier/keypoint_classifier.hdf5\n",
      "31/31 [==============================] - 0s 2ms/step - loss: 0.5831 - accuracy: 0.7616 - val_loss: 0.3089 - val_accuracy: 0.9470\n",
      "Epoch 61/1000\n",
      " 1/31 [..............................] - ETA: 0s - loss: 0.5809 - accuracy: 0.7266\n",
      "Epoch 61: saving model to model/keypoint_classifier/keypoint_classifier.hdf5\n",
      "31/31 [==============================] - 0s 1ms/step - loss: 0.6033 - accuracy: 0.7497 - val_loss: 0.3096 - val_accuracy: 0.9417\n",
      "Epoch 62/1000\n",
      " 1/31 [..............................] - ETA: 0s - loss: 0.5476 - accuracy: 0.8047\n",
      "Epoch 62: saving model to model/keypoint_classifier/keypoint_classifier.hdf5\n",
      "31/31 [==============================] - 0s 2ms/step - loss: 0.6168 - accuracy: 0.7411 - val_loss: 0.3073 - val_accuracy: 0.9508\n",
      "Epoch 63/1000\n",
      " 1/31 [..............................] - ETA: 0s - loss: 0.5129 - accuracy: 0.7812\n",
      "Epoch 63: saving model to model/keypoint_classifier/keypoint_classifier.hdf5\n",
      "31/31 [==============================] - 0s 2ms/step - loss: 0.5950 - accuracy: 0.7502 - val_loss: 0.3069 - val_accuracy: 0.9447\n",
      "Epoch 64/1000\n",
      " 1/31 [..............................] - ETA: 0s - loss: 0.5743 - accuracy: 0.7656\n",
      "Epoch 64: saving model to model/keypoint_classifier/keypoint_classifier.hdf5\n",
      "31/31 [==============================] - 0s 2ms/step - loss: 0.6066 - accuracy: 0.7497 - val_loss: 0.3179 - val_accuracy: 0.9409\n",
      "Epoch 65/1000\n",
      " 1/31 [..............................] - ETA: 0s - loss: 0.5106 - accuracy: 0.8359\n",
      "Epoch 65: saving model to model/keypoint_classifier/keypoint_classifier.hdf5\n",
      "31/31 [==============================] - 0s 1ms/step - loss: 0.6033 - accuracy: 0.7522 - val_loss: 0.3038 - val_accuracy: 0.9523\n",
      "Epoch 66/1000\n",
      " 1/31 [..............................] - ETA: 0s - loss: 0.6067 - accuracy: 0.7891\n",
      "Epoch 66: saving model to model/keypoint_classifier/keypoint_classifier.hdf5\n",
      "31/31 [==============================] - 0s 1ms/step - loss: 0.6075 - accuracy: 0.7461 - val_loss: 0.3012 - val_accuracy: 0.9500\n",
      "Epoch 67/1000\n",
      " 1/31 [..............................] - ETA: 0s - loss: 0.5117 - accuracy: 0.8047\n",
      "Epoch 67: saving model to model/keypoint_classifier/keypoint_classifier.hdf5\n",
      "31/31 [==============================] - 0s 1ms/step - loss: 0.5891 - accuracy: 0.7499 - val_loss: 0.3115 - val_accuracy: 0.9455\n",
      "Epoch 68/1000\n",
      " 1/31 [..............................] - ETA: 0s - loss: 0.6151 - accuracy: 0.8203\n",
      "Epoch 68: saving model to model/keypoint_classifier/keypoint_classifier.hdf5\n",
      "31/31 [==============================] - 0s 1ms/step - loss: 0.5801 - accuracy: 0.7671 - val_loss: 0.3065 - val_accuracy: 0.9477\n",
      "Epoch 69/1000\n",
      " 1/31 [..............................] - ETA: 0s - loss: 0.5814 - accuracy: 0.7344\n",
      "Epoch 69: saving model to model/keypoint_classifier/keypoint_classifier.hdf5\n",
      "31/31 [==============================] - 0s 1ms/step - loss: 0.5641 - accuracy: 0.7712 - val_loss: 0.3095 - val_accuracy: 0.9462\n",
      "Epoch 70/1000\n",
      " 1/31 [..............................] - ETA: 0s - loss: 0.5332 - accuracy: 0.8203\n",
      "Epoch 70: saving model to model/keypoint_classifier/keypoint_classifier.hdf5\n",
      "31/31 [==============================] - 0s 1ms/step - loss: 0.5714 - accuracy: 0.7701 - val_loss: 0.2931 - val_accuracy: 0.9515\n",
      "Epoch 71/1000\n",
      " 1/31 [..............................] - ETA: 0s - loss: 0.5615 - accuracy: 0.7422\n",
      "Epoch 71: saving model to model/keypoint_classifier/keypoint_classifier.hdf5\n",
      "31/31 [==============================] - 0s 2ms/step - loss: 0.5787 - accuracy: 0.7573 - val_loss: 0.2876 - val_accuracy: 0.9500\n",
      "Epoch 72/1000\n",
      " 1/31 [..............................] - ETA: 0s - loss: 0.5469 - accuracy: 0.7656\n",
      "Epoch 72: saving model to model/keypoint_classifier/keypoint_classifier.hdf5\n",
      "31/31 [==============================] - 0s 1ms/step - loss: 0.5692 - accuracy: 0.7585 - val_loss: 0.2953 - val_accuracy: 0.9477\n",
      "Epoch 73/1000\n",
      " 1/31 [..............................] - ETA: 0s - loss: 0.5145 - accuracy: 0.7656\n",
      "Epoch 73: saving model to model/keypoint_classifier/keypoint_classifier.hdf5\n",
      "31/31 [==============================] - 0s 2ms/step - loss: 0.5768 - accuracy: 0.7515 - val_loss: 0.2966 - val_accuracy: 0.9500\n",
      "Epoch 74/1000\n",
      " 1/31 [..............................] - ETA: 0s - loss: 0.4907 - accuracy: 0.7891\n",
      "Epoch 74: saving model to model/keypoint_classifier/keypoint_classifier.hdf5\n",
      "31/31 [==============================] - 0s 1ms/step - loss: 0.5735 - accuracy: 0.7641 - val_loss: 0.2928 - val_accuracy: 0.9455\n",
      "Epoch 75/1000\n",
      " 1/31 [..............................] - ETA: 0s - loss: 0.4742 - accuracy: 0.8047\n",
      "Epoch 75: saving model to model/keypoint_classifier/keypoint_classifier.hdf5\n",
      "31/31 [==============================] - 0s 1ms/step - loss: 0.5627 - accuracy: 0.7636 - val_loss: 0.2924 - val_accuracy: 0.9462\n",
      "Epoch 76/1000\n",
      " 1/31 [..............................] - ETA: 0s - loss: 0.5747 - accuracy: 0.7656\n",
      "Epoch 76: saving model to model/keypoint_classifier/keypoint_classifier.hdf5\n",
      "31/31 [==============================] - 0s 1ms/step - loss: 0.5651 - accuracy: 0.7641 - val_loss: 0.2912 - val_accuracy: 0.9462\n",
      "Epoch 77/1000\n",
      " 1/31 [..............................] - ETA: 0s - loss: 0.7701 - accuracy: 0.7109\n",
      "Epoch 77: saving model to model/keypoint_classifier/keypoint_classifier.hdf5\n",
      "31/31 [==============================] - 0s 1ms/step - loss: 0.5632 - accuracy: 0.7646 - val_loss: 0.2825 - val_accuracy: 0.9470\n",
      "Epoch 78/1000\n",
      " 1/31 [..............................] - ETA: 0s - loss: 0.4980 - accuracy: 0.8203\n",
      "Epoch 78: saving model to model/keypoint_classifier/keypoint_classifier.hdf5\n",
      "31/31 [==============================] - 0s 1ms/step - loss: 0.5609 - accuracy: 0.7641 - val_loss: 0.2924 - val_accuracy: 0.9500\n",
      "Epoch 79/1000\n",
      " 1/31 [..............................] - ETA: 0s - loss: 0.5587 - accuracy: 0.7500\n",
      "Epoch 79: saving model to model/keypoint_classifier/keypoint_classifier.hdf5\n",
      "31/31 [==============================] - 0s 1ms/step - loss: 0.5773 - accuracy: 0.7636 - val_loss: 0.2895 - val_accuracy: 0.9508\n",
      "Epoch 80/1000\n",
      " 1/31 [..............................] - ETA: 0s - loss: 0.5691 - accuracy: 0.7578\n",
      "Epoch 80: saving model to model/keypoint_classifier/keypoint_classifier.hdf5\n",
      "31/31 [==============================] - 0s 1ms/step - loss: 0.5545 - accuracy: 0.7679 - val_loss: 0.2846 - val_accuracy: 0.9485\n",
      "Epoch 81/1000\n",
      " 1/31 [..............................] - ETA: 0s - loss: 0.6207 - accuracy: 0.7578\n",
      "Epoch 81: saving model to model/keypoint_classifier/keypoint_classifier.hdf5\n",
      "31/31 [==============================] - 0s 1ms/step - loss: 0.5801 - accuracy: 0.7494 - val_loss: 0.2899 - val_accuracy: 0.9477\n",
      "Epoch 82/1000\n",
      " 1/31 [..............................] - ETA: 0s - loss: 0.5442 - accuracy: 0.7656\n",
      "Epoch 82: saving model to model/keypoint_classifier/keypoint_classifier.hdf5\n",
      "31/31 [==============================] - 0s 1ms/step - loss: 0.5566 - accuracy: 0.7701 - val_loss: 0.2802 - val_accuracy: 0.9500\n",
      "Epoch 83/1000\n",
      " 1/31 [..............................] - ETA: 0s - loss: 0.4830 - accuracy: 0.8281\n",
      "Epoch 83: saving model to model/keypoint_classifier/keypoint_classifier.hdf5\n",
      "31/31 [==============================] - 0s 1ms/step - loss: 0.5451 - accuracy: 0.7694 - val_loss: 0.2878 - val_accuracy: 0.9409\n",
      "Epoch 84/1000\n",
      " 1/31 [..............................] - ETA: 0s - loss: 0.5810 - accuracy: 0.7812\n",
      "Epoch 84: saving model to model/keypoint_classifier/keypoint_classifier.hdf5\n",
      "31/31 [==============================] - 0s 2ms/step - loss: 0.5449 - accuracy: 0.7648 - val_loss: 0.2832 - val_accuracy: 0.9470\n",
      "Epoch 85/1000\n",
      " 1/31 [..............................] - ETA: 0s - loss: 0.6199 - accuracy: 0.7031\n",
      "Epoch 85: saving model to model/keypoint_classifier/keypoint_classifier.hdf5\n",
      "31/31 [==============================] - 0s 1ms/step - loss: 0.5469 - accuracy: 0.7641 - val_loss: 0.2718 - val_accuracy: 0.9515\n",
      "Epoch 86/1000\n",
      " 1/31 [..............................] - ETA: 0s - loss: 0.5538 - accuracy: 0.7344\n",
      "Epoch 86: saving model to model/keypoint_classifier/keypoint_classifier.hdf5\n",
      "31/31 [==============================] - 0s 2ms/step - loss: 0.5591 - accuracy: 0.7593 - val_loss: 0.2921 - val_accuracy: 0.9417\n",
      "Epoch 87/1000\n",
      " 1/31 [..............................] - ETA: 0s - loss: 0.4949 - accuracy: 0.7891\n",
      "Epoch 87: saving model to model/keypoint_classifier/keypoint_classifier.hdf5\n",
      "31/31 [==============================] - 0s 1ms/step - loss: 0.5519 - accuracy: 0.7623 - val_loss: 0.2809 - val_accuracy: 0.9515\n",
      "Epoch 88/1000\n",
      " 1/31 [..............................] - ETA: 0s - loss: 0.6330 - accuracy: 0.6719\n",
      "Epoch 88: saving model to model/keypoint_classifier/keypoint_classifier.hdf5\n",
      "31/31 [==============================] - 0s 1ms/step - loss: 0.5619 - accuracy: 0.7658 - val_loss: 0.2837 - val_accuracy: 0.9515\n",
      "Epoch 89/1000\n",
      " 1/31 [..............................] - ETA: 0s - loss: 0.5887 - accuracy: 0.7969\n",
      "Epoch 89: saving model to model/keypoint_classifier/keypoint_classifier.hdf5\n",
      "31/31 [==============================] - 0s 1ms/step - loss: 0.5446 - accuracy: 0.7653 - val_loss: 0.2943 - val_accuracy: 0.9447\n",
      "Epoch 90/1000\n",
      " 1/31 [..............................] - ETA: 0s - loss: 0.4863 - accuracy: 0.7891\n",
      "Epoch 90: saving model to model/keypoint_classifier/keypoint_classifier.hdf5\n",
      "31/31 [==============================] - 0s 1ms/step - loss: 0.5316 - accuracy: 0.7744 - val_loss: 0.2758 - val_accuracy: 0.9538\n",
      "Epoch 91/1000\n",
      " 1/31 [..............................] - ETA: 0s - loss: 0.5938 - accuracy: 0.7500\n",
      "Epoch 91: saving model to model/keypoint_classifier/keypoint_classifier.hdf5\n",
      "31/31 [==============================] - 0s 1ms/step - loss: 0.5459 - accuracy: 0.7699 - val_loss: 0.2830 - val_accuracy: 0.9462\n",
      "Epoch 92/1000\n",
      " 1/31 [..............................] - ETA: 0s - loss: 0.6921 - accuracy: 0.7734\n",
      "Epoch 92: saving model to model/keypoint_classifier/keypoint_classifier.hdf5\n",
      "31/31 [==============================] - 0s 2ms/step - loss: 0.5408 - accuracy: 0.7787 - val_loss: 0.2813 - val_accuracy: 0.9492\n",
      "Epoch 93/1000\n",
      " 1/31 [..............................] - ETA: 0s - loss: 0.6789 - accuracy: 0.6875\n",
      "Epoch 93: saving model to model/keypoint_classifier/keypoint_classifier.hdf5\n",
      "31/31 [==============================] - 0s 2ms/step - loss: 0.5455 - accuracy: 0.7704 - val_loss: 0.2753 - val_accuracy: 0.9485\n",
      "Epoch 94/1000\n",
      " 1/31 [..............................] - ETA: 0s - loss: 0.5288 - accuracy: 0.7734\n",
      "Epoch 94: saving model to model/keypoint_classifier/keypoint_classifier.hdf5\n",
      "31/31 [==============================] - 0s 1ms/step - loss: 0.5290 - accuracy: 0.7706 - val_loss: 0.2846 - val_accuracy: 0.9455\n",
      "Epoch 95/1000\n",
      " 1/31 [..............................] - ETA: 0s - loss: 0.5465 - accuracy: 0.7656\n",
      "Epoch 95: saving model to model/keypoint_classifier/keypoint_classifier.hdf5\n",
      "31/31 [==============================] - 0s 2ms/step - loss: 0.5326 - accuracy: 0.7722 - val_loss: 0.2707 - val_accuracy: 0.9530\n",
      "Epoch 96/1000\n",
      " 1/31 [..............................] - ETA: 0s - loss: 0.4649 - accuracy: 0.7891\n",
      "Epoch 96: saving model to model/keypoint_classifier/keypoint_classifier.hdf5\n",
      "31/31 [==============================] - 0s 2ms/step - loss: 0.5170 - accuracy: 0.7866 - val_loss: 0.2708 - val_accuracy: 0.9523\n",
      "Epoch 97/1000\n",
      " 1/31 [..............................] - ETA: 0s - loss: 0.4090 - accuracy: 0.8281\n",
      "Epoch 97: saving model to model/keypoint_classifier/keypoint_classifier.hdf5\n",
      "31/31 [==============================] - 0s 2ms/step - loss: 0.5448 - accuracy: 0.7694 - val_loss: 0.2808 - val_accuracy: 0.9447\n",
      "Epoch 98/1000\n",
      " 1/31 [..............................] - ETA: 0s - loss: 0.4900 - accuracy: 0.8281\n",
      "Epoch 98: saving model to model/keypoint_classifier/keypoint_classifier.hdf5\n",
      "31/31 [==============================] - 0s 2ms/step - loss: 0.5238 - accuracy: 0.7760 - val_loss: 0.2769 - val_accuracy: 0.9485\n",
      "Epoch 99/1000\n",
      " 1/31 [..............................] - ETA: 0s - loss: 0.6287 - accuracy: 0.7266\n",
      "Epoch 99: saving model to model/keypoint_classifier/keypoint_classifier.hdf5\n",
      "31/31 [==============================] - 0s 2ms/step - loss: 0.5387 - accuracy: 0.7772 - val_loss: 0.2744 - val_accuracy: 0.9492\n",
      "Epoch 100/1000\n",
      " 1/31 [..............................] - ETA: 0s - loss: 0.5099 - accuracy: 0.7812\n",
      "Epoch 100: saving model to model/keypoint_classifier/keypoint_classifier.hdf5\n",
      "31/31 [==============================] - 0s 1ms/step - loss: 0.5376 - accuracy: 0.7699 - val_loss: 0.2751 - val_accuracy: 0.9462\n",
      "Epoch 101/1000\n",
      " 1/31 [..............................] - ETA: 0s - loss: 0.5153 - accuracy: 0.7734\n",
      "Epoch 101: saving model to model/keypoint_classifier/keypoint_classifier.hdf5\n",
      "31/31 [==============================] - 0s 1ms/step - loss: 0.5361 - accuracy: 0.7686 - val_loss: 0.2760 - val_accuracy: 0.9515\n",
      "Epoch 102/1000\n",
      " 1/31 [..............................] - ETA: 0s - loss: 0.4483 - accuracy: 0.8047\n",
      "Epoch 102: saving model to model/keypoint_classifier/keypoint_classifier.hdf5\n",
      "31/31 [==============================] - 0s 2ms/step - loss: 0.5290 - accuracy: 0.7833 - val_loss: 0.2852 - val_accuracy: 0.9500\n",
      "Epoch 103/1000\n",
      " 1/31 [..............................] - ETA: 0s - loss: 0.5878 - accuracy: 0.7500\n",
      "Epoch 103: saving model to model/keypoint_classifier/keypoint_classifier.hdf5\n",
      "31/31 [==============================] - 0s 1ms/step - loss: 0.5342 - accuracy: 0.7669 - val_loss: 0.2687 - val_accuracy: 0.9530\n",
      "Epoch 104/1000\n",
      " 1/31 [..............................] - ETA: 0s - loss: 0.5462 - accuracy: 0.7891\n",
      "Epoch 104: saving model to model/keypoint_classifier/keypoint_classifier.hdf5\n",
      "31/31 [==============================] - 0s 1ms/step - loss: 0.5209 - accuracy: 0.7891 - val_loss: 0.2682 - val_accuracy: 0.9500\n",
      "Epoch 105/1000\n",
      " 1/31 [..............................] - ETA: 0s - loss: 0.5812 - accuracy: 0.7500\n",
      "Epoch 105: saving model to model/keypoint_classifier/keypoint_classifier.hdf5\n",
      "31/31 [==============================] - 0s 2ms/step - loss: 0.5313 - accuracy: 0.7739 - val_loss: 0.2728 - val_accuracy: 0.9530\n",
      "Epoch 106/1000\n",
      " 1/31 [..............................] - ETA: 0s - loss: 0.4027 - accuracy: 0.8203\n",
      "Epoch 106: saving model to model/keypoint_classifier/keypoint_classifier.hdf5\n",
      "31/31 [==============================] - 0s 2ms/step - loss: 0.5228 - accuracy: 0.7749 - val_loss: 0.2697 - val_accuracy: 0.9515\n",
      "Epoch 107/1000\n",
      " 1/31 [..............................] - ETA: 0s - loss: 0.6010 - accuracy: 0.7656\n",
      "Epoch 107: saving model to model/keypoint_classifier/keypoint_classifier.hdf5\n",
      "31/31 [==============================] - 0s 2ms/step - loss: 0.5306 - accuracy: 0.7729 - val_loss: 0.2635 - val_accuracy: 0.9545\n",
      "Epoch 108/1000\n",
      " 1/31 [..............................] - ETA: 0s - loss: 0.5459 - accuracy: 0.7266\n",
      "Epoch 108: saving model to model/keypoint_classifier/keypoint_classifier.hdf5\n",
      "31/31 [==============================] - 0s 2ms/step - loss: 0.5365 - accuracy: 0.7671 - val_loss: 0.2650 - val_accuracy: 0.9515\n",
      "Epoch 109/1000\n",
      " 1/31 [..............................] - ETA: 0s - loss: 0.4138 - accuracy: 0.8203\n",
      "Epoch 109: saving model to model/keypoint_classifier/keypoint_classifier.hdf5\n",
      "31/31 [==============================] - 0s 2ms/step - loss: 0.5071 - accuracy: 0.7876 - val_loss: 0.2664 - val_accuracy: 0.9545\n",
      "Epoch 110/1000\n",
      " 1/31 [..............................] - ETA: 0s - loss: 0.4742 - accuracy: 0.8047\n",
      "Epoch 110: saving model to model/keypoint_classifier/keypoint_classifier.hdf5\n",
      "31/31 [==============================] - 0s 1ms/step - loss: 0.5112 - accuracy: 0.7863 - val_loss: 0.2667 - val_accuracy: 0.9523\n",
      "Epoch 111/1000\n",
      " 1/31 [..............................] - ETA: 0s - loss: 0.5584 - accuracy: 0.7344\n",
      "Epoch 111: saving model to model/keypoint_classifier/keypoint_classifier.hdf5\n",
      "31/31 [==============================] - 0s 2ms/step - loss: 0.5303 - accuracy: 0.7757 - val_loss: 0.2662 - val_accuracy: 0.9568\n",
      "Epoch 112/1000\n",
      " 1/31 [..............................] - ETA: 0s - loss: 0.4983 - accuracy: 0.7500\n",
      "Epoch 112: saving model to model/keypoint_classifier/keypoint_classifier.hdf5\n",
      "31/31 [==============================] - 0s 2ms/step - loss: 0.5130 - accuracy: 0.7744 - val_loss: 0.2710 - val_accuracy: 0.9402\n",
      "Epoch 113/1000\n",
      " 1/31 [..............................] - ETA: 0s - loss: 0.5877 - accuracy: 0.7578\n",
      "Epoch 113: saving model to model/keypoint_classifier/keypoint_classifier.hdf5\n",
      "31/31 [==============================] - 0s 2ms/step - loss: 0.5144 - accuracy: 0.7813 - val_loss: 0.2604 - val_accuracy: 0.9621\n",
      "Epoch 114/1000\n",
      " 1/31 [..............................] - ETA: 0s - loss: 0.6383 - accuracy: 0.7734\n",
      "Epoch 114: saving model to model/keypoint_classifier/keypoint_classifier.hdf5\n",
      "31/31 [==============================] - 0s 1ms/step - loss: 0.5080 - accuracy: 0.7921 - val_loss: 0.2657 - val_accuracy: 0.9576\n",
      "Epoch 115/1000\n",
      " 1/31 [..............................] - ETA: 0s - loss: 0.5049 - accuracy: 0.8047\n",
      "Epoch 115: saving model to model/keypoint_classifier/keypoint_classifier.hdf5\n",
      "31/31 [==============================] - 0s 1ms/step - loss: 0.4979 - accuracy: 0.7929 - val_loss: 0.2543 - val_accuracy: 0.9598\n",
      "Epoch 116/1000\n",
      " 1/31 [..............................] - ETA: 0s - loss: 0.3954 - accuracy: 0.8516\n",
      "Epoch 116: saving model to model/keypoint_classifier/keypoint_classifier.hdf5\n",
      "31/31 [==============================] - 0s 1ms/step - loss: 0.5047 - accuracy: 0.7916 - val_loss: 0.2580 - val_accuracy: 0.9538\n",
      "Epoch 117/1000\n",
      " 1/31 [..............................] - ETA: 0s - loss: 0.5326 - accuracy: 0.7812\n",
      "Epoch 117: saving model to model/keypoint_classifier/keypoint_classifier.hdf5\n",
      "31/31 [==============================] - 0s 1ms/step - loss: 0.4958 - accuracy: 0.7939 - val_loss: 0.2555 - val_accuracy: 0.9583\n",
      "Epoch 118/1000\n",
      " 1/31 [..............................] - ETA: 0s - loss: 0.5238 - accuracy: 0.7656\n",
      "Epoch 118: saving model to model/keypoint_classifier/keypoint_classifier.hdf5\n",
      "31/31 [==============================] - 0s 1ms/step - loss: 0.5180 - accuracy: 0.7828 - val_loss: 0.2598 - val_accuracy: 0.9523\n",
      "Epoch 119/1000\n",
      " 1/31 [..............................] - ETA: 0s - loss: 0.4582 - accuracy: 0.8203\n",
      "Epoch 119: saving model to model/keypoint_classifier/keypoint_classifier.hdf5\n",
      "31/31 [==============================] - 0s 2ms/step - loss: 0.5181 - accuracy: 0.7800 - val_loss: 0.2543 - val_accuracy: 0.9591\n",
      "Epoch 120/1000\n",
      " 1/31 [..............................] - ETA: 0s - loss: 0.4930 - accuracy: 0.7578\n",
      "Epoch 120: saving model to model/keypoint_classifier/keypoint_classifier.hdf5\n",
      "31/31 [==============================] - 0s 1ms/step - loss: 0.4931 - accuracy: 0.7979 - val_loss: 0.2407 - val_accuracy: 0.9583\n",
      "Epoch 121/1000\n",
      " 1/31 [..............................] - ETA: 0s - loss: 0.4970 - accuracy: 0.7734\n",
      "Epoch 121: saving model to model/keypoint_classifier/keypoint_classifier.hdf5\n",
      "31/31 [==============================] - 0s 2ms/step - loss: 0.5114 - accuracy: 0.7767 - val_loss: 0.2568 - val_accuracy: 0.9553\n",
      "Epoch 122/1000\n",
      " 1/31 [..............................] - ETA: 0s - loss: 0.5222 - accuracy: 0.8125\n",
      "Epoch 122: saving model to model/keypoint_classifier/keypoint_classifier.hdf5\n",
      "31/31 [==============================] - 0s 1ms/step - loss: 0.4891 - accuracy: 0.7957 - val_loss: 0.2529 - val_accuracy: 0.9523\n",
      "Epoch 123/1000\n",
      " 1/31 [..............................] - ETA: 0s - loss: 0.4462 - accuracy: 0.7969\n",
      "Epoch 123: saving model to model/keypoint_classifier/keypoint_classifier.hdf5\n",
      "31/31 [==============================] - 0s 1ms/step - loss: 0.4916 - accuracy: 0.7952 - val_loss: 0.2388 - val_accuracy: 0.9576\n",
      "Epoch 124/1000\n",
      " 1/31 [..............................] - ETA: 0s - loss: 0.4961 - accuracy: 0.8125\n",
      "Epoch 124: saving model to model/keypoint_classifier/keypoint_classifier.hdf5\n",
      "31/31 [==============================] - 0s 1ms/step - loss: 0.5094 - accuracy: 0.7845 - val_loss: 0.2538 - val_accuracy: 0.9583\n",
      "Epoch 125/1000\n",
      " 1/31 [..............................] - ETA: 0s - loss: 0.5330 - accuracy: 0.7891\n",
      "Epoch 125: saving model to model/keypoint_classifier/keypoint_classifier.hdf5\n",
      "31/31 [==============================] - 0s 1ms/step - loss: 0.4950 - accuracy: 0.7987 - val_loss: 0.2468 - val_accuracy: 0.9583\n",
      "Epoch 126/1000\n",
      " 1/31 [..............................] - ETA: 0s - loss: 0.4667 - accuracy: 0.7656\n",
      "Epoch 126: saving model to model/keypoint_classifier/keypoint_classifier.hdf5\n",
      "31/31 [==============================] - 0s 1ms/step - loss: 0.4892 - accuracy: 0.7871 - val_loss: 0.2594 - val_accuracy: 0.9530\n",
      "Epoch 127/1000\n",
      " 1/31 [..............................] - ETA: 0s - loss: 0.4961 - accuracy: 0.8047\n",
      "Epoch 127: saving model to model/keypoint_classifier/keypoint_classifier.hdf5\n",
      "31/31 [==============================] - 0s 1ms/step - loss: 0.4994 - accuracy: 0.7931 - val_loss: 0.2633 - val_accuracy: 0.9576\n",
      "Epoch 128/1000\n",
      " 1/31 [..............................] - ETA: 0s - loss: 0.5250 - accuracy: 0.7578\n",
      "Epoch 128: saving model to model/keypoint_classifier/keypoint_classifier.hdf5\n",
      "31/31 [==============================] - 0s 1ms/step - loss: 0.5165 - accuracy: 0.7810 - val_loss: 0.2627 - val_accuracy: 0.9621\n",
      "Epoch 129/1000\n",
      " 1/31 [..............................] - ETA: 0s - loss: 0.4716 - accuracy: 0.7969\n",
      "Epoch 129: saving model to model/keypoint_classifier/keypoint_classifier.hdf5\n",
      "31/31 [==============================] - 0s 1ms/step - loss: 0.4758 - accuracy: 0.7967 - val_loss: 0.2563 - val_accuracy: 0.9576\n",
      "Epoch 130/1000\n",
      " 1/31 [..............................] - ETA: 0s - loss: 0.5898 - accuracy: 0.7031\n",
      "Epoch 130: saving model to model/keypoint_classifier/keypoint_classifier.hdf5\n",
      "31/31 [==============================] - 0s 2ms/step - loss: 0.4927 - accuracy: 0.7921 - val_loss: 0.2542 - val_accuracy: 0.9545\n",
      "Epoch 131/1000\n",
      " 1/31 [..............................] - ETA: 0s - loss: 0.5526 - accuracy: 0.8125\n",
      "Epoch 131: saving model to model/keypoint_classifier/keypoint_classifier.hdf5\n",
      "31/31 [==============================] - 0s 2ms/step - loss: 0.5058 - accuracy: 0.7914 - val_loss: 0.2560 - val_accuracy: 0.9568\n",
      "Epoch 132/1000\n",
      " 1/31 [..............................] - ETA: 0s - loss: 0.4921 - accuracy: 0.7734\n",
      "Epoch 132: saving model to model/keypoint_classifier/keypoint_classifier.hdf5\n",
      "31/31 [==============================] - 0s 1ms/step - loss: 0.4784 - accuracy: 0.8032 - val_loss: 0.2484 - val_accuracy: 0.9621\n",
      "Epoch 133/1000\n",
      " 1/31 [..............................] - ETA: 0s - loss: 0.4598 - accuracy: 0.8438\n",
      "Epoch 133: saving model to model/keypoint_classifier/keypoint_classifier.hdf5\n",
      "31/31 [==============================] - 0s 2ms/step - loss: 0.4862 - accuracy: 0.7919 - val_loss: 0.2557 - val_accuracy: 0.9644\n",
      "Epoch 134/1000\n",
      " 1/31 [..............................] - ETA: 0s - loss: 0.5431 - accuracy: 0.7344\n",
      "Epoch 134: saving model to model/keypoint_classifier/keypoint_classifier.hdf5\n",
      "31/31 [==============================] - 0s 1ms/step - loss: 0.4828 - accuracy: 0.7984 - val_loss: 0.2530 - val_accuracy: 0.9598\n",
      "Epoch 135/1000\n",
      " 1/31 [..............................] - ETA: 0s - loss: 0.4611 - accuracy: 0.8125\n",
      "Epoch 135: saving model to model/keypoint_classifier/keypoint_classifier.hdf5\n",
      "31/31 [==============================] - 0s 1ms/step - loss: 0.4794 - accuracy: 0.7916 - val_loss: 0.2488 - val_accuracy: 0.9568\n",
      "Epoch 136/1000\n",
      " 1/31 [..............................] - ETA: 0s - loss: 0.5095 - accuracy: 0.7422\n",
      "Epoch 136: saving model to model/keypoint_classifier/keypoint_classifier.hdf5\n",
      "31/31 [==============================] - 0s 1ms/step - loss: 0.4826 - accuracy: 0.8015 - val_loss: 0.2489 - val_accuracy: 0.9568\n",
      "Epoch 137/1000\n",
      " 1/31 [..............................] - ETA: 0s - loss: 0.4874 - accuracy: 0.7812\n",
      "Epoch 137: saving model to model/keypoint_classifier/keypoint_classifier.hdf5\n",
      "31/31 [==============================] - 0s 1ms/step - loss: 0.4735 - accuracy: 0.8030 - val_loss: 0.2553 - val_accuracy: 0.9515\n",
      "Epoch 138/1000\n",
      " 1/31 [..............................] - ETA: 0s - loss: 0.4607 - accuracy: 0.7969\n",
      "Epoch 138: saving model to model/keypoint_classifier/keypoint_classifier.hdf5\n",
      "31/31 [==============================] - 0s 1ms/step - loss: 0.4884 - accuracy: 0.7919 - val_loss: 0.2694 - val_accuracy: 0.9500\n",
      "Epoch 139/1000\n",
      " 1/31 [..............................] - ETA: 0s - loss: 0.4616 - accuracy: 0.7812\n",
      "Epoch 139: saving model to model/keypoint_classifier/keypoint_classifier.hdf5\n",
      "31/31 [==============================] - 0s 1ms/step - loss: 0.4807 - accuracy: 0.8025 - val_loss: 0.2507 - val_accuracy: 0.9576\n",
      "Epoch 140/1000\n",
      " 1/31 [..............................] - ETA: 0s - loss: 0.4702 - accuracy: 0.7891\n",
      "Epoch 140: saving model to model/keypoint_classifier/keypoint_classifier.hdf5\n",
      "31/31 [==============================] - 0s 2ms/step - loss: 0.4798 - accuracy: 0.7987 - val_loss: 0.2431 - val_accuracy: 0.9606\n",
      "Epoch 141/1000\n",
      " 1/31 [..............................] - ETA: 0s - loss: 0.5297 - accuracy: 0.7891\n",
      "Epoch 141: saving model to model/keypoint_classifier/keypoint_classifier.hdf5\n",
      "31/31 [==============================] - 0s 2ms/step - loss: 0.4725 - accuracy: 0.8068 - val_loss: 0.2539 - val_accuracy: 0.9553\n",
      "Epoch 142/1000\n",
      " 1/31 [..............................] - ETA: 0s - loss: 0.3594 - accuracy: 0.8984\n",
      "Epoch 142: saving model to model/keypoint_classifier/keypoint_classifier.hdf5\n",
      "31/31 [==============================] - 0s 1ms/step - loss: 0.4755 - accuracy: 0.7994 - val_loss: 0.2498 - val_accuracy: 0.9629\n",
      "Epoch 143/1000\n",
      " 1/31 [..............................] - ETA: 0s - loss: 0.5815 - accuracy: 0.7422\n",
      "Epoch 143: saving model to model/keypoint_classifier/keypoint_classifier.hdf5\n",
      "31/31 [==============================] - 0s 1ms/step - loss: 0.4861 - accuracy: 0.7992 - val_loss: 0.2481 - val_accuracy: 0.9636\n",
      "Epoch 143: early stopping\n"
     ]
    },
    {
     "data": {
      "text/plain": [
       "<keras.src.callbacks.History at 0x29af458b0>"
      ]
     },
     "execution_count": 11,
     "metadata": {},
     "output_type": "execute_result"
    }
   ],
   "source": [
    "model.fit(\n",
    "    X_train,\n",
    "    y_train,\n",
    "    epochs=1000,\n",
    "    batch_size=128,\n",
    "    validation_data=(X_test, y_test),\n",
    "    callbacks=[cp_callback, es_callback]\n",
    ")"
   ]
  },
  {
   "cell_type": "code",
   "execution_count": 12,
   "metadata": {},
   "outputs": [
    {
     "name": "stdout",
     "output_type": "stream",
     "text": [
      "11/11 [==============================] - 0s 601us/step - loss: 0.2481 - accuracy: 0.9636\n"
     ]
    }
   ],
   "source": [
    "# モデル評価\n",
    "val_loss, val_acc = model.evaluate(X_test, y_test, batch_size=128)"
   ]
  },
  {
   "cell_type": "code",
   "execution_count": 13,
   "metadata": {},
   "outputs": [],
   "source": [
    "# 保存したモデルのロード\n",
    "model = tf.keras.models.load_model(model_save_path)"
   ]
  },
  {
   "cell_type": "code",
   "execution_count": 14,
   "metadata": {},
   "outputs": [
    {
     "name": "stdout",
     "output_type": "stream",
     "text": [
      "1/1 [==============================] - 0s 51ms/step\n",
      "[9.7201860e-01 2.0187873e-02 2.5206334e-11 7.7935057e-03 6.6021986e-11\n",
      " 1.7048263e-08]\n",
      "0\n"
     ]
    }
   ],
   "source": [
    "# 推論テスト\n",
    "predict_result = model.predict(np.array([X_test[0]]))\n",
    "print(np.squeeze(predict_result))\n",
    "print(np.argmax(np.squeeze(predict_result)))"
   ]
  },
  {
   "cell_type": "markdown",
   "metadata": {},
   "source": [
    "# 混同行列"
   ]
  },
  {
   "cell_type": "code",
   "execution_count": 15,
   "metadata": {},
   "outputs": [
    {
     "name": "stdout",
     "output_type": "stream",
     "text": [
      "42/42 [==============================] - 0s 511us/step\n"
     ]
    },
    {
     "data": {
      "image/png": "[encoded data removed]",
      "text/plain": [
       "<Figure size 700x600 with 2 Axes>"
      ]
     },
     "metadata": {},
     "output_type": "display_data"
    },
    {
     "name": "stdout",
     "output_type": "stream",
     "text": [
      "Classification Report\n",
      "              precision    recall  f1-score   support\n",
      "\n",
      "           0       0.97      0.97      0.97       407\n",
      "           1       0.98      0.96      0.97       370\n",
      "           3       0.90      0.92      0.91        77\n",
      "           4       0.93      0.97      0.95       225\n",
      "           5       0.97      0.97      0.97       241\n",
      "\n",
      "    accuracy                           0.96      1320\n",
      "   macro avg       0.95      0.96      0.95      1320\n",
      "weighted avg       0.96      0.96      0.96      1320\n",
      "\n"
     ]
    }
   ],
   "source": [
    "import pandas as pd\n",
    "import seaborn as sns\n",
    "import matplotlib.pyplot as plt\n",
    "from sklearn.metrics import confusion_matrix, classification_report\n",
    "\n",
    "def print_confusion_matrix(y_true, y_pred, report=True):\n",
    "    labels = sorted(list(set(y_true)))\n",
    "    cmx_data = confusion_matrix(y_true, y_pred, labels=labels)\n",
    "    \n",
    "    df_cmx = pd.DataFrame(cmx_data, index=labels, columns=labels)\n",
    " \n",
    "    fig, ax = plt.subplots(figsize=(7, 6))\n",
    "    sns.heatmap(df_cmx, annot=True, fmt='g' ,square=False)\n",
    "    ax.set_ylim(len(set(y_true)), 0)\n",
    "    plt.show()\n",
    "    \n",
    "    if report:\n",
    "        print('Classification Report')\n",
    "        print(classification_report(y_test, y_pred))\n",
    "\n",
    "Y_pred = model.predict(X_test)\n",
    "y_pred = np.argmax(Y_pred, axis=1)\n",
    "\n",
    "print_confusion_matrix(y_test, y_pred)"
   ]
  },
  {
   "cell_type": "markdown",
   "metadata": {},
   "source": [
    "# Tensorflow-Lite用のモデルへ変換"
   ]
  },
  {
   "cell_type": "code",
   "execution_count": 16,
   "metadata": {},
   "outputs": [
    {
     "name": "stderr",
     "output_type": "stream",
     "text": [
      "/Users/nathanchen/Library/Python/3.9/lib/python/site-packages/keras/src/engine/training.py:3000: UserWarning: You are saving your model as an HDF5 file via `model.save()`. This file format is considered legacy. We recommend using instead the native Keras format, e.g. `model.save('my_model.keras')`.\n",
      "  saving_api.save_model(\n"
     ]
    }
   ],
   "source": [
    "# 推論専用のモデルとして保存\n",
    "model.save(model_save_path, include_optimizer=False)"
   ]
  },
  {
   "cell_type": "code",
   "execution_count": 17,
   "metadata": {},
   "outputs": [
    {
     "name": "stdout",
     "output_type": "stream",
     "text": [
      "INFO:tensorflow:Assets written to: /var/folders/fw/pp7153d102j6wdlj_0mzpm740000gn/T/tmpk2dam3cz/assets\n"
     ]
    },
    {
     "name": "stderr",
     "output_type": "stream",
     "text": [
      "INFO:tensorflow:Assets written to: /var/folders/fw/pp7153d102j6wdlj_0mzpm740000gn/T/tmpk2dam3cz/assets\n",
      "2023-08-11 12:44:26.406093: W tensorflow/compiler/mlir/lite/python/tf_tfl_flatbuffer_helpers.cc:364] Ignored output_format.\n",
      "2023-08-11 12:44:26.406291: W tensorflow/compiler/mlir/lite/python/tf_tfl_flatbuffer_helpers.cc:367] Ignored drop_control_dependency.\n",
      "2023-08-11 12:44:26.407100: I tensorflow/cc/saved_model/reader.cc:45] Reading SavedModel from: /var/folders/fw/pp7153d102j6wdlj_0mzpm740000gn/T/tmpk2dam3cz\n",
      "2023-08-11 12:44:26.407994: I tensorflow/cc/saved_model/reader.cc:91] Reading meta graph with tags { serve }\n",
      "2023-08-11 12:44:26.408001: I tensorflow/cc/saved_model/reader.cc:132] Reading SavedModel debug info (if present) from: /var/folders/fw/pp7153d102j6wdlj_0mzpm740000gn/T/tmpk2dam3cz\n",
      "2023-08-11 12:44:26.410813: I tensorflow/compiler/mlir/mlir_graph_optimization_pass.cc:375] MLIR V1 optimization pass is not enabled\n",
      "2023-08-11 12:44:26.411803: I tensorflow/cc/saved_model/loader.cc:231] Restoring SavedModel bundle.\n",
      "2023-08-11 12:44:26.449903: I tensorflow/cc/saved_model/loader.cc:215] Running initialization op on SavedModel bundle at path: /var/folders/fw/pp7153d102j6wdlj_0mzpm740000gn/T/tmpk2dam3cz\n",
      "2023-08-11 12:44:26.460106: I tensorflow/cc/saved_model/loader.cc:314] SavedModel load for tags { serve }; Status: success: OK. Took 53007 microseconds.\n",
      "2023-08-11 12:44:26.483617: I tensorflow/compiler/mlir/tensorflow/utils/dump_mlir_util.cc:255] disabling MLIR crash reproducer, set env var `MLIR_CRASH_REPRODUCER_DIRECTORY` to enable.\n"
     ]
    },
    {
     "data": {
      "text/plain": [
       "6632"
      ]
     },
     "execution_count": 17,
     "metadata": {},
     "output_type": "execute_result"
    }
   ],
   "source": [
    "# モデルを変換(量子化)\n",
    "tflite_save_path = 'model/keypoint_classifier/keypoint_classifier.tflite'\n",
    "\n",
    "converter = tf.lite.TFLiteConverter.from_keras_model(model)\n",
    "converter.optimizations = [tf.lite.Optimize.DEFAULT]\n",
    "tflite_quantized_model = converter.convert()\n",
    "\n",
    "open(tflite_save_path, 'wb').write(tflite_quantized_model)"
   ]
  },
  {
   "cell_type": "markdown",
   "metadata": {},
   "source": [
    "# 推論テスト"
   ]
  },
  {
   "cell_type": "code",
   "execution_count": 18,
   "metadata": {},
   "outputs": [
    {
     "name": "stderr",
     "output_type": "stream",
     "text": [
      "INFO: Created TensorFlow Lite XNNPACK delegate for CPU.\n"
     ]
    }
   ],
   "source": [
    "interpreter = tf.lite.Interpreter(model_path=tflite_save_path)\n",
    "interpreter.allocate_tensors()"
   ]
  },
  {
   "cell_type": "code",
   "execution_count": 19,
   "metadata": {},
   "outputs": [],
   "source": [
    "# 入出力テンソルを取得\n",
    "input_details = interpreter.get_input_details()\n",
    "output_details = interpreter.get_output_details()"
   ]
  },
  {
   "cell_type": "code",
   "execution_count": 20,
   "metadata": {},
   "outputs": [],
   "source": [
    "interpreter.set_tensor(input_details[0]['index'], np.array([X_test[0]]))"
   ]
  },
  {
   "cell_type": "code",
   "execution_count": 21,
   "metadata": {
    "scrolled": true
   },
   "outputs": [
    {
     "name": "stdout",
     "output_type": "stream",
     "text": [
      "CPU times: user 243 µs, sys: 244 µs, total: 487 µs\n",
      "Wall time: 330 µs\n"
     ]
    }
   ],
   "source": [
    "%%time\n",
    "# 推論実施\n",
    "interpreter.invoke()\n",
    "tflite_results = interpreter.get_tensor(output_details[0]['index'])"
   ]
  },
  {
   "cell_type": "code",
   "execution_count": 22,
   "metadata": {},
   "outputs": [
    {
     "name": "stdout",
     "output_type": "stream",
     "text": [
      "[9.7201860e-01 2.0187864e-02 2.5206334e-11 7.7935057e-03 6.6022118e-11\n",
      " 1.7048295e-08]\n",
      "0\n"
     ]
    }
   ],
   "source": [
    "print(np.squeeze(tflite_results))\n",
    "print(np.argmax(np.squeeze(tflite_results)))"
   ]
  }
 ],
 "metadata": {
  "kernelspec": {
   "display_name": "Python 3",
   "language": "python",
   "name": "python3"
  },
  "language_info": {
   "codemirror_mode": {
    "name": "ipython",
    "version": 3
   },
   "file_extension": ".py",
   "mimetype": "text/x-python",
   "name": "python",
   "nbconvert_exporter": "python",
   "pygments_lexer": "ipython3",
   "version": "3.9.6"
  }
 },
 "nbformat": 4,
 "nbformat_minor": 4
}
