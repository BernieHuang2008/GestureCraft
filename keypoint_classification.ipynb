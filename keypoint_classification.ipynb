{
 "cells": [
  {
   "cell_type": "code",
   "execution_count": 1,
   "metadata": {},
   "outputs": [],
   "source": [
    "import csv\n",
    "\n",
    "import numpy as np\n",
    "import tensorflow as tf\n",
    "from sklearn.model_selection import train_test_split\n",
    "\n",
    "RANDOM_SEED = 42"
   ]
  },
  {
   "cell_type": "markdown",
   "metadata": {},
   "source": [
    "# 各パス指定"
   ]
  },
  {
   "cell_type": "code",
   "execution_count": 2,
   "metadata": {},
   "outputs": [],
   "source": [
    "dataset = 'model/keypoint_classifier/keypoint.csv'\n",
    "model_save_path = 'model/keypoint_classifier/keypoint_classifier.hdf5'"
   ]
  },
  {
   "cell_type": "markdown",
   "metadata": {},
   "source": [
    "# 分類数設定"
   ]
  },
  {
   "cell_type": "code",
   "execution_count": 3,
   "metadata": {},
   "outputs": [],
   "source": [
    "NUM_CLASSES = 6"
   ]
  },
  {
   "cell_type": "markdown",
   "metadata": {},
   "source": [
    "# 学習データ読み込み"
   ]
  },
  {
   "cell_type": "code",
   "execution_count": 4,
   "metadata": {},
   "outputs": [],
   "source": [
    "X_dataset = np.loadtxt(dataset, delimiter=',', dtype='float32', usecols=list(range(1, (21 * 2) + 1)))"
   ]
  },
  {
   "cell_type": "code",
   "execution_count": 5,
   "metadata": {},
   "outputs": [],
   "source": [
    "y_dataset = np.loadtxt(dataset, delimiter=',', dtype='int32', usecols=(0))"
   ]
  },
  {
   "cell_type": "code",
   "execution_count": 6,
   "metadata": {},
   "outputs": [],
   "source": [
    "X_train, X_test, y_train, y_test = train_test_split(X_dataset, y_dataset, train_size=0.75, random_state=RANDOM_SEED)"
   ]
  },
  {
   "cell_type": "markdown",
   "metadata": {},
   "source": [
    "# モデル構築"
   ]
  },
  {
   "cell_type": "code",
   "execution_count": 7,
   "metadata": {},
   "outputs": [],
   "source": [
    "model = tf.keras.models.Sequential([\n",
    "    tf.keras.layers.Input((21 * 2, )),\n",
    "    tf.keras.layers.Dropout(0.2),\n",
    "    tf.keras.layers.Dense(20, activation='relu'),\n",
    "    tf.keras.layers.Dropout(0.4),\n",
    "    tf.keras.layers.Dense(10, activation='relu'),\n",
    "    tf.keras.layers.Dense(NUM_CLASSES, activation='softmax')\n",
    "])"
   ]
  },
  {
   "cell_type": "code",
   "execution_count": 8,
   "metadata": {},
   "outputs": [
    {
     "name": "stdout",
     "output_type": "stream",
     "text": [
      "Model: \"sequential\"\n",
      "_________________________________________________________________\n",
      " Layer (type)                Output Shape              Param #   \n",
      "=================================================================\n",
      " dropout (Dropout)           (None, 42)                0         \n",
      "                                                                 \n",
      " dense (Dense)               (None, 20)                860       \n",
      "                                                                 \n",
      " dropout_1 (Dropout)         (None, 20)                0         \n",
      "                                                                 \n",
      " dense_1 (Dense)             (None, 10)                210       \n",
      "                                                                 \n",
      " dense_2 (Dense)             (None, 6)                 66        \n",
      "                                                                 \n",
      "=================================================================\n",
      "Total params: 1136 (4.44 KB)\n",
      "Trainable params: 1136 (4.44 KB)\n",
      "Non-trainable params: 0 (0.00 Byte)\n",
      "_________________________________________________________________\n"
     ]
    }
   ],
   "source": [
    "model.summary()  # tf.keras.utils.plot_model(model, show_shapes=True)"
   ]
  },
  {
   "cell_type": "code",
   "execution_count": 9,
   "metadata": {},
   "outputs": [],
   "source": [
    "# モデルチェックポイントのコールバック\n",
    "cp_callback = tf.keras.callbacks.ModelCheckpoint(\n",
    "    model_save_path, verbose=1, save_weights_only=False)\n",
    "# 早期打ち切り用コールバック\n",
    "es_callback = tf.keras.callbacks.EarlyStopping(patience=20, verbose=1)"
   ]
  },
  {
   "cell_type": "code",
   "execution_count": 10,
   "metadata": {},
   "outputs": [],
   "source": [
    "# モデルコンパイル\n",
    "model.compile(\n",
    "    optimizer='adam',\n",
    "    loss='sparse_categorical_crossentropy',\n",
    "    metrics=['accuracy']\n",
    ")"
   ]
  },
  {
   "cell_type": "markdown",
   "metadata": {},
   "source": [
    "# モデル訓練"
   ]
  },
  {
   "cell_type": "code",
   "execution_count": 11,
   "metadata": {
    "scrolled": true
   },
   "outputs": [
    {
     "name": "stdout",
     "output_type": "stream",
     "text": [
      "Epoch 1/1000\n",
      " 1/44 [..............................] - ETA: 11s - loss: 1.9675 - accuracy: 0.3281\n",
      "Epoch 1: saving model to model/keypoint_classifier/keypoint_classifier.hdf5\n",
      "44/44 [==============================] - 0s 4ms/step - loss: 1.7733 - accuracy: 0.3212 - val_loss: 1.6257 - val_accuracy: 0.3348\n",
      "Epoch 2/1000\n",
      " 1/44 [..............................] - ETA: 0s - loss: 1.6940 - accuracy: 0.3047\n",
      "Epoch 2: saving model to model/keypoint_classifier/keypoint_classifier.hdf5\n",
      "44/44 [==============================] - 0s 1ms/step - loss: 1.5849 - accuracy: 0.3447 - val_loss: 1.4507 - val_accuracy: 0.4610\n",
      "Epoch 3/1000\n",
      " 1/44 [..............................] - ETA: 0s - loss: 1.4771 - accuracy: 0.4062\n",
      "Epoch 3: saving model to model/keypoint_classifier/keypoint_classifier.hdf5\n",
      "44/44 [==============================] - 0s 1ms/step - loss: 1.4556 - accuracy: 0.4024 - val_loss: 1.3173 - val_accuracy: 0.5078\n",
      "Epoch 4/1000\n",
      " 1/44 [..............................] - ETA: 0s - loss: 1.3677 - accuracy: 0.4531\n",
      "Epoch 4: saving model to model/keypoint_classifier/keypoint_classifier.hdf5\n",
      "44/44 [==============================] - 0s 1ms/step - loss: 1.3409 - accuracy: 0.4577 - val_loss: 1.1623 - val_accuracy: 0.6314\n",
      "Epoch 5/1000\n",
      " 1/44 [..............................] - ETA: 0s - loss: 1.2962 - accuracy: 0.4453"
     ]
    },
    {
     "name": "stderr",
     "output_type": "stream",
     "text": [
      "/Users/nathanchen/Library/Python/3.9/lib/python/site-packages/keras/src/engine/training.py:3000: UserWarning: You are saving your model as an HDF5 file via `model.save()`. This file format is considered legacy. We recommend using instead the native Keras format, e.g. `model.save('my_model.keras')`.\n",
      "  saving_api.save_model(\n"
     ]
    },
    {
     "name": "stdout",
     "output_type": "stream",
     "text": [
      "\n",
      "Epoch 5: saving model to model/keypoint_classifier/keypoint_classifier.hdf5\n",
      "44/44 [==============================] - 0s 1ms/step - loss: 1.2385 - accuracy: 0.4912 - val_loss: 1.0323 - val_accuracy: 0.6136\n",
      "Epoch 6/1000\n",
      " 1/44 [..............................] - ETA: 0s - loss: 1.1642 - accuracy: 0.5078\n",
      "Epoch 6: saving model to model/keypoint_classifier/keypoint_classifier.hdf5\n",
      "44/44 [==============================] - 0s 1ms/step - loss: 1.1580 - accuracy: 0.5163 - val_loss: 0.9248 - val_accuracy: 0.7356\n",
      "Epoch 7/1000\n",
      " 1/44 [..............................] - ETA: 0s - loss: 1.0521 - accuracy: 0.5781\n",
      "Epoch 7: saving model to model/keypoint_classifier/keypoint_classifier.hdf5\n",
      "44/44 [==============================] - 0s 1ms/step - loss: 1.0863 - accuracy: 0.5369 - val_loss: 0.8437 - val_accuracy: 0.7716\n",
      "Epoch 8/1000\n",
      " 1/44 [..............................] - ETA: 0s - loss: 1.0597 - accuracy: 0.5703\n",
      "Epoch 8: saving model to model/keypoint_classifier/keypoint_classifier.hdf5\n",
      "44/44 [==============================] - 0s 1ms/step - loss: 1.0414 - accuracy: 0.5550 - val_loss: 0.7789 - val_accuracy: 0.7329\n",
      "Epoch 9/1000\n",
      " 1/44 [..............................] - ETA: 0s - loss: 0.9396 - accuracy: 0.5938\n",
      "Epoch 9: saving model to model/keypoint_classifier/keypoint_classifier.hdf5\n",
      "44/44 [==============================] - 0s 1ms/step - loss: 0.9948 - accuracy: 0.5761 - val_loss: 0.7326 - val_accuracy: 0.7636\n",
      "Epoch 10/1000\n",
      " 1/44 [..............................] - ETA: 0s - loss: 0.8954 - accuracy: 0.6641\n",
      "Epoch 10: saving model to model/keypoint_classifier/keypoint_classifier.hdf5\n",
      "44/44 [==============================] - 0s 1ms/step - loss: 0.9644 - accuracy: 0.5935 - val_loss: 0.6914 - val_accuracy: 0.7168\n",
      "Epoch 11/1000\n",
      " 1/44 [..............................] - ETA: 0s - loss: 0.8603 - accuracy: 0.6328\n",
      "Epoch 11: saving model to model/keypoint_classifier/keypoint_classifier.hdf5\n",
      "44/44 [==============================] - 0s 2ms/step - loss: 0.9136 - accuracy: 0.6059 - val_loss: 0.6560 - val_accuracy: 0.8168\n",
      "Epoch 12/1000\n",
      " 1/44 [..............................] - ETA: 0s - loss: 0.8395 - accuracy: 0.6406\n",
      "Epoch 12: saving model to model/keypoint_classifier/keypoint_classifier.hdf5\n",
      "44/44 [==============================] - 0s 1ms/step - loss: 0.8906 - accuracy: 0.6177 - val_loss: 0.6244 - val_accuracy: 0.8195\n",
      "Epoch 13/1000\n",
      " 1/44 [..............................] - ETA: 0s - loss: 0.9037 - accuracy: 0.5859\n",
      "Epoch 13: saving model to model/keypoint_classifier/keypoint_classifier.hdf5\n",
      "44/44 [==============================] - 0s 1ms/step - loss: 0.8850 - accuracy: 0.6177 - val_loss: 0.6088 - val_accuracy: 0.8119\n",
      "Epoch 14/1000\n",
      " 1/44 [..............................] - ETA: 0s - loss: 0.9132 - accuracy: 0.6562\n",
      "Epoch 14: saving model to model/keypoint_classifier/keypoint_classifier.hdf5\n",
      "44/44 [==============================] - 0s 1ms/step - loss: 0.8689 - accuracy: 0.6233 - val_loss: 0.5903 - val_accuracy: 0.8383\n",
      "Epoch 15/1000\n",
      " 1/44 [..............................] - ETA: 0s - loss: 0.8280 - accuracy: 0.6875\n",
      "Epoch 15: saving model to model/keypoint_classifier/keypoint_classifier.hdf5\n",
      "44/44 [==============================] - 0s 1ms/step - loss: 0.8449 - accuracy: 0.6440 - val_loss: 0.5701 - val_accuracy: 0.8372\n",
      "Epoch 16/1000\n",
      " 1/44 [..............................] - ETA: 0s - loss: 1.0091 - accuracy: 0.5781\n",
      "Epoch 16: saving model to model/keypoint_classifier/keypoint_classifier.hdf5\n",
      "44/44 [==============================] - 0s 1ms/step - loss: 0.8441 - accuracy: 0.6428 - val_loss: 0.5566 - val_accuracy: 0.8490\n",
      "Epoch 17/1000\n",
      " 1/44 [..............................] - ETA: 0s - loss: 0.7775 - accuracy: 0.6406\n",
      "Epoch 17: saving model to model/keypoint_classifier/keypoint_classifier.hdf5\n",
      "44/44 [==============================] - 0s 1ms/step - loss: 0.8075 - accuracy: 0.6576 - val_loss: 0.5388 - val_accuracy: 0.8495\n",
      "Epoch 18/1000\n",
      " 1/44 [..............................] - ETA: 0s - loss: 0.8231 - accuracy: 0.6562\n",
      "Epoch 18: saving model to model/keypoint_classifier/keypoint_classifier.hdf5\n",
      "44/44 [==============================] - 0s 1ms/step - loss: 0.7977 - accuracy: 0.6684 - val_loss: 0.5251 - val_accuracy: 0.8485\n",
      "Epoch 19/1000\n",
      " 1/44 [..............................] - ETA: 0s - loss: 0.8292 - accuracy: 0.6562\n",
      "Epoch 19: saving model to model/keypoint_classifier/keypoint_classifier.hdf5\n",
      "44/44 [==============================] - 0s 1ms/step - loss: 0.7958 - accuracy: 0.6582 - val_loss: 0.5175 - val_accuracy: 0.8651\n",
      "Epoch 20/1000\n",
      "44/44 [==============================] - ETA: 0s - loss: 0.7903 - accuracy: 0.6648\n",
      "Epoch 20: saving model to model/keypoint_classifier/keypoint_classifier.hdf5\n",
      "44/44 [==============================] - 0s 2ms/step - loss: 0.7903 - accuracy: 0.6648 - val_loss: 0.5117 - val_accuracy: 0.8608\n",
      "Epoch 21/1000\n",
      " 1/44 [..............................] - ETA: 0s - loss: 0.7887 - accuracy: 0.6328\n",
      "Epoch 21: saving model to model/keypoint_classifier/keypoint_classifier.hdf5\n",
      "44/44 [==============================] - 0s 1ms/step - loss: 0.7812 - accuracy: 0.6689 - val_loss: 0.5005 - val_accuracy: 0.8641\n",
      "Epoch 22/1000\n",
      " 1/44 [..............................] - ETA: 0s - loss: 0.6978 - accuracy: 0.7500\n",
      "Epoch 22: saving model to model/keypoint_classifier/keypoint_classifier.hdf5\n",
      "44/44 [==============================] - 0s 1ms/step - loss: 0.7585 - accuracy: 0.6763 - val_loss: 0.4877 - val_accuracy: 0.8716\n",
      "Epoch 23/1000\n",
      " 1/44 [..............................] - ETA: 0s - loss: 0.7220 - accuracy: 0.7031\n",
      "Epoch 23: saving model to model/keypoint_classifier/keypoint_classifier.hdf5\n",
      "44/44 [==============================] - 0s 1ms/step - loss: 0.7657 - accuracy: 0.6752 - val_loss: 0.4890 - val_accuracy: 0.8684\n",
      "Epoch 24/1000\n",
      " 1/44 [..............................] - ETA: 0s - loss: 0.6838 - accuracy: 0.7031\n",
      "Epoch 24: saving model to model/keypoint_classifier/keypoint_classifier.hdf5\n",
      "44/44 [==============================] - 0s 1ms/step - loss: 0.7505 - accuracy: 0.6865 - val_loss: 0.4759 - val_accuracy: 0.8732\n",
      "Epoch 25/1000\n",
      " 1/44 [..............................] - ETA: 0s - loss: 0.7015 - accuracy: 0.6875\n",
      "Epoch 25: saving model to model/keypoint_classifier/keypoint_classifier.hdf5\n",
      "44/44 [==============================] - 0s 1ms/step - loss: 0.7564 - accuracy: 0.6829 - val_loss: 0.4771 - val_accuracy: 0.8732\n",
      "Epoch 26/1000\n",
      " 1/44 [..............................] - ETA: 0s - loss: 0.6598 - accuracy: 0.7734\n",
      "Epoch 26: saving model to model/keypoint_classifier/keypoint_classifier.hdf5\n",
      "44/44 [==============================] - 0s 1ms/step - loss: 0.7410 - accuracy: 0.6929 - val_loss: 0.4698 - val_accuracy: 0.8732\n",
      "Epoch 27/1000\n",
      " 1/44 [..............................] - ETA: 0s - loss: 0.6828 - accuracy: 0.7109\n",
      "Epoch 27: saving model to model/keypoint_classifier/keypoint_classifier.hdf5\n",
      "44/44 [==============================] - 0s 1ms/step - loss: 0.7317 - accuracy: 0.6913 - val_loss: 0.4597 - val_accuracy: 0.8764\n",
      "Epoch 28/1000\n",
      " 1/44 [..............................] - ETA: 0s - loss: 0.7777 - accuracy: 0.6953\n",
      "Epoch 28: saving model to model/keypoint_classifier/keypoint_classifier.hdf5\n",
      "44/44 [==============================] - 0s 1ms/step - loss: 0.7499 - accuracy: 0.6847 - val_loss: 0.4593 - val_accuracy: 0.8764\n",
      "Epoch 29/1000\n",
      " 1/44 [..............................] - ETA: 0s - loss: 0.7228 - accuracy: 0.7031\n",
      "Epoch 29: saving model to model/keypoint_classifier/keypoint_classifier.hdf5\n",
      "44/44 [==============================] - 0s 2ms/step - loss: 0.7319 - accuracy: 0.6931 - val_loss: 0.4555 - val_accuracy: 0.8850\n",
      "Epoch 30/1000\n",
      " 1/44 [..............................] - ETA: 0s - loss: 0.6388 - accuracy: 0.7188\n",
      "Epoch 30: saving model to model/keypoint_classifier/keypoint_classifier.hdf5\n",
      "44/44 [==============================] - 0s 1ms/step - loss: 0.7228 - accuracy: 0.6983 - val_loss: 0.4513 - val_accuracy: 0.8866\n",
      "Epoch 31/1000\n",
      " 1/44 [..............................] - ETA: 0s - loss: 0.7152 - accuracy: 0.7266\n",
      "Epoch 31: saving model to model/keypoint_classifier/keypoint_classifier.hdf5\n",
      "44/44 [==============================] - 0s 1ms/step - loss: 0.7152 - accuracy: 0.6935 - val_loss: 0.4378 - val_accuracy: 0.8898\n",
      "Epoch 32/1000\n",
      " 1/44 [..............................] - ETA: 0s - loss: 0.6681 - accuracy: 0.7344\n",
      "Epoch 32: saving model to model/keypoint_classifier/keypoint_classifier.hdf5\n",
      "44/44 [==============================] - 0s 1ms/step - loss: 0.7093 - accuracy: 0.7030 - val_loss: 0.4371 - val_accuracy: 0.8850\n",
      "Epoch 33/1000\n",
      " 1/44 [..............................] - ETA: 0s - loss: 0.6783 - accuracy: 0.6719\n",
      "Epoch 33: saving model to model/keypoint_classifier/keypoint_classifier.hdf5\n",
      "44/44 [==============================] - 0s 1ms/step - loss: 0.6953 - accuracy: 0.7075 - val_loss: 0.4300 - val_accuracy: 0.8888\n",
      "Epoch 34/1000\n",
      " 1/44 [..............................] - ETA: 0s - loss: 0.6530 - accuracy: 0.7266\n",
      "Epoch 34: saving model to model/keypoint_classifier/keypoint_classifier.hdf5\n",
      "44/44 [==============================] - 0s 1ms/step - loss: 0.7073 - accuracy: 0.7051 - val_loss: 0.4251 - val_accuracy: 0.8941\n",
      "Epoch 35/1000\n",
      " 1/44 [..............................] - ETA: 0s - loss: 0.7074 - accuracy: 0.6953\n",
      "Epoch 35: saving model to model/keypoint_classifier/keypoint_classifier.hdf5\n",
      "44/44 [==============================] - 0s 1ms/step - loss: 0.7034 - accuracy: 0.6980 - val_loss: 0.4219 - val_accuracy: 0.8968\n",
      "Epoch 36/1000\n",
      " 1/44 [..............................] - ETA: 0s - loss: 0.7069 - accuracy: 0.7266\n",
      "Epoch 36: saving model to model/keypoint_classifier/keypoint_classifier.hdf5\n",
      "44/44 [==============================] - 0s 1ms/step - loss: 0.7019 - accuracy: 0.7107 - val_loss: 0.4229 - val_accuracy: 0.8963\n",
      "Epoch 37/1000\n",
      " 1/44 [..............................] - ETA: 0s - loss: 0.7455 - accuracy: 0.6641\n",
      "Epoch 37: saving model to model/keypoint_classifier/keypoint_classifier.hdf5\n",
      "44/44 [==============================] - 0s 1ms/step - loss: 0.6834 - accuracy: 0.7150 - val_loss: 0.4156 - val_accuracy: 0.8925\n",
      "Epoch 38/1000\n",
      " 1/44 [..............................] - ETA: 0s - loss: 0.8782 - accuracy: 0.6797\n",
      "Epoch 38: saving model to model/keypoint_classifier/keypoint_classifier.hdf5\n",
      "44/44 [==============================] - 0s 1ms/step - loss: 0.6703 - accuracy: 0.7162 - val_loss: 0.4085 - val_accuracy: 0.8915\n",
      "Epoch 39/1000\n",
      " 1/44 [..............................] - ETA: 0s - loss: 0.6040 - accuracy: 0.7188\n",
      "Epoch 39: saving model to model/keypoint_classifier/keypoint_classifier.hdf5\n",
      "44/44 [==============================] - 0s 1ms/step - loss: 0.6807 - accuracy: 0.7118 - val_loss: 0.4118 - val_accuracy: 0.8915\n",
      "Epoch 40/1000\n",
      " 1/44 [..............................] - ETA: 0s - loss: 0.6870 - accuracy: 0.7422\n",
      "Epoch 40: saving model to model/keypoint_classifier/keypoint_classifier.hdf5\n",
      "44/44 [==============================] - 0s 2ms/step - loss: 0.6846 - accuracy: 0.7220 - val_loss: 0.4072 - val_accuracy: 0.8931\n",
      "Epoch 41/1000\n",
      " 1/44 [..............................] - ETA: 0s - loss: 0.6582 - accuracy: 0.6953\n",
      "Epoch 41: saving model to model/keypoint_classifier/keypoint_classifier.hdf5\n",
      "44/44 [==============================] - 0s 1ms/step - loss: 0.6766 - accuracy: 0.7132 - val_loss: 0.4029 - val_accuracy: 0.8941\n",
      "Epoch 42/1000\n",
      " 1/44 [..............................] - ETA: 0s - loss: 0.6214 - accuracy: 0.6875\n",
      "Epoch 42: saving model to model/keypoint_classifier/keypoint_classifier.hdf5\n",
      "44/44 [==============================] - 0s 1ms/step - loss: 0.6734 - accuracy: 0.7187 - val_loss: 0.4015 - val_accuracy: 0.9006\n",
      "Epoch 43/1000\n",
      " 1/44 [..............................] - ETA: 0s - loss: 0.6477 - accuracy: 0.7266\n",
      "Epoch 43: saving model to model/keypoint_classifier/keypoint_classifier.hdf5\n",
      "44/44 [==============================] - 0s 1ms/step - loss: 0.6702 - accuracy: 0.7195 - val_loss: 0.3979 - val_accuracy: 0.8990\n",
      "Epoch 44/1000\n",
      " 1/44 [..............................] - ETA: 0s - loss: 0.6303 - accuracy: 0.7578\n",
      "Epoch 44: saving model to model/keypoint_classifier/keypoint_classifier.hdf5\n",
      "44/44 [==============================] - 0s 1ms/step - loss: 0.6724 - accuracy: 0.7196 - val_loss: 0.4045 - val_accuracy: 0.8979\n",
      "Epoch 45/1000\n",
      " 1/44 [..............................] - ETA: 0s - loss: 0.6343 - accuracy: 0.7422\n",
      "Epoch 45: saving model to model/keypoint_classifier/keypoint_classifier.hdf5\n",
      "44/44 [==============================] - 0s 1ms/step - loss: 0.6537 - accuracy: 0.7266 - val_loss: 0.3915 - val_accuracy: 0.8984\n",
      "Epoch 46/1000\n",
      " 1/44 [..............................] - ETA: 0s - loss: 0.6041 - accuracy: 0.7891\n",
      "Epoch 46: saving model to model/keypoint_classifier/keypoint_classifier.hdf5\n",
      "44/44 [==============================] - 0s 1ms/step - loss: 0.6619 - accuracy: 0.7254 - val_loss: 0.3886 - val_accuracy: 0.9044\n",
      "Epoch 47/1000\n",
      " 1/44 [..............................] - ETA: 0s - loss: 0.6362 - accuracy: 0.7500\n",
      "Epoch 47: saving model to model/keypoint_classifier/keypoint_classifier.hdf5\n",
      "44/44 [==============================] - 0s 1ms/step - loss: 0.6593 - accuracy: 0.7259 - val_loss: 0.3933 - val_accuracy: 0.8909\n",
      "Epoch 48/1000\n",
      " 1/44 [..............................] - ETA: 0s - loss: 0.5770 - accuracy: 0.7891\n",
      "Epoch 48: saving model to model/keypoint_classifier/keypoint_classifier.hdf5\n",
      "44/44 [==============================] - 0s 1ms/step - loss: 0.6434 - accuracy: 0.7327 - val_loss: 0.3842 - val_accuracy: 0.9017\n",
      "Epoch 49/1000\n",
      " 1/44 [..............................] - ETA: 0s - loss: 0.6519 - accuracy: 0.7188\n",
      "Epoch 49: saving model to model/keypoint_classifier/keypoint_classifier.hdf5\n",
      "44/44 [==============================] - 0s 1ms/step - loss: 0.6484 - accuracy: 0.7320 - val_loss: 0.3838 - val_accuracy: 0.9017\n",
      "Epoch 50/1000\n",
      " 1/44 [..............................] - ETA: 0s - loss: 0.7659 - accuracy: 0.6641\n",
      "Epoch 50: saving model to model/keypoint_classifier/keypoint_classifier.hdf5\n",
      "44/44 [==============================] - 0s 1ms/step - loss: 0.6218 - accuracy: 0.7496 - val_loss: 0.3770 - val_accuracy: 0.9113\n",
      "Epoch 51/1000\n",
      " 1/44 [..............................] - ETA: 0s - loss: 0.6730 - accuracy: 0.7500\n",
      "Epoch 51: saving model to model/keypoint_classifier/keypoint_classifier.hdf5\n",
      "44/44 [==============================] - 0s 1ms/step - loss: 0.6340 - accuracy: 0.7340 - val_loss: 0.3763 - val_accuracy: 0.9054\n",
      "Epoch 52/1000\n",
      " 1/44 [..............................] - ETA: 0s - loss: 0.6335 - accuracy: 0.7109\n",
      "Epoch 52: saving model to model/keypoint_classifier/keypoint_classifier.hdf5\n",
      "44/44 [==============================] - 0s 2ms/step - loss: 0.6223 - accuracy: 0.7501 - val_loss: 0.3753 - val_accuracy: 0.8963\n",
      "Epoch 53/1000\n",
      " 1/44 [..............................] - ETA: 0s - loss: 0.6025 - accuracy: 0.7656\n",
      "Epoch 53: saving model to model/keypoint_classifier/keypoint_classifier.hdf5\n",
      "44/44 [==============================] - 0s 1ms/step - loss: 0.6355 - accuracy: 0.7368 - val_loss: 0.3700 - val_accuracy: 0.9065\n",
      "Epoch 54/1000\n",
      " 1/44 [..............................] - ETA: 0s - loss: 0.7289 - accuracy: 0.7031\n",
      "Epoch 54: saving model to model/keypoint_classifier/keypoint_classifier.hdf5\n",
      "44/44 [==============================] - 0s 1ms/step - loss: 0.6183 - accuracy: 0.7461 - val_loss: 0.3677 - val_accuracy: 0.9103\n",
      "Epoch 55/1000\n",
      " 1/44 [..............................] - ETA: 0s - loss: 0.7352 - accuracy: 0.6797\n",
      "Epoch 55: saving model to model/keypoint_classifier/keypoint_classifier.hdf5\n",
      "44/44 [==============================] - 0s 1ms/step - loss: 0.6273 - accuracy: 0.7506 - val_loss: 0.3726 - val_accuracy: 0.8839\n",
      "Epoch 56/1000\n",
      " 1/44 [..............................] - ETA: 0s - loss: 0.6476 - accuracy: 0.7266\n",
      "Epoch 56: saving model to model/keypoint_classifier/keypoint_classifier.hdf5\n",
      "44/44 [==============================] - 0s 1ms/step - loss: 0.6039 - accuracy: 0.7630 - val_loss: 0.3561 - val_accuracy: 0.9087\n",
      "Epoch 57/1000\n",
      " 1/44 [..............................] - ETA: 0s - loss: 0.6011 - accuracy: 0.7344\n",
      "Epoch 57: saving model to model/keypoint_classifier/keypoint_classifier.hdf5\n",
      "44/44 [==============================] - 0s 1ms/step - loss: 0.6285 - accuracy: 0.7435 - val_loss: 0.3736 - val_accuracy: 0.8931\n",
      "Epoch 58/1000\n",
      " 1/44 [..............................] - ETA: 0s - loss: 0.5940 - accuracy: 0.7578\n",
      "Epoch 58: saving model to model/keypoint_classifier/keypoint_classifier.hdf5\n",
      "44/44 [==============================] - 0s 1ms/step - loss: 0.6360 - accuracy: 0.7460 - val_loss: 0.3650 - val_accuracy: 0.8958\n",
      "Epoch 59/1000\n",
      " 1/44 [..............................] - ETA: 0s - loss: 0.6141 - accuracy: 0.7188\n",
      "Epoch 59: saving model to model/keypoint_classifier/keypoint_classifier.hdf5\n",
      "44/44 [==============================] - 0s 1ms/step - loss: 0.6217 - accuracy: 0.7501 - val_loss: 0.3589 - val_accuracy: 0.9022\n",
      "Epoch 60/1000\n",
      " 1/44 [..............................] - ETA: 0s - loss: 0.7094 - accuracy: 0.7344\n",
      "Epoch 60: saving model to model/keypoint_classifier/keypoint_classifier.hdf5\n",
      "44/44 [==============================] - 0s 1ms/step - loss: 0.6247 - accuracy: 0.7388 - val_loss: 0.3623 - val_accuracy: 0.8968\n",
      "Epoch 61/1000\n",
      " 1/44 [..............................] - ETA: 0s - loss: 0.6339 - accuracy: 0.7109\n",
      "Epoch 61: saving model to model/keypoint_classifier/keypoint_classifier.hdf5\n",
      "44/44 [==============================] - 0s 1ms/step - loss: 0.6203 - accuracy: 0.7521 - val_loss: 0.3569 - val_accuracy: 0.9033\n",
      "Epoch 62/1000\n",
      " 1/44 [..............................] - ETA: 0s - loss: 0.6043 - accuracy: 0.7500\n",
      "Epoch 62: saving model to model/keypoint_classifier/keypoint_classifier.hdf5\n",
      "44/44 [==============================] - 0s 1ms/step - loss: 0.6020 - accuracy: 0.7544 - val_loss: 0.3602 - val_accuracy: 0.8952\n",
      "Epoch 63/1000\n",
      " 1/44 [..............................] - ETA: 0s - loss: 0.7112 - accuracy: 0.6719\n",
      "Epoch 63: saving model to model/keypoint_classifier/keypoint_classifier.hdf5\n",
      "44/44 [==============================] - 0s 2ms/step - loss: 0.6093 - accuracy: 0.7569 - val_loss: 0.3523 - val_accuracy: 0.9054\n",
      "Epoch 64/1000\n",
      " 1/44 [..............................] - ETA: 0s - loss: 0.5980 - accuracy: 0.7422\n",
      "Epoch 64: saving model to model/keypoint_classifier/keypoint_classifier.hdf5\n",
      "44/44 [==============================] - 0s 1ms/step - loss: 0.6087 - accuracy: 0.7565 - val_loss: 0.3573 - val_accuracy: 0.9011\n",
      "Epoch 65/1000\n",
      " 1/44 [..............................] - ETA: 0s - loss: 0.6397 - accuracy: 0.7969\n",
      "Epoch 65: saving model to model/keypoint_classifier/keypoint_classifier.hdf5\n",
      "44/44 [==============================] - 0s 1ms/step - loss: 0.5978 - accuracy: 0.7657 - val_loss: 0.3411 - val_accuracy: 0.9038\n",
      "Epoch 66/1000\n",
      " 1/44 [..............................] - ETA: 0s - loss: 0.6029 - accuracy: 0.7500\n",
      "Epoch 66: saving model to model/keypoint_classifier/keypoint_classifier.hdf5\n",
      "44/44 [==============================] - 0s 1ms/step - loss: 0.5945 - accuracy: 0.7607 - val_loss: 0.3475 - val_accuracy: 0.8968\n",
      "Epoch 67/1000\n",
      " 1/44 [..............................] - ETA: 0s - loss: 0.4994 - accuracy: 0.8281\n",
      "Epoch 67: saving model to model/keypoint_classifier/keypoint_classifier.hdf5\n",
      "44/44 [==============================] - 0s 1ms/step - loss: 0.5760 - accuracy: 0.7750 - val_loss: 0.3399 - val_accuracy: 0.8963\n",
      "Epoch 68/1000\n",
      " 1/44 [..............................] - ETA: 0s - loss: 0.5117 - accuracy: 0.7891\n",
      "Epoch 68: saving model to model/keypoint_classifier/keypoint_classifier.hdf5\n",
      "44/44 [==============================] - 0s 1ms/step - loss: 0.5850 - accuracy: 0.7687 - val_loss: 0.3423 - val_accuracy: 0.8958\n",
      "Epoch 69/1000\n",
      " 1/44 [..............................] - ETA: 0s - loss: 0.5769 - accuracy: 0.7891\n",
      "Epoch 69: saving model to model/keypoint_classifier/keypoint_classifier.hdf5\n",
      "44/44 [==============================] - 0s 1ms/step - loss: 0.5912 - accuracy: 0.7608 - val_loss: 0.3516 - val_accuracy: 0.8904\n",
      "Epoch 70/1000\n",
      " 1/44 [..............................] - ETA: 0s - loss: 0.4851 - accuracy: 0.8125\n",
      "Epoch 70: saving model to model/keypoint_classifier/keypoint_classifier.hdf5\n",
      "44/44 [==============================] - 0s 1ms/step - loss: 0.5864 - accuracy: 0.7682 - val_loss: 0.3405 - val_accuracy: 0.8807\n",
      "Epoch 71/1000\n",
      " 1/44 [..............................] - ETA: 0s - loss: 0.6331 - accuracy: 0.8203\n",
      "Epoch 71: saving model to model/keypoint_classifier/keypoint_classifier.hdf5\n",
      "44/44 [==============================] - 0s 1ms/step - loss: 0.5763 - accuracy: 0.7779 - val_loss: 0.3482 - val_accuracy: 0.8893\n",
      "Epoch 72/1000\n",
      " 1/44 [..............................] - ETA: 0s - loss: 0.5244 - accuracy: 0.7969\n",
      "Epoch 72: saving model to model/keypoint_classifier/keypoint_classifier.hdf5\n",
      "44/44 [==============================] - 0s 1ms/step - loss: 0.5564 - accuracy: 0.7775 - val_loss: 0.3426 - val_accuracy: 0.8904\n",
      "Epoch 73/1000\n",
      " 1/44 [..............................] - ETA: 0s - loss: 0.6205 - accuracy: 0.7812\n",
      "Epoch 73: saving model to model/keypoint_classifier/keypoint_classifier.hdf5\n",
      "44/44 [==============================] - 0s 1ms/step - loss: 0.5567 - accuracy: 0.7861 - val_loss: 0.3262 - val_accuracy: 0.9027\n",
      "Epoch 74/1000\n",
      " 1/44 [..............................] - ETA: 0s - loss: 0.5278 - accuracy: 0.8047\n",
      "Epoch 74: saving model to model/keypoint_classifier/keypoint_classifier.hdf5\n",
      "44/44 [==============================] - 0s 1ms/step - loss: 0.5744 - accuracy: 0.7748 - val_loss: 0.3419 - val_accuracy: 0.8888\n",
      "Epoch 75/1000\n",
      " 1/44 [..............................] - ETA: 0s - loss: 0.5306 - accuracy: 0.7969\n",
      "Epoch 75: saving model to model/keypoint_classifier/keypoint_classifier.hdf5\n",
      "44/44 [==============================] - 0s 1ms/step - loss: 0.5855 - accuracy: 0.7687 - val_loss: 0.3353 - val_accuracy: 0.9033\n",
      "Epoch 76/1000\n",
      " 1/44 [..............................] - ETA: 0s - loss: 0.6410 - accuracy: 0.7344\n",
      "Epoch 76: saving model to model/keypoint_classifier/keypoint_classifier.hdf5\n",
      "44/44 [==============================] - 0s 1ms/step - loss: 0.5644 - accuracy: 0.7784 - val_loss: 0.3327 - val_accuracy: 0.8866\n",
      "Epoch 77/1000\n",
      " 1/44 [..............................] - ETA: 0s - loss: 0.5395 - accuracy: 0.7422\n",
      "Epoch 77: saving model to model/keypoint_classifier/keypoint_classifier.hdf5\n",
      "44/44 [==============================] - 0s 1ms/step - loss: 0.5615 - accuracy: 0.7725 - val_loss: 0.3097 - val_accuracy: 0.9275\n",
      "Epoch 78/1000\n",
      " 1/44 [..............................] - ETA: 0s - loss: 0.4828 - accuracy: 0.8125\n",
      "Epoch 78: saving model to model/keypoint_classifier/keypoint_classifier.hdf5\n",
      "44/44 [==============================] - 0s 1ms/step - loss: 0.5658 - accuracy: 0.7755 - val_loss: 0.3388 - val_accuracy: 0.8732\n",
      "Epoch 79/1000\n",
      " 1/44 [..............................] - ETA: 0s - loss: 0.5185 - accuracy: 0.8047\n",
      "Epoch 79: saving model to model/keypoint_classifier/keypoint_classifier.hdf5\n",
      "44/44 [==============================] - 0s 1ms/step - loss: 0.5602 - accuracy: 0.7839 - val_loss: 0.3305 - val_accuracy: 0.8861\n",
      "Epoch 80/1000\n",
      " 1/44 [..............................] - ETA: 0s - loss: 0.4668 - accuracy: 0.7812\n",
      "Epoch 80: saving model to model/keypoint_classifier/keypoint_classifier.hdf5\n",
      "44/44 [==============================] - 0s 1ms/step - loss: 0.5548 - accuracy: 0.7856 - val_loss: 0.3304 - val_accuracy: 0.8791\n",
      "Epoch 81/1000\n",
      " 1/44 [..............................] - ETA: 0s - loss: 0.5954 - accuracy: 0.7422\n",
      "Epoch 81: saving model to model/keypoint_classifier/keypoint_classifier.hdf5\n",
      "44/44 [==============================] - 0s 1ms/step - loss: 0.5560 - accuracy: 0.7863 - val_loss: 0.3481 - val_accuracy: 0.8732\n",
      "Epoch 82/1000\n",
      " 1/44 [..............................] - ETA: 0s - loss: 0.6798 - accuracy: 0.7031\n",
      "Epoch 82: saving model to model/keypoint_classifier/keypoint_classifier.hdf5\n",
      "44/44 [==============================] - 0s 1ms/step - loss: 0.5501 - accuracy: 0.7931 - val_loss: 0.3265 - val_accuracy: 0.8839\n",
      "Epoch 83/1000\n",
      " 1/44 [..............................] - ETA: 0s - loss: 0.4437 - accuracy: 0.8516\n",
      "Epoch 83: saving model to model/keypoint_classifier/keypoint_classifier.hdf5\n",
      "44/44 [==============================] - 0s 1ms/step - loss: 0.5466 - accuracy: 0.7949 - val_loss: 0.3403 - val_accuracy: 0.8689\n",
      "Epoch 84/1000\n",
      " 1/44 [..............................] - ETA: 0s - loss: 0.4769 - accuracy: 0.8438\n",
      "Epoch 84: saving model to model/keypoint_classifier/keypoint_classifier.hdf5\n",
      "44/44 [==============================] - 0s 1ms/step - loss: 0.5473 - accuracy: 0.7951 - val_loss: 0.3336 - val_accuracy: 0.8780\n",
      "Epoch 85/1000\n",
      " 1/44 [..............................] - ETA: 0s - loss: 0.5253 - accuracy: 0.7578\n",
      "Epoch 85: saving model to model/keypoint_classifier/keypoint_classifier.hdf5\n",
      "44/44 [==============================] - 0s 1ms/step - loss: 0.5466 - accuracy: 0.7872 - val_loss: 0.3227 - val_accuracy: 0.9135\n",
      "Epoch 86/1000\n",
      " 1/44 [..............................] - ETA: 0s - loss: 0.6693 - accuracy: 0.7266\n",
      "Epoch 86: saving model to model/keypoint_classifier/keypoint_classifier.hdf5\n",
      "44/44 [==============================] - 0s 1ms/step - loss: 0.5481 - accuracy: 0.7895 - val_loss: 0.3356 - val_accuracy: 0.8528\n",
      "Epoch 87/1000\n",
      " 1/44 [..............................] - ETA: 0s - loss: 0.5100 - accuracy: 0.8203\n",
      "Epoch 87: saving model to model/keypoint_classifier/keypoint_classifier.hdf5\n",
      "44/44 [==============================] - 0s 1ms/step - loss: 0.5218 - accuracy: 0.7979 - val_loss: 0.3237 - val_accuracy: 0.8614\n",
      "Epoch 88/1000\n",
      " 1/44 [..............................] - ETA: 0s - loss: 0.4666 - accuracy: 0.8203\n",
      "Epoch 88: saving model to model/keypoint_classifier/keypoint_classifier.hdf5\n",
      "44/44 [==============================] - 0s 1ms/step - loss: 0.5311 - accuracy: 0.8004 - val_loss: 0.3196 - val_accuracy: 0.8796\n",
      "Epoch 89/1000\n",
      " 1/44 [..............................] - ETA: 0s - loss: 0.5067 - accuracy: 0.8125\n",
      "Epoch 89: saving model to model/keypoint_classifier/keypoint_classifier.hdf5\n",
      "44/44 [==============================] - 0s 1ms/step - loss: 0.5239 - accuracy: 0.8026 - val_loss: 0.3260 - val_accuracy: 0.8743\n",
      "Epoch 90/1000\n",
      " 1/44 [..............................] - ETA: 0s - loss: 0.5108 - accuracy: 0.8047\n",
      "Epoch 90: saving model to model/keypoint_classifier/keypoint_classifier.hdf5\n",
      "44/44 [==============================] - 0s 1ms/step - loss: 0.5262 - accuracy: 0.8040 - val_loss: 0.3288 - val_accuracy: 0.8571\n",
      "Epoch 91/1000\n",
      " 1/44 [..............................] - ETA: 0s - loss: 0.5597 - accuracy: 0.7812\n",
      "Epoch 91: saving model to model/keypoint_classifier/keypoint_classifier.hdf5\n",
      "44/44 [==============================] - 0s 1ms/step - loss: 0.5267 - accuracy: 0.8044 - val_loss: 0.3200 - val_accuracy: 0.8700\n",
      "Epoch 92/1000\n",
      " 1/44 [..............................] - ETA: 0s - loss: 0.6049 - accuracy: 0.8594\n",
      "Epoch 92: saving model to model/keypoint_classifier/keypoint_classifier.hdf5\n",
      "44/44 [==============================] - 0s 1ms/step - loss: 0.5262 - accuracy: 0.7922 - val_loss: 0.3298 - val_accuracy: 0.8662\n",
      "Epoch 93/1000\n",
      " 1/44 [..............................] - ETA: 0s - loss: 0.5907 - accuracy: 0.7422\n",
      "Epoch 93: saving model to model/keypoint_classifier/keypoint_classifier.hdf5\n",
      "44/44 [==============================] - 0s 2ms/step - loss: 0.5091 - accuracy: 0.8074 - val_loss: 0.3317 - val_accuracy: 0.8587\n",
      "Epoch 94/1000\n",
      " 1/44 [..............................] - ETA: 0s - loss: 0.7234 - accuracy: 0.7344\n",
      "Epoch 94: saving model to model/keypoint_classifier/keypoint_classifier.hdf5\n",
      "44/44 [==============================] - 0s 1ms/step - loss: 0.5166 - accuracy: 0.8035 - val_loss: 0.3330 - val_accuracy: 0.8544\n",
      "Epoch 95/1000\n",
      " 1/44 [..............................] - ETA: 0s - loss: 0.4734 - accuracy: 0.8672\n",
      "Epoch 95: saving model to model/keypoint_classifier/keypoint_classifier.hdf5\n",
      "44/44 [==============================] - 0s 1ms/step - loss: 0.5194 - accuracy: 0.8074 - val_loss: 0.3263 - val_accuracy: 0.8689\n",
      "Epoch 96/1000\n",
      " 1/44 [..............................] - ETA: 0s - loss: 0.5222 - accuracy: 0.8125\n",
      "Epoch 96: saving model to model/keypoint_classifier/keypoint_classifier.hdf5\n",
      "44/44 [==============================] - 0s 1ms/step - loss: 0.5120 - accuracy: 0.8106 - val_loss: 0.3319 - val_accuracy: 0.8501\n",
      "Epoch 97/1000\n",
      " 1/44 [..............................] - ETA: 0s - loss: 0.5174 - accuracy: 0.8281\n",
      "Epoch 97: saving model to model/keypoint_classifier/keypoint_classifier.hdf5\n",
      "44/44 [==============================] - 0s 1ms/step - loss: 0.5171 - accuracy: 0.8101 - val_loss: 0.3462 - val_accuracy: 0.8409\n",
      "Epoch 97: early stopping\n"
     ]
    },
    {
     "data": {
      "text/plain": [
       "<keras.src.callbacks.History at 0x2ca33b760>"
      ]
     },
     "execution_count": 11,
     "metadata": {},
     "output_type": "execute_result"
    }
   ],
   "source": [
    "model.fit(\n",
    "    X_train,\n",
    "    y_train,\n",
    "    epochs=1000,\n",
    "    batch_size=128,\n",
    "    validation_data=(X_test, y_test),\n",
    "    callbacks=[cp_callback, es_callback]\n",
    ")"
   ]
  },
  {
   "cell_type": "code",
   "execution_count": 12,
   "metadata": {},
   "outputs": [
    {
     "name": "stdout",
     "output_type": "stream",
     "text": [
      "15/15 [==============================] - 0s 563us/step - loss: 0.3462 - accuracy: 0.8409\n"
     ]
    }
   ],
   "source": [
    "# モデル評価\n",
    "val_loss, val_acc = model.evaluate(X_test, y_test, batch_size=128)"
   ]
  },
  {
   "cell_type": "code",
   "execution_count": 13,
   "metadata": {},
   "outputs": [],
   "source": [
    "# 保存したモデルのロード\n",
    "model = tf.keras.models.load_model(model_save_path)"
   ]
  },
  {
   "cell_type": "code",
   "execution_count": 14,
   "metadata": {},
   "outputs": [
    {
     "name": "stdout",
     "output_type": "stream",
     "text": [
      "1/1 [==============================] - 0s 52ms/step\n",
      "[6.8702805e-03 1.0490208e-02 1.2587798e-04 5.4742245e-04 1.9357067e-01\n",
      " 7.8839552e-01]\n",
      "5\n"
     ]
    }
   ],
   "source": [
    "# 推論テスト\n",
    "predict_result = model.predict(np.array([X_test[0]]))\n",
    "print(np.squeeze(predict_result))\n",
    "print(np.argmax(np.squeeze(predict_result)))"
   ]
  },
  {
   "cell_type": "markdown",
   "metadata": {},
   "source": [
    "# 混同行列"
   ]
  },
  {
   "cell_type": "code",
   "execution_count": 15,
   "metadata": {},
   "outputs": [
    {
     "name": "stdout",
     "output_type": "stream",
     "text": [
      "59/59 [==============================] - 0s 701us/step\n"
     ]
    },
    {
     "data": {
      "image/png": "[encoded data removed]",
      "text/plain": [
       "<Figure size 700x600 with 2 Axes>"
      ]
     },
     "metadata": {},
     "output_type": "display_data"
    },
    {
     "name": "stdout",
     "output_type": "stream",
     "text": [
      "Classification Report\n",
      "              precision    recall  f1-score   support\n",
      "\n",
      "           0       0.98      0.96      0.97       406\n",
      "           1       0.98      0.96      0.97       399\n",
      "           3       0.87      0.96      0.91        82\n",
      "           4       0.92      0.27      0.41       353\n",
      "           5       0.70      0.99      0.82       621\n",
      "\n",
      "    accuracy                           0.84      1861\n",
      "   macro avg       0.89      0.83      0.82      1861\n",
      "weighted avg       0.87      0.84      0.81      1861\n",
      "\n"
     ]
    }
   ],
   "source": [
    "import pandas as pd\n",
    "import seaborn as sns\n",
    "import matplotlib.pyplot as plt\n",
    "from sklearn.metrics import confusion_matrix, classification_report\n",
    "\n",
    "def print_confusion_matrix(y_true, y_pred, report=True):\n",
    "    labels = sorted(list(set(y_true)))\n",
    "    cmx_data = confusion_matrix(y_true, y_pred, labels=labels)\n",
    "    \n",
    "    df_cmx = pd.DataFrame(cmx_data, index=labels, columns=labels)\n",
    " \n",
    "    fig, ax = plt.subplots(figsize=(7, 6))\n",
    "    sns.heatmap(df_cmx, annot=True, fmt='g' ,square=False)\n",
    "    ax.set_ylim(len(set(y_true)), 0)\n",
    "    plt.show()\n",
    "    \n",
    "    if report:\n",
    "        print('Classification Report')\n",
    "        print(classification_report(y_test, y_pred))\n",
    "\n",
    "Y_pred = model.predict(X_test)\n",
    "y_pred = np.argmax(Y_pred, axis=1)\n",
    "\n",
    "print_confusion_matrix(y_test, y_pred)"
   ]
  },
  {
   "cell_type": "markdown",
   "metadata": {},
   "source": [
    "# Tensorflow-Lite用のモデルへ変換"
   ]
  },
  {
   "cell_type": "code",
   "execution_count": 16,
   "metadata": {},
   "outputs": [
    {
     "name": "stderr",
     "output_type": "stream",
     "text": [
      "/Users/nathanchen/Library/Python/3.9/lib/python/site-packages/keras/src/engine/training.py:3000: UserWarning: You are saving your model as an HDF5 file via `model.save()`. This file format is considered legacy. We recommend using instead the native Keras format, e.g. `model.save('my_model.keras')`.\n",
      "  saving_api.save_model(\n"
     ]
    }
   ],
   "source": [
    "# 推論専用のモデルとして保存\n",
    "model.save(model_save_path, include_optimizer=False)"
   ]
  },
  {
   "cell_type": "code",
   "execution_count": 17,
   "metadata": {},
   "outputs": [
    {
     "name": "stdout",
     "output_type": "stream",
     "text": [
      "INFO:tensorflow:Assets written to: /var/folders/fw/pp7153d102j6wdlj_0mzpm740000gn/T/tmpph7s7jfj/assets\n"
     ]
    },
    {
     "name": "stderr",
     "output_type": "stream",
     "text": [
      "INFO:tensorflow:Assets written to: /var/folders/fw/pp7153d102j6wdlj_0mzpm740000gn/T/tmpph7s7jfj/assets\n",
      "2023-08-12 14:59:11.538025: W tensorflow/compiler/mlir/lite/python/tf_tfl_flatbuffer_helpers.cc:364] Ignored output_format.\n",
      "2023-08-12 14:59:11.538179: W tensorflow/compiler/mlir/lite/python/tf_tfl_flatbuffer_helpers.cc:367] Ignored drop_control_dependency.\n",
      "2023-08-12 14:59:11.538955: I tensorflow/cc/saved_model/reader.cc:45] Reading SavedModel from: /var/folders/fw/pp7153d102j6wdlj_0mzpm740000gn/T/tmpph7s7jfj\n",
      "2023-08-12 14:59:11.539772: I tensorflow/cc/saved_model/reader.cc:91] Reading meta graph with tags { serve }\n",
      "2023-08-12 14:59:11.539778: I tensorflow/cc/saved_model/reader.cc:132] Reading SavedModel debug info (if present) from: /var/folders/fw/pp7153d102j6wdlj_0mzpm740000gn/T/tmpph7s7jfj\n",
      "2023-08-12 14:59:11.542064: I tensorflow/compiler/mlir/mlir_graph_optimization_pass.cc:375] MLIR V1 optimization pass is not enabled\n",
      "2023-08-12 14:59:11.542997: I tensorflow/cc/saved_model/loader.cc:231] Restoring SavedModel bundle.\n",
      "2023-08-12 14:59:11.578346: I tensorflow/cc/saved_model/loader.cc:215] Running initialization op on SavedModel bundle at path: /var/folders/fw/pp7153d102j6wdlj_0mzpm740000gn/T/tmpph7s7jfj\n",
      "2023-08-12 14:59:11.588471: I tensorflow/cc/saved_model/loader.cc:314] SavedModel load for tags { serve }; Status: success: OK. Took 49519 microseconds.\n",
      "2023-08-12 14:59:11.610483: I tensorflow/compiler/mlir/tensorflow/utils/dump_mlir_util.cc:255] disabling MLIR crash reproducer, set env var `MLIR_CRASH_REPRODUCER_DIRECTORY` to enable.\n"
     ]
    },
    {
     "data": {
      "text/plain": [
       "6632"
      ]
     },
     "execution_count": 17,
     "metadata": {},
     "output_type": "execute_result"
    }
   ],
   "source": [
    "# モデルを変換(量子化)\n",
    "tflite_save_path = 'model/keypoint_classifier/keypoint_classifier.tflite'\n",
    "\n",
    "converter = tf.lite.TFLiteConverter.from_keras_model(model)\n",
    "converter.optimizations = [tf.lite.Optimize.DEFAULT]\n",
    "tflite_quantized_model = converter.convert()\n",
    "\n",
    "open(tflite_save_path, 'wb').write(tflite_quantized_model)"
   ]
  },
  {
   "cell_type": "markdown",
   "metadata": {},
   "source": [
    "# 推論テスト"
   ]
  },
  {
   "cell_type": "code",
   "execution_count": 18,
   "metadata": {},
   "outputs": [
    {
     "name": "stderr",
     "output_type": "stream",
     "text": [
      "INFO: Created TensorFlow Lite XNNPACK delegate for CPU.\n"
     ]
    }
   ],
   "source": [
    "interpreter = tf.lite.Interpreter(model_path=tflite_save_path)\n",
    "interpreter.allocate_tensors()"
   ]
  },
  {
   "cell_type": "code",
   "execution_count": 19,
   "metadata": {},
   "outputs": [],
   "source": [
    "# 入出力テンソルを取得\n",
    "input_details = interpreter.get_input_details()\n",
    "output_details = interpreter.get_output_details()"
   ]
  },
  {
   "cell_type": "code",
   "execution_count": 20,
   "metadata": {},
   "outputs": [],
   "source": [
    "interpreter.set_tensor(input_details[0]['index'], np.array([X_test[0]]))"
   ]
  },
  {
   "cell_type": "code",
   "execution_count": 21,
   "metadata": {
    "scrolled": true
   },
   "outputs": [
    {
     "name": "stdout",
     "output_type": "stream",
     "text": [
      "CPU times: user 90 µs, sys: 40 µs, total: 130 µs\n",
      "Wall time: 120 µs\n"
     ]
    }
   ],
   "source": [
    "%%time\n",
    "# 推論実施\n",
    "interpreter.invoke()\n",
    "tflite_results = interpreter.get_tensor(output_details[0]['index'])"
   ]
  },
  {
   "cell_type": "code",
   "execution_count": 22,
   "metadata": {},
   "outputs": [
    {
     "name": "stdout",
     "output_type": "stream",
     "text": [
      "[6.87028421e-03 1.04902135e-02 1.25878229e-04 5.47422445e-04\n",
      " 1.93570718e-01 7.88395524e-01]\n",
      "5\n"
     ]
    }
   ],
   "source": [
    "print(np.squeeze(tflite_results))\n",
    "print(np.argmax(np.squeeze(tflite_results)))"
   ]
  }
 ],
 "metadata": {
  "kernelspec": {
   "display_name": "Python 3",
   "language": "python",
   "name": "python3"
  },
  "language_info": {
   "codemirror_mode": {
    "name": "ipython",
    "version": 3
   },
   "file_extension": ".py",
   "mimetype": "text/x-python",
   "name": "python",
   "nbconvert_exporter": "python",
   "pygments_lexer": "ipython3",
   "version": "3.9.6"
  }
 },
 "nbformat": 4,
 "nbformat_minor": 4
}
