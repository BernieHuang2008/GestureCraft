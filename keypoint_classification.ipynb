{
 "cells": [
  {
   "cell_type": "code",
   "execution_count": 23,
   "metadata": {},
   "outputs": [],
   "source": [
    "import csv\n",
    "\n",
    "import numpy as np\n",
    "import tensorflow as tf\n",
    "from sklearn.model_selection import train_test_split\n",
    "\n",
    "RANDOM_SEED = 42"
   ]
  },
  {
   "cell_type": "markdown",
   "metadata": {},
   "source": [
    "# 各パス指定"
   ]
  },
  {
   "cell_type": "code",
   "execution_count": 24,
   "metadata": {},
   "outputs": [],
   "source": [
    "dataset = 'model/keypoint_classifier/keypoint.csv'\n",
    "model_save_path = 'model/keypoint_classifier/keypoint_classifier.hdf5'"
   ]
  },
  {
   "cell_type": "markdown",
   "metadata": {},
   "source": [
    "# 分類数設定"
   ]
  },
  {
   "cell_type": "code",
   "execution_count": 25,
   "metadata": {},
   "outputs": [],
   "source": [
    "NUM_CLASSES = 6"
   ]
  },
  {
   "cell_type": "markdown",
   "metadata": {},
   "source": [
    "# 学習データ読み込み"
   ]
  },
  {
   "cell_type": "code",
   "execution_count": 26,
   "metadata": {},
   "outputs": [],
   "source": [
    "X_dataset = np.loadtxt(dataset, delimiter=',', dtype='float32', usecols=list(range(1, (21 * 2) + 1)))"
   ]
  },
  {
   "cell_type": "code",
   "execution_count": 27,
   "metadata": {},
   "outputs": [],
   "source": [
    "y_dataset = np.loadtxt(dataset, delimiter=',', dtype='int32', usecols=(0))"
   ]
  },
  {
   "cell_type": "code",
   "execution_count": 28,
   "metadata": {},
   "outputs": [],
   "source": [
    "X_train, X_test, y_train, y_test = train_test_split(X_dataset, y_dataset, train_size=0.75, random_state=RANDOM_SEED)"
   ]
  },
  {
   "cell_type": "markdown",
   "metadata": {},
   "source": [
    "# モデル構築"
   ]
  },
  {
   "cell_type": "code",
   "execution_count": 29,
   "metadata": {},
   "outputs": [],
   "source": [
    "model = tf.keras.models.Sequential([\n",
    "    tf.keras.layers.Input((21 * 2, )),\n",
    "    tf.keras.layers.Dropout(0.2),\n",
    "    tf.keras.layers.Dense(20, activation='relu'),\n",
    "    tf.keras.layers.Dropout(0.4),\n",
    "    tf.keras.layers.Dense(10, activation='relu'),\n",
    "    tf.keras.layers.Dense(NUM_CLASSES, activation='softmax')\n",
    "])"
   ]
  },
  {
   "cell_type": "code",
   "execution_count": 30,
   "metadata": {},
   "outputs": [
    {
     "name": "stdout",
     "output_type": "stream",
     "text": [
      "Model: \"sequential_1\"\n",
      "_________________________________________________________________\n",
      " Layer (type)                Output Shape              Param #   \n",
      "=================================================================\n",
      " dropout_2 (Dropout)         (None, 42)                0         \n",
      "                                                                 \n",
      " dense_3 (Dense)             (None, 20)                860       \n",
      "                                                                 \n",
      " dropout_3 (Dropout)         (None, 20)                0         \n",
      "                                                                 \n",
      " dense_4 (Dense)             (None, 10)                210       \n",
      "                                                                 \n",
      " dense_5 (Dense)             (None, 6)                 66        \n",
      "                                                                 \n",
      "=================================================================\n",
      "Total params: 1136 (4.44 KB)\n",
      "Trainable params: 1136 (4.44 KB)\n",
      "Non-trainable params: 0 (0.00 Byte)\n",
      "_________________________________________________________________\n"
     ]
    }
   ],
   "source": [
    "model.summary()  # tf.keras.utils.plot_model(model, show_shapes=True)"
   ]
  },
  {
   "cell_type": "code",
   "execution_count": 31,
   "metadata": {},
   "outputs": [],
   "source": [
    "# モデルチェックポイントのコールバック\n",
    "cp_callback = tf.keras.callbacks.ModelCheckpoint(\n",
    "    model_save_path, verbose=1, save_weights_only=False)\n",
    "# 早期打ち切り用コールバック\n",
    "es_callback = tf.keras.callbacks.EarlyStopping(patience=20, verbose=1)"
   ]
  },
  {
   "cell_type": "code",
   "execution_count": 32,
   "metadata": {},
   "outputs": [],
   "source": [
    "# モデルコンパイル\n",
    "model.compile(\n",
    "    optimizer='adam',\n",
    "    loss='sparse_categorical_crossentropy',\n",
    "    metrics=['accuracy']\n",
    ")"
   ]
  },
  {
   "cell_type": "markdown",
   "metadata": {},
   "source": [
    "# モデル訓練"
   ]
  },
  {
   "cell_type": "code",
   "execution_count": 33,
   "metadata": {
    "scrolled": true
   },
   "outputs": [
    {
     "name": "stdout",
     "output_type": "stream",
     "text": [
      "Epoch 1/1000\n",
      " 1/46 [..............................] - ETA: 11s - loss: 1.7169 - accuracy: 0.2422\n",
      "Epoch 1: saving model to model/keypoint_classifier/keypoint_classifier.hdf5\n",
      "46/46 [==============================] - 0s 4ms/step - loss: 1.6566 - accuracy: 0.3174 - val_loss: 1.5066 - val_accuracy: 0.4813\n",
      "Epoch 2/1000\n",
      " 1/46 [..............................] - ETA: 0s - loss: 1.5637 - accuracy: 0.3750\n",
      "Epoch 2: saving model to model/keypoint_classifier/keypoint_classifier.hdf5\n",
      "46/46 [==============================] - 0s 1ms/step - loss: 1.5059 - accuracy: 0.4066 - val_loss: 1.3632 - val_accuracy: 0.4844\n",
      "Epoch 3/1000\n",
      " 1/46 [..............................] - ETA: 0s - loss: 1.5016 - accuracy: 0.3672\n",
      "Epoch 3: saving model to model/keypoint_classifier/keypoint_classifier.hdf5\n",
      "46/46 [==============================] - 0s 1ms/step - loss: 1.3883 - accuracy: 0.4340 - val_loss: 1.2158 - val_accuracy: 0.5073\n",
      "Epoch 4/1000\n",
      " 1/46 [..............................] - ETA: 0s - loss: 1.2947 - accuracy: 0.4375\n",
      "Epoch 4: saving model to model/keypoint_classifier/keypoint_classifier.hdf5\n",
      "46/46 [==============================] - 0s 1ms/step - loss: 1.2780 - accuracy: 0.4597 - val_loss: 1.0955 - val_accuracy: 0.5401\n",
      "Epoch 5/1000\n",
      " 1/46 [..............................] - ETA: 0s - loss: 1.2248 - accuracy: 0.4609"
     ]
    },
    {
     "name": "stderr",
     "output_type": "stream",
     "text": [
      "/Users/nathanchen/Library/Python/3.9/lib/python/site-packages/keras/src/engine/training.py:3000: UserWarning: You are saving your model as an HDF5 file via `model.save()`. This file format is considered legacy. We recommend using instead the native Keras format, e.g. `model.save('my_model.keras')`.\n",
      "  saving_api.save_model(\n"
     ]
    },
    {
     "name": "stdout",
     "output_type": "stream",
     "text": [
      "\n",
      "Epoch 5: saving model to model/keypoint_classifier/keypoint_classifier.hdf5\n",
      "46/46 [==============================] - 0s 1ms/step - loss: 1.1833 - accuracy: 0.4982 - val_loss: 0.9850 - val_accuracy: 0.6098\n",
      "Epoch 6/1000\n",
      " 1/46 [..............................] - ETA: 0s - loss: 1.2330 - accuracy: 0.5000\n",
      "Epoch 6: saving model to model/keypoint_classifier/keypoint_classifier.hdf5\n",
      "46/46 [==============================] - 0s 1ms/step - loss: 1.1265 - accuracy: 0.5098 - val_loss: 0.9181 - val_accuracy: 0.6332\n",
      "Epoch 7/1000\n",
      " 1/46 [..............................] - ETA: 0s - loss: 1.0050 - accuracy: 0.5547\n",
      "Epoch 7: saving model to model/keypoint_classifier/keypoint_classifier.hdf5\n",
      "46/46 [==============================] - 0s 1ms/step - loss: 1.0675 - accuracy: 0.5256 - val_loss: 0.8527 - val_accuracy: 0.6670\n",
      "Epoch 8/1000\n",
      " 1/46 [..............................] - ETA: 0s - loss: 1.0672 - accuracy: 0.5234\n",
      "Epoch 8: saving model to model/keypoint_classifier/keypoint_classifier.hdf5\n",
      "46/46 [==============================] - 0s 1ms/step - loss: 1.0338 - accuracy: 0.5403 - val_loss: 0.8178 - val_accuracy: 0.6748\n",
      "Epoch 9/1000\n",
      " 1/46 [..............................] - ETA: 0s - loss: 1.0006 - accuracy: 0.4922\n",
      "Epoch 9: saving model to model/keypoint_classifier/keypoint_classifier.hdf5\n",
      "46/46 [==============================] - 0s 1ms/step - loss: 1.0036 - accuracy: 0.5476 - val_loss: 0.7842 - val_accuracy: 0.6769\n",
      "Epoch 10/1000\n",
      " 1/46 [..............................] - ETA: 0s - loss: 1.0296 - accuracy: 0.4922\n",
      "Epoch 10: saving model to model/keypoint_classifier/keypoint_classifier.hdf5\n",
      "46/46 [==============================] - 0s 1ms/step - loss: 0.9804 - accuracy: 0.5551 - val_loss: 0.7463 - val_accuracy: 0.7107\n",
      "Epoch 11/1000\n",
      " 1/46 [..............................] - ETA: 0s - loss: 1.0188 - accuracy: 0.5156\n",
      "Epoch 11: saving model to model/keypoint_classifier/keypoint_classifier.hdf5\n",
      "46/46 [==============================] - 0s 1ms/step - loss: 0.9673 - accuracy: 0.5615 - val_loss: 0.7302 - val_accuracy: 0.7118\n",
      "Epoch 12/1000\n",
      " 1/46 [..............................] - ETA: 0s - loss: 0.9376 - accuracy: 0.5938\n",
      "Epoch 12: saving model to model/keypoint_classifier/keypoint_classifier.hdf5\n",
      "46/46 [==============================] - 0s 1ms/step - loss: 0.9414 - accuracy: 0.5744 - val_loss: 0.7100 - val_accuracy: 0.7154\n",
      "Epoch 13/1000\n",
      " 1/46 [..............................] - ETA: 0s - loss: 0.9759 - accuracy: 0.4922\n",
      "Epoch 13: saving model to model/keypoint_classifier/keypoint_classifier.hdf5\n",
      "46/46 [==============================] - 0s 1ms/step - loss: 0.9190 - accuracy: 0.5842 - val_loss: 0.6911 - val_accuracy: 0.7175\n",
      "Epoch 14/1000\n",
      " 1/46 [..............................] - ETA: 0s - loss: 0.9073 - accuracy: 0.6172\n",
      "Epoch 14: saving model to model/keypoint_classifier/keypoint_classifier.hdf5\n",
      "46/46 [==============================] - 0s 1ms/step - loss: 0.9091 - accuracy: 0.5841 - val_loss: 0.6686 - val_accuracy: 0.7471\n",
      "Epoch 15/1000\n",
      " 1/46 [..............................] - ETA: 0s - loss: 0.8276 - accuracy: 0.6484\n",
      "Epoch 15: saving model to model/keypoint_classifier/keypoint_classifier.hdf5\n",
      "46/46 [==============================] - 0s 1ms/step - loss: 0.8825 - accuracy: 0.6091 - val_loss: 0.6479 - val_accuracy: 0.7326\n",
      "Epoch 16/1000\n",
      " 1/46 [..............................] - ETA: 0s - loss: 0.9062 - accuracy: 0.6172\n",
      "Epoch 16: saving model to model/keypoint_classifier/keypoint_classifier.hdf5\n",
      "46/46 [==============================] - 0s 1ms/step - loss: 0.8824 - accuracy: 0.6094 - val_loss: 0.6284 - val_accuracy: 0.7737\n",
      "Epoch 17/1000\n",
      " 1/46 [..............................] - ETA: 0s - loss: 0.8577 - accuracy: 0.6797\n",
      "Epoch 17: saving model to model/keypoint_classifier/keypoint_classifier.hdf5\n",
      "46/46 [==============================] - 0s 1ms/step - loss: 0.8607 - accuracy: 0.6160 - val_loss: 0.6103 - val_accuracy: 0.7706\n",
      "Epoch 18/1000\n",
      " 1/46 [..............................] - ETA: 0s - loss: 0.8466 - accuracy: 0.5938\n",
      "Epoch 18: saving model to model/keypoint_classifier/keypoint_classifier.hdf5\n",
      "46/46 [==============================] - 0s 1ms/step - loss: 0.8524 - accuracy: 0.6155 - val_loss: 0.6012 - val_accuracy: 0.8096\n",
      "Epoch 19/1000\n",
      " 1/46 [..............................] - ETA: 0s - loss: 0.7781 - accuracy: 0.6719\n",
      "Epoch 19: saving model to model/keypoint_classifier/keypoint_classifier.hdf5\n",
      "46/46 [==============================] - 0s 1ms/step - loss: 0.8430 - accuracy: 0.6193 - val_loss: 0.5860 - val_accuracy: 0.8392\n",
      "Epoch 20/1000\n",
      " 1/46 [..............................] - ETA: 0s - loss: 0.8120 - accuracy: 0.6953\n",
      "Epoch 20: saving model to model/keypoint_classifier/keypoint_classifier.hdf5\n",
      "46/46 [==============================] - 0s 1ms/step - loss: 0.8465 - accuracy: 0.6155 - val_loss: 0.5827 - val_accuracy: 0.8439\n",
      "Epoch 21/1000\n",
      " 1/46 [..............................] - ETA: 0s - loss: 0.8157 - accuracy: 0.6406\n",
      "Epoch 21: saving model to model/keypoint_classifier/keypoint_classifier.hdf5\n",
      "46/46 [==============================] - 0s 1ms/step - loss: 0.8207 - accuracy: 0.6278 - val_loss: 0.5702 - val_accuracy: 0.8444\n",
      "Epoch 22/1000\n",
      " 1/46 [..............................] - ETA: 0s - loss: 0.8690 - accuracy: 0.6094\n",
      "Epoch 22: saving model to model/keypoint_classifier/keypoint_classifier.hdf5\n",
      "46/46 [==============================] - 0s 2ms/step - loss: 0.8168 - accuracy: 0.6252 - val_loss: 0.5628 - val_accuracy: 0.8424\n",
      "Epoch 23/1000\n",
      " 1/46 [..............................] - ETA: 0s - loss: 0.7883 - accuracy: 0.6484\n",
      "Epoch 23: saving model to model/keypoint_classifier/keypoint_classifier.hdf5\n",
      "46/46 [==============================] - 0s 1ms/step - loss: 0.8165 - accuracy: 0.6313 - val_loss: 0.5447 - val_accuracy: 0.8574\n",
      "Epoch 24/1000\n",
      " 1/46 [..............................] - ETA: 0s - loss: 0.8194 - accuracy: 0.6641\n",
      "Epoch 24: saving model to model/keypoint_classifier/keypoint_classifier.hdf5\n",
      "46/46 [==============================] - 0s 1ms/step - loss: 0.8075 - accuracy: 0.6353 - val_loss: 0.5442 - val_accuracy: 0.8444\n",
      "Epoch 25/1000\n",
      " 1/46 [..............................] - ETA: 0s - loss: 0.6888 - accuracy: 0.7266\n",
      "Epoch 25: saving model to model/keypoint_classifier/keypoint_classifier.hdf5\n",
      "46/46 [==============================] - 0s 1ms/step - loss: 0.7858 - accuracy: 0.6491 - val_loss: 0.5357 - val_accuracy: 0.8642\n",
      "Epoch 26/1000\n",
      " 1/46 [..............................] - ETA: 0s - loss: 0.7715 - accuracy: 0.6797\n",
      "Epoch 26: saving model to model/keypoint_classifier/keypoint_classifier.hdf5\n",
      "46/46 [==============================] - 0s 1ms/step - loss: 0.7757 - accuracy: 0.6517 - val_loss: 0.5151 - val_accuracy: 0.8626\n",
      "Epoch 27/1000\n",
      " 1/46 [..............................] - ETA: 0s - loss: 0.7654 - accuracy: 0.6875\n",
      "Epoch 27: saving model to model/keypoint_classifier/keypoint_classifier.hdf5\n",
      "46/46 [==============================] - 0s 1ms/step - loss: 0.7886 - accuracy: 0.6504 - val_loss: 0.5216 - val_accuracy: 0.8673\n",
      "Epoch 28/1000\n",
      " 1/46 [..............................] - ETA: 0s - loss: 0.6694 - accuracy: 0.6797\n",
      "Epoch 28: saving model to model/keypoint_classifier/keypoint_classifier.hdf5\n",
      "46/46 [==============================] - 0s 1ms/step - loss: 0.7689 - accuracy: 0.6552 - val_loss: 0.5097 - val_accuracy: 0.8730\n",
      "Epoch 29/1000\n",
      " 1/46 [..............................] - ETA: 0s - loss: 0.7336 - accuracy: 0.6875\n",
      "Epoch 29: saving model to model/keypoint_classifier/keypoint_classifier.hdf5\n",
      "46/46 [==============================] - 0s 1ms/step - loss: 0.7612 - accuracy: 0.6630 - val_loss: 0.5083 - val_accuracy: 0.8699\n",
      "Epoch 30/1000\n",
      " 1/46 [..............................] - ETA: 0s - loss: 0.7782 - accuracy: 0.6484\n",
      "Epoch 30: saving model to model/keypoint_classifier/keypoint_classifier.hdf5\n",
      "46/46 [==============================] - 0s 1ms/step - loss: 0.7627 - accuracy: 0.6670 - val_loss: 0.5044 - val_accuracy: 0.8684\n",
      "Epoch 31/1000\n",
      " 1/46 [..............................] - ETA: 0s - loss: 0.7002 - accuracy: 0.6719\n",
      "Epoch 31: saving model to model/keypoint_classifier/keypoint_classifier.hdf5\n",
      "46/46 [==============================] - 0s 1ms/step - loss: 0.7505 - accuracy: 0.6670 - val_loss: 0.4936 - val_accuracy: 0.8684\n",
      "Epoch 32/1000\n",
      " 1/46 [..............................] - ETA: 0s - loss: 0.7063 - accuracy: 0.6641\n",
      "Epoch 32: saving model to model/keypoint_classifier/keypoint_classifier.hdf5\n",
      "46/46 [==============================] - 0s 1ms/step - loss: 0.7400 - accuracy: 0.6712 - val_loss: 0.4820 - val_accuracy: 0.8746\n",
      "Epoch 33/1000\n",
      " 1/46 [..............................] - ETA: 0s - loss: 0.7240 - accuracy: 0.6953\n",
      "Epoch 33: saving model to model/keypoint_classifier/keypoint_classifier.hdf5\n",
      "46/46 [==============================] - 0s 1ms/step - loss: 0.7454 - accuracy: 0.6788 - val_loss: 0.4867 - val_accuracy: 0.8699\n",
      "Epoch 34/1000\n",
      " 1/46 [..............................] - ETA: 0s - loss: 0.8195 - accuracy: 0.6172\n",
      "Epoch 34: saving model to model/keypoint_classifier/keypoint_classifier.hdf5\n",
      "46/46 [==============================] - 0s 1ms/step - loss: 0.7488 - accuracy: 0.6726 - val_loss: 0.4744 - val_accuracy: 0.8814\n",
      "Epoch 35/1000\n",
      " 1/46 [..............................] - ETA: 0s - loss: 0.7484 - accuracy: 0.7031\n",
      "Epoch 35: saving model to model/keypoint_classifier/keypoint_classifier.hdf5\n",
      "46/46 [==============================] - 0s 1ms/step - loss: 0.7362 - accuracy: 0.6774 - val_loss: 0.4685 - val_accuracy: 0.8788\n",
      "Epoch 36/1000\n",
      " 1/46 [..............................] - ETA: 0s - loss: 0.7742 - accuracy: 0.6719\n",
      "Epoch 36: saving model to model/keypoint_classifier/keypoint_classifier.hdf5\n",
      "46/46 [==============================] - 0s 1ms/step - loss: 0.7182 - accuracy: 0.6882 - val_loss: 0.4566 - val_accuracy: 0.8835\n",
      "Epoch 37/1000\n",
      " 1/46 [..............................] - ETA: 0s - loss: 0.7002 - accuracy: 0.6953\n",
      "Epoch 37: saving model to model/keypoint_classifier/keypoint_classifier.hdf5\n",
      "46/46 [==============================] - 0s 1ms/step - loss: 0.7216 - accuracy: 0.6807 - val_loss: 0.4456 - val_accuracy: 0.8835\n",
      "Epoch 38/1000\n",
      " 1/46 [..............................] - ETA: 0s - loss: 0.7859 - accuracy: 0.6328\n",
      "Epoch 38: saving model to model/keypoint_classifier/keypoint_classifier.hdf5\n",
      "46/46 [==============================] - 0s 1ms/step - loss: 0.7130 - accuracy: 0.6910 - val_loss: 0.4469 - val_accuracy: 0.8845\n",
      "Epoch 39/1000\n",
      " 1/46 [..............................] - ETA: 0s - loss: 0.6218 - accuracy: 0.7578\n",
      "Epoch 39: saving model to model/keypoint_classifier/keypoint_classifier.hdf5\n",
      "46/46 [==============================] - 0s 1ms/step - loss: 0.7119 - accuracy: 0.7022 - val_loss: 0.4360 - val_accuracy: 0.8892\n",
      "Epoch 40/1000\n",
      " 1/46 [..............................] - ETA: 0s - loss: 0.6661 - accuracy: 0.7031\n",
      "Epoch 40: saving model to model/keypoint_classifier/keypoint_classifier.hdf5\n",
      "46/46 [==============================] - 0s 1ms/step - loss: 0.7015 - accuracy: 0.6922 - val_loss: 0.4291 - val_accuracy: 0.8954\n",
      "Epoch 41/1000\n",
      " 1/46 [..............................] - ETA: 0s - loss: 0.6899 - accuracy: 0.7344\n",
      "Epoch 41: saving model to model/keypoint_classifier/keypoint_classifier.hdf5\n",
      "46/46 [==============================] - 0s 2ms/step - loss: 0.7003 - accuracy: 0.7005 - val_loss: 0.4333 - val_accuracy: 0.8845\n",
      "Epoch 42/1000\n",
      " 1/46 [..............................] - ETA: 0s - loss: 0.7619 - accuracy: 0.6641\n",
      "Epoch 42: saving model to model/keypoint_classifier/keypoint_classifier.hdf5\n",
      "46/46 [==============================] - 0s 1ms/step - loss: 0.6904 - accuracy: 0.7059 - val_loss: 0.4241 - val_accuracy: 0.8923\n",
      "Epoch 43/1000\n",
      " 1/46 [..............................] - ETA: 0s - loss: 0.6568 - accuracy: 0.6953\n",
      "Epoch 43: saving model to model/keypoint_classifier/keypoint_classifier.hdf5\n",
      "46/46 [==============================] - 0s 1ms/step - loss: 0.6828 - accuracy: 0.7040 - val_loss: 0.4135 - val_accuracy: 0.8949\n",
      "Epoch 44/1000\n",
      " 1/46 [..............................] - ETA: 0s - loss: 0.7306 - accuracy: 0.6797\n",
      "Epoch 44: saving model to model/keypoint_classifier/keypoint_classifier.hdf5\n",
      "46/46 [==============================] - 0s 1ms/step - loss: 0.6967 - accuracy: 0.7022 - val_loss: 0.4181 - val_accuracy: 0.8944\n",
      "Epoch 45/1000\n",
      " 1/46 [..............................] - ETA: 0s - loss: 0.7139 - accuracy: 0.7500\n",
      "Epoch 45: saving model to model/keypoint_classifier/keypoint_classifier.hdf5\n",
      "46/46 [==============================] - 0s 1ms/step - loss: 0.6887 - accuracy: 0.7125 - val_loss: 0.4147 - val_accuracy: 0.8902\n",
      "Epoch 46/1000\n",
      " 1/46 [..............................] - ETA: 0s - loss: 0.6435 - accuracy: 0.7188\n",
      "Epoch 46: saving model to model/keypoint_classifier/keypoint_classifier.hdf5\n",
      "46/46 [==============================] - 0s 1ms/step - loss: 0.6971 - accuracy: 0.6951 - val_loss: 0.4224 - val_accuracy: 0.8840\n",
      "Epoch 47/1000\n",
      " 1/46 [..............................] - ETA: 0s - loss: 0.6620 - accuracy: 0.7188\n",
      "Epoch 47: saving model to model/keypoint_classifier/keypoint_classifier.hdf5\n",
      "46/46 [==============================] - 0s 1ms/step - loss: 0.6723 - accuracy: 0.7194 - val_loss: 0.4095 - val_accuracy: 0.8887\n",
      "Epoch 48/1000\n",
      " 1/46 [..............................] - ETA: 0s - loss: 0.6598 - accuracy: 0.7266\n",
      "Epoch 48: saving model to model/keypoint_classifier/keypoint_classifier.hdf5\n",
      "46/46 [==============================] - 0s 1ms/step - loss: 0.6749 - accuracy: 0.7175 - val_loss: 0.4016 - val_accuracy: 0.9001\n",
      "Epoch 49/1000\n",
      " 1/46 [..............................] - ETA: 0s - loss: 0.6598 - accuracy: 0.7578\n",
      "Epoch 49: saving model to model/keypoint_classifier/keypoint_classifier.hdf5\n",
      "46/46 [==============================] - 0s 1ms/step - loss: 0.6672 - accuracy: 0.7182 - val_loss: 0.3995 - val_accuracy: 0.8975\n",
      "Epoch 50/1000\n",
      " 1/46 [..............................] - ETA: 0s - loss: 0.7874 - accuracy: 0.7031\n",
      "Epoch 50: saving model to model/keypoint_classifier/keypoint_classifier.hdf5\n",
      "46/46 [==============================] - 0s 1ms/step - loss: 0.6815 - accuracy: 0.7100 - val_loss: 0.3945 - val_accuracy: 0.8980\n",
      "Epoch 51/1000\n",
      " 1/46 [..............................] - ETA: 0s - loss: 0.7528 - accuracy: 0.6641\n",
      "Epoch 51: saving model to model/keypoint_classifier/keypoint_classifier.hdf5\n",
      "46/46 [==============================] - 0s 1ms/step - loss: 0.6585 - accuracy: 0.7255 - val_loss: 0.3801 - val_accuracy: 0.9037\n",
      "Epoch 52/1000\n",
      " 1/46 [..............................] - ETA: 0s - loss: 0.7598 - accuracy: 0.6406\n",
      "Epoch 52: saving model to model/keypoint_classifier/keypoint_classifier.hdf5\n",
      "46/46 [==============================] - 0s 1ms/step - loss: 0.6697 - accuracy: 0.7224 - val_loss: 0.3805 - val_accuracy: 0.9011\n",
      "Epoch 53/1000\n",
      " 1/46 [..............................] - ETA: 0s - loss: 0.6152 - accuracy: 0.7344\n",
      "Epoch 53: saving model to model/keypoint_classifier/keypoint_classifier.hdf5\n",
      "46/46 [==============================] - 0s 1ms/step - loss: 0.6594 - accuracy: 0.7255 - val_loss: 0.3832 - val_accuracy: 0.9006\n",
      "Epoch 54/1000\n",
      " 1/46 [..............................] - ETA: 0s - loss: 0.5595 - accuracy: 0.7969\n",
      "Epoch 54: saving model to model/keypoint_classifier/keypoint_classifier.hdf5\n",
      "46/46 [==============================] - 0s 1ms/step - loss: 0.6578 - accuracy: 0.7264 - val_loss: 0.3880 - val_accuracy: 0.8933\n",
      "Epoch 55/1000\n",
      " 1/46 [..............................] - ETA: 0s - loss: 0.5653 - accuracy: 0.7422\n",
      "Epoch 55: saving model to model/keypoint_classifier/keypoint_classifier.hdf5\n",
      "46/46 [==============================] - 0s 1ms/step - loss: 0.6534 - accuracy: 0.7239 - val_loss: 0.3720 - val_accuracy: 0.9100\n",
      "Epoch 56/1000\n",
      " 1/46 [..............................] - ETA: 0s - loss: 0.7080 - accuracy: 0.6719\n",
      "Epoch 56: saving model to model/keypoint_classifier/keypoint_classifier.hdf5\n",
      "46/46 [==============================] - 0s 1ms/step - loss: 0.6612 - accuracy: 0.7179 - val_loss: 0.3758 - val_accuracy: 0.9058\n",
      "Epoch 57/1000\n",
      " 1/46 [..............................] - ETA: 0s - loss: 0.5715 - accuracy: 0.7266\n",
      "Epoch 57: saving model to model/keypoint_classifier/keypoint_classifier.hdf5\n",
      "46/46 [==============================] - 0s 1ms/step - loss: 0.6491 - accuracy: 0.7274 - val_loss: 0.3703 - val_accuracy: 0.9079\n",
      "Epoch 58/1000\n",
      " 1/46 [..............................] - ETA: 0s - loss: 0.7261 - accuracy: 0.6797\n",
      "Epoch 58: saving model to model/keypoint_classifier/keypoint_classifier.hdf5\n",
      "46/46 [==============================] - 0s 2ms/step - loss: 0.6500 - accuracy: 0.7305 - val_loss: 0.3645 - val_accuracy: 0.9126\n",
      "Epoch 59/1000\n",
      " 1/46 [..............................] - ETA: 0s - loss: 0.5151 - accuracy: 0.8125\n",
      "Epoch 59: saving model to model/keypoint_classifier/keypoint_classifier.hdf5\n",
      "46/46 [==============================] - 0s 1ms/step - loss: 0.6280 - accuracy: 0.7343 - val_loss: 0.3646 - val_accuracy: 0.9048\n",
      "Epoch 60/1000\n",
      " 1/46 [..............................] - ETA: 0s - loss: 0.6257 - accuracy: 0.7031\n",
      "Epoch 60: saving model to model/keypoint_classifier/keypoint_classifier.hdf5\n",
      "46/46 [==============================] - 0s 1ms/step - loss: 0.6386 - accuracy: 0.7269 - val_loss: 0.3710 - val_accuracy: 0.9053\n",
      "Epoch 61/1000\n",
      " 1/46 [..............................] - ETA: 0s - loss: 0.5839 - accuracy: 0.7422\n",
      "Epoch 61: saving model to model/keypoint_classifier/keypoint_classifier.hdf5\n",
      "46/46 [==============================] - 0s 1ms/step - loss: 0.6289 - accuracy: 0.7312 - val_loss: 0.3536 - val_accuracy: 0.9183\n",
      "Epoch 62/1000\n",
      " 1/46 [..............................] - ETA: 0s - loss: 0.6168 - accuracy: 0.7734\n",
      "Epoch 62: saving model to model/keypoint_classifier/keypoint_classifier.hdf5\n",
      "46/46 [==============================] - 0s 1ms/step - loss: 0.6382 - accuracy: 0.7349 - val_loss: 0.3526 - val_accuracy: 0.9152\n",
      "Epoch 63/1000\n",
      " 1/46 [..............................] - ETA: 0s - loss: 0.6550 - accuracy: 0.7031\n",
      "Epoch 63: saving model to model/keypoint_classifier/keypoint_classifier.hdf5\n",
      "46/46 [==============================] - 0s 1ms/step - loss: 0.6125 - accuracy: 0.7491 - val_loss: 0.3481 - val_accuracy: 0.9157\n",
      "Epoch 64/1000\n",
      " 1/46 [..............................] - ETA: 0s - loss: 0.5683 - accuracy: 0.7578\n",
      "Epoch 64: saving model to model/keypoint_classifier/keypoint_classifier.hdf5\n",
      "46/46 [==============================] - 0s 1ms/step - loss: 0.6282 - accuracy: 0.7421 - val_loss: 0.3517 - val_accuracy: 0.9188\n",
      "Epoch 65/1000\n",
      " 1/46 [..............................] - ETA: 0s - loss: 0.5824 - accuracy: 0.7812\n",
      "Epoch 65: saving model to model/keypoint_classifier/keypoint_classifier.hdf5\n",
      "46/46 [==============================] - 0s 1ms/step - loss: 0.5989 - accuracy: 0.7553 - val_loss: 0.3458 - val_accuracy: 0.9152\n",
      "Epoch 66/1000\n",
      " 1/46 [..............................] - ETA: 0s - loss: 0.6952 - accuracy: 0.7500\n",
      "Epoch 66: saving model to model/keypoint_classifier/keypoint_classifier.hdf5\n",
      "46/46 [==============================] - 0s 1ms/step - loss: 0.6162 - accuracy: 0.7423 - val_loss: 0.3465 - val_accuracy: 0.9173\n",
      "Epoch 67/1000\n",
      " 1/46 [..............................] - ETA: 0s - loss: 0.5446 - accuracy: 0.7734\n",
      "Epoch 67: saving model to model/keypoint_classifier/keypoint_classifier.hdf5\n",
      "46/46 [==============================] - 0s 1ms/step - loss: 0.6137 - accuracy: 0.7411 - val_loss: 0.3398 - val_accuracy: 0.9168\n",
      "Epoch 68/1000\n",
      " 1/46 [..............................] - ETA: 0s - loss: 0.5275 - accuracy: 0.7578\n",
      "Epoch 68: saving model to model/keypoint_classifier/keypoint_classifier.hdf5\n",
      "46/46 [==============================] - 0s 1ms/step - loss: 0.6069 - accuracy: 0.7484 - val_loss: 0.3320 - val_accuracy: 0.9199\n",
      "Epoch 69/1000\n",
      " 1/46 [..............................] - ETA: 0s - loss: 0.5882 - accuracy: 0.7656\n",
      "Epoch 69: saving model to model/keypoint_classifier/keypoint_classifier.hdf5\n",
      "46/46 [==============================] - 0s 1ms/step - loss: 0.6181 - accuracy: 0.7474 - val_loss: 0.3347 - val_accuracy: 0.9194\n",
      "Epoch 70/1000\n",
      " 1/46 [..............................] - ETA: 0s - loss: 0.5666 - accuracy: 0.7578\n",
      "Epoch 70: saving model to model/keypoint_classifier/keypoint_classifier.hdf5\n",
      "46/46 [==============================] - 0s 1ms/step - loss: 0.6152 - accuracy: 0.7448 - val_loss: 0.3342 - val_accuracy: 0.9199\n",
      "Epoch 71/1000\n",
      " 1/46 [..............................] - ETA: 0s - loss: 0.6194 - accuracy: 0.7266\n",
      "Epoch 71: saving model to model/keypoint_classifier/keypoint_classifier.hdf5\n",
      "46/46 [==============================] - 0s 1ms/step - loss: 0.6013 - accuracy: 0.7496 - val_loss: 0.3326 - val_accuracy: 0.9272\n",
      "Epoch 72/1000\n",
      " 1/46 [..............................] - ETA: 0s - loss: 0.5200 - accuracy: 0.8047\n",
      "Epoch 72: saving model to model/keypoint_classifier/keypoint_classifier.hdf5\n",
      "46/46 [==============================] - 0s 1ms/step - loss: 0.6082 - accuracy: 0.7541 - val_loss: 0.3393 - val_accuracy: 0.9188\n",
      "Epoch 73/1000\n",
      " 1/46 [..............................] - ETA: 0s - loss: 0.5671 - accuracy: 0.7656\n",
      "Epoch 73: saving model to model/keypoint_classifier/keypoint_classifier.hdf5\n",
      "46/46 [==============================] - 0s 1ms/step - loss: 0.6045 - accuracy: 0.7498 - val_loss: 0.3343 - val_accuracy: 0.9178\n",
      "Epoch 74/1000\n",
      " 1/46 [..............................] - ETA: 0s - loss: 0.6081 - accuracy: 0.8281\n",
      "Epoch 74: saving model to model/keypoint_classifier/keypoint_classifier.hdf5\n",
      "46/46 [==============================] - 0s 2ms/step - loss: 0.5939 - accuracy: 0.7626 - val_loss: 0.3320 - val_accuracy: 0.9230\n",
      "Epoch 75/1000\n",
      " 1/46 [..............................] - ETA: 0s - loss: 0.5947 - accuracy: 0.7812\n",
      "Epoch 75: saving model to model/keypoint_classifier/keypoint_classifier.hdf5\n",
      "46/46 [==============================] - 0s 1ms/step - loss: 0.5918 - accuracy: 0.7598 - val_loss: 0.3243 - val_accuracy: 0.9261\n",
      "Epoch 76/1000\n",
      " 1/46 [..............................] - ETA: 0s - loss: 0.5850 - accuracy: 0.7422\n",
      "Epoch 76: saving model to model/keypoint_classifier/keypoint_classifier.hdf5\n",
      "46/46 [==============================] - 0s 1ms/step - loss: 0.5900 - accuracy: 0.7574 - val_loss: 0.3250 - val_accuracy: 0.9318\n",
      "Epoch 77/1000\n",
      " 1/46 [..............................] - ETA: 0s - loss: 0.6817 - accuracy: 0.6797\n",
      "Epoch 77: saving model to model/keypoint_classifier/keypoint_classifier.hdf5\n",
      "46/46 [==============================] - 0s 1ms/step - loss: 0.5916 - accuracy: 0.7560 - val_loss: 0.3273 - val_accuracy: 0.9376\n",
      "Epoch 78/1000\n",
      " 1/46 [..............................] - ETA: 0s - loss: 0.5896 - accuracy: 0.7266\n",
      "Epoch 78: saving model to model/keypoint_classifier/keypoint_classifier.hdf5\n",
      "46/46 [==============================] - 0s 1ms/step - loss: 0.5941 - accuracy: 0.7546 - val_loss: 0.3256 - val_accuracy: 0.9334\n",
      "Epoch 79/1000\n",
      " 1/46 [..............................] - ETA: 0s - loss: 0.5345 - accuracy: 0.7578\n",
      "Epoch 79: saving model to model/keypoint_classifier/keypoint_classifier.hdf5\n",
      "46/46 [==============================] - 0s 1ms/step - loss: 0.5809 - accuracy: 0.7623 - val_loss: 0.3304 - val_accuracy: 0.9235\n",
      "Epoch 80/1000\n",
      " 1/46 [..............................] - ETA: 0s - loss: 0.5474 - accuracy: 0.8047\n",
      "Epoch 80: saving model to model/keypoint_classifier/keypoint_classifier.hdf5\n",
      "46/46 [==============================] - 0s 1ms/step - loss: 0.5811 - accuracy: 0.7687 - val_loss: 0.3213 - val_accuracy: 0.9308\n",
      "Epoch 81/1000\n",
      " 1/46 [..............................] - ETA: 0s - loss: 0.6651 - accuracy: 0.7422\n",
      "Epoch 81: saving model to model/keypoint_classifier/keypoint_classifier.hdf5\n",
      "46/46 [==============================] - 0s 1ms/step - loss: 0.5791 - accuracy: 0.7657 - val_loss: 0.3164 - val_accuracy: 0.9350\n",
      "Epoch 82/1000\n",
      " 1/46 [..............................] - ETA: 0s - loss: 0.5608 - accuracy: 0.7812\n",
      "Epoch 82: saving model to model/keypoint_classifier/keypoint_classifier.hdf5\n",
      "46/46 [==============================] - 0s 1ms/step - loss: 0.5823 - accuracy: 0.7621 - val_loss: 0.3213 - val_accuracy: 0.9303\n",
      "Epoch 83/1000\n",
      " 1/46 [..............................] - ETA: 0s - loss: 0.6477 - accuracy: 0.6797\n",
      "Epoch 83: saving model to model/keypoint_classifier/keypoint_classifier.hdf5\n",
      "46/46 [==============================] - 0s 1ms/step - loss: 0.5741 - accuracy: 0.7656 - val_loss: 0.3225 - val_accuracy: 0.9360\n",
      "Epoch 84/1000\n",
      " 1/46 [..............................] - ETA: 0s - loss: 0.5630 - accuracy: 0.7812\n",
      "Epoch 84: saving model to model/keypoint_classifier/keypoint_classifier.hdf5\n",
      "46/46 [==============================] - 0s 1ms/step - loss: 0.5763 - accuracy: 0.7630 - val_loss: 0.3160 - val_accuracy: 0.9391\n",
      "Epoch 85/1000\n",
      " 1/46 [..............................] - ETA: 0s - loss: 0.5585 - accuracy: 0.7812\n",
      "Epoch 85: saving model to model/keypoint_classifier/keypoint_classifier.hdf5\n",
      "46/46 [==============================] - 0s 1ms/step - loss: 0.5804 - accuracy: 0.7588 - val_loss: 0.3213 - val_accuracy: 0.9381\n",
      "Epoch 86/1000\n",
      " 1/46 [..............................] - ETA: 0s - loss: 0.5836 - accuracy: 0.7656\n",
      "Epoch 86: saving model to model/keypoint_classifier/keypoint_classifier.hdf5\n",
      "46/46 [==============================] - 0s 1ms/step - loss: 0.5697 - accuracy: 0.7607 - val_loss: 0.3130 - val_accuracy: 0.9422\n",
      "Epoch 87/1000\n",
      " 1/46 [..............................] - ETA: 0s - loss: 0.6048 - accuracy: 0.7656\n",
      "Epoch 87: saving model to model/keypoint_classifier/keypoint_classifier.hdf5\n",
      "46/46 [==============================] - 0s 1ms/step - loss: 0.5491 - accuracy: 0.7810 - val_loss: 0.3056 - val_accuracy: 0.9412\n",
      "Epoch 88/1000\n",
      " 1/46 [..............................] - ETA: 0s - loss: 0.5334 - accuracy: 0.7578\n",
      "Epoch 88: saving model to model/keypoint_classifier/keypoint_classifier.hdf5\n",
      "46/46 [==============================] - 0s 1ms/step - loss: 0.5641 - accuracy: 0.7723 - val_loss: 0.2981 - val_accuracy: 0.9412\n",
      "Epoch 89/1000\n",
      " 1/46 [..............................] - ETA: 0s - loss: 0.6080 - accuracy: 0.7344\n",
      "Epoch 89: saving model to model/keypoint_classifier/keypoint_classifier.hdf5\n",
      "46/46 [==============================] - 0s 1ms/step - loss: 0.5596 - accuracy: 0.7769 - val_loss: 0.3009 - val_accuracy: 0.9412\n",
      "Epoch 90/1000\n",
      " 1/46 [..............................] - ETA: 0s - loss: 0.4517 - accuracy: 0.8359\n",
      "Epoch 90: saving model to model/keypoint_classifier/keypoint_classifier.hdf5\n",
      "46/46 [==============================] - 0s 2ms/step - loss: 0.5682 - accuracy: 0.7703 - val_loss: 0.3178 - val_accuracy: 0.9339\n",
      "Epoch 91/1000\n",
      " 1/46 [..............................] - ETA: 0s - loss: 0.4928 - accuracy: 0.8203\n",
      "Epoch 91: saving model to model/keypoint_classifier/keypoint_classifier.hdf5\n",
      "46/46 [==============================] - 0s 1ms/step - loss: 0.5614 - accuracy: 0.7689 - val_loss: 0.3095 - val_accuracy: 0.9376\n",
      "Epoch 92/1000\n",
      " 1/46 [..............................] - ETA: 0s - loss: 0.6313 - accuracy: 0.7344\n",
      "Epoch 92: saving model to model/keypoint_classifier/keypoint_classifier.hdf5\n",
      "46/46 [==============================] - 0s 1ms/step - loss: 0.5679 - accuracy: 0.7682 - val_loss: 0.3223 - val_accuracy: 0.9303\n",
      "Epoch 93/1000\n",
      " 1/46 [..............................] - ETA: 0s - loss: 0.5466 - accuracy: 0.7266\n",
      "Epoch 93: saving model to model/keypoint_classifier/keypoint_classifier.hdf5\n",
      "46/46 [==============================] - 0s 1ms/step - loss: 0.5597 - accuracy: 0.7723 - val_loss: 0.3095 - val_accuracy: 0.9386\n",
      "Epoch 94/1000\n",
      " 1/46 [..............................] - ETA: 0s - loss: 0.6086 - accuracy: 0.7578\n",
      "Epoch 94: saving model to model/keypoint_classifier/keypoint_classifier.hdf5\n",
      "46/46 [==============================] - 0s 1ms/step - loss: 0.5538 - accuracy: 0.7753 - val_loss: 0.3090 - val_accuracy: 0.9282\n",
      "Epoch 95/1000\n",
      " 1/46 [..............................] - ETA: 0s - loss: 0.4684 - accuracy: 0.8203\n",
      "Epoch 95: saving model to model/keypoint_classifier/keypoint_classifier.hdf5\n",
      "46/46 [==============================] - 0s 1ms/step - loss: 0.5523 - accuracy: 0.7755 - val_loss: 0.3162 - val_accuracy: 0.9350\n",
      "Epoch 96/1000\n",
      " 1/46 [..............................] - ETA: 0s - loss: 0.5642 - accuracy: 0.8047\n",
      "Epoch 96: saving model to model/keypoint_classifier/keypoint_classifier.hdf5\n",
      "46/46 [==============================] - 0s 1ms/step - loss: 0.5571 - accuracy: 0.7751 - val_loss: 0.3150 - val_accuracy: 0.9376\n",
      "Epoch 97/1000\n",
      " 1/46 [..............................] - ETA: 0s - loss: 0.4832 - accuracy: 0.8281\n",
      "Epoch 97: saving model to model/keypoint_classifier/keypoint_classifier.hdf5\n",
      "46/46 [==============================] - 0s 1ms/step - loss: 0.5493 - accuracy: 0.7800 - val_loss: 0.3091 - val_accuracy: 0.9381\n",
      "Epoch 98/1000\n",
      " 1/46 [..............................] - ETA: 0s - loss: 0.5320 - accuracy: 0.7969\n",
      "Epoch 98: saving model to model/keypoint_classifier/keypoint_classifier.hdf5\n",
      "46/46 [==============================] - 0s 1ms/step - loss: 0.5543 - accuracy: 0.7763 - val_loss: 0.3090 - val_accuracy: 0.9402\n",
      "Epoch 99/1000\n",
      " 1/46 [..............................] - ETA: 0s - loss: 0.6179 - accuracy: 0.7031\n",
      "Epoch 99: saving model to model/keypoint_classifier/keypoint_classifier.hdf5\n",
      "46/46 [==============================] - 0s 1ms/step - loss: 0.5467 - accuracy: 0.7782 - val_loss: 0.2922 - val_accuracy: 0.9501\n",
      "Epoch 100/1000\n",
      " 1/46 [..............................] - ETA: 0s - loss: 0.5824 - accuracy: 0.7734\n",
      "Epoch 100: saving model to model/keypoint_classifier/keypoint_classifier.hdf5\n",
      "46/46 [==============================] - 0s 1ms/step - loss: 0.5515 - accuracy: 0.7784 - val_loss: 0.3019 - val_accuracy: 0.9407\n",
      "Epoch 101/1000\n",
      " 1/46 [..............................] - ETA: 0s - loss: 0.5012 - accuracy: 0.7969\n",
      "Epoch 101: saving model to model/keypoint_classifier/keypoint_classifier.hdf5\n",
      "46/46 [==============================] - 0s 1ms/step - loss: 0.5487 - accuracy: 0.7710 - val_loss: 0.3153 - val_accuracy: 0.9339\n",
      "Epoch 102/1000\n",
      " 1/46 [..............................] - ETA: 0s - loss: 0.5956 - accuracy: 0.7578\n",
      "Epoch 102: saving model to model/keypoint_classifier/keypoint_classifier.hdf5\n",
      "46/46 [==============================] - 0s 1ms/step - loss: 0.5332 - accuracy: 0.7859 - val_loss: 0.2977 - val_accuracy: 0.9448\n",
      "Epoch 103/1000\n",
      " 1/46 [..............................] - ETA: 0s - loss: 0.4117 - accuracy: 0.7969\n",
      "Epoch 103: saving model to model/keypoint_classifier/keypoint_classifier.hdf5\n",
      "46/46 [==============================] - 0s 1ms/step - loss: 0.5302 - accuracy: 0.7893 - val_loss: 0.3080 - val_accuracy: 0.9464\n",
      "Epoch 104/1000\n",
      " 1/46 [..............................] - ETA: 0s - loss: 0.4645 - accuracy: 0.8047\n",
      "Epoch 104: saving model to model/keypoint_classifier/keypoint_classifier.hdf5\n",
      "46/46 [==============================] - 0s 1ms/step - loss: 0.5547 - accuracy: 0.7789 - val_loss: 0.3088 - val_accuracy: 0.9370\n",
      "Epoch 105/1000\n",
      " 1/46 [..............................] - ETA: 0s - loss: 0.5764 - accuracy: 0.7656\n",
      "Epoch 105: saving model to model/keypoint_classifier/keypoint_classifier.hdf5\n",
      "46/46 [==============================] - 0s 1ms/step - loss: 0.5512 - accuracy: 0.7730 - val_loss: 0.3065 - val_accuracy: 0.9428\n",
      "Epoch 106/1000\n",
      " 1/46 [..............................] - ETA: 0s - loss: 0.5262 - accuracy: 0.7812\n",
      "Epoch 106: saving model to model/keypoint_classifier/keypoint_classifier.hdf5\n",
      "46/46 [==============================] - 0s 2ms/step - loss: 0.5343 - accuracy: 0.7883 - val_loss: 0.3160 - val_accuracy: 0.9360\n",
      "Epoch 107/1000\n",
      " 1/46 [..............................] - ETA: 0s - loss: 0.4870 - accuracy: 0.8203\n",
      "Epoch 107: saving model to model/keypoint_classifier/keypoint_classifier.hdf5\n",
      "46/46 [==============================] - 0s 1ms/step - loss: 0.5339 - accuracy: 0.7904 - val_loss: 0.2970 - val_accuracy: 0.9402\n",
      "Epoch 108/1000\n",
      " 1/46 [..............................] - ETA: 0s - loss: 0.4614 - accuracy: 0.8359\n",
      "Epoch 108: saving model to model/keypoint_classifier/keypoint_classifier.hdf5\n",
      "46/46 [==============================] - 0s 1ms/step - loss: 0.5126 - accuracy: 0.7977 - val_loss: 0.2984 - val_accuracy: 0.9313\n",
      "Epoch 109/1000\n",
      " 1/46 [..............................] - ETA: 0s - loss: 0.5132 - accuracy: 0.7969\n",
      "Epoch 109: saving model to model/keypoint_classifier/keypoint_classifier.hdf5\n",
      "46/46 [==============================] - 0s 1ms/step - loss: 0.5470 - accuracy: 0.7801 - val_loss: 0.2829 - val_accuracy: 0.9594\n",
      "Epoch 110/1000\n",
      " 1/46 [..............................] - ETA: 0s - loss: 0.5049 - accuracy: 0.8047\n",
      "Epoch 110: saving model to model/keypoint_classifier/keypoint_classifier.hdf5\n",
      "46/46 [==============================] - 0s 1ms/step - loss: 0.5088 - accuracy: 0.8001 - val_loss: 0.2891 - val_accuracy: 0.9464\n",
      "Epoch 111/1000\n",
      " 1/46 [..............................] - ETA: 0s - loss: 0.5115 - accuracy: 0.7969\n",
      "Epoch 111: saving model to model/keypoint_classifier/keypoint_classifier.hdf5\n",
      "46/46 [==============================] - 0s 1ms/step - loss: 0.5233 - accuracy: 0.7949 - val_loss: 0.3034 - val_accuracy: 0.9365\n",
      "Epoch 112/1000\n",
      " 1/46 [..............................] - ETA: 0s - loss: 0.5590 - accuracy: 0.7656\n",
      "Epoch 112: saving model to model/keypoint_classifier/keypoint_classifier.hdf5\n",
      "46/46 [==============================] - 0s 1ms/step - loss: 0.5152 - accuracy: 0.7973 - val_loss: 0.2854 - val_accuracy: 0.9454\n",
      "Epoch 113/1000\n",
      " 1/46 [..............................] - ETA: 0s - loss: 0.5240 - accuracy: 0.7734\n",
      "Epoch 113: saving model to model/keypoint_classifier/keypoint_classifier.hdf5\n",
      "46/46 [==============================] - 0s 1ms/step - loss: 0.5166 - accuracy: 0.7972 - val_loss: 0.2802 - val_accuracy: 0.9475\n",
      "Epoch 114/1000\n",
      " 1/46 [..............................] - ETA: 0s - loss: 0.5217 - accuracy: 0.7969\n",
      "Epoch 114: saving model to model/keypoint_classifier/keypoint_classifier.hdf5\n",
      "46/46 [==============================] - 0s 1ms/step - loss: 0.5073 - accuracy: 0.7977 - val_loss: 0.2933 - val_accuracy: 0.9417\n",
      "Epoch 115/1000\n",
      " 1/46 [..............................] - ETA: 0s - loss: 0.4803 - accuracy: 0.7969\n",
      "Epoch 115: saving model to model/keypoint_classifier/keypoint_classifier.hdf5\n",
      "46/46 [==============================] - 0s 1ms/step - loss: 0.5106 - accuracy: 0.7999 - val_loss: 0.2933 - val_accuracy: 0.9318\n",
      "Epoch 116/1000\n",
      " 1/46 [..............................] - ETA: 0s - loss: 0.4667 - accuracy: 0.8047\n",
      "Epoch 116: saving model to model/keypoint_classifier/keypoint_classifier.hdf5\n",
      "46/46 [==============================] - 0s 1ms/step - loss: 0.5234 - accuracy: 0.7942 - val_loss: 0.2888 - val_accuracy: 0.9318\n",
      "Epoch 117/1000\n",
      " 1/46 [..............................] - ETA: 0s - loss: 0.5904 - accuracy: 0.7891\n",
      "Epoch 117: saving model to model/keypoint_classifier/keypoint_classifier.hdf5\n",
      "46/46 [==============================] - 0s 1ms/step - loss: 0.5130 - accuracy: 0.7933 - val_loss: 0.2951 - val_accuracy: 0.9422\n",
      "Epoch 118/1000\n",
      " 1/46 [..............................] - ETA: 0s - loss: 0.4565 - accuracy: 0.8281\n",
      "Epoch 118: saving model to model/keypoint_classifier/keypoint_classifier.hdf5\n",
      "46/46 [==============================] - 0s 1ms/step - loss: 0.5216 - accuracy: 0.7939 - val_loss: 0.3083 - val_accuracy: 0.9318\n",
      "Epoch 119/1000\n",
      " 1/46 [..............................] - ETA: 0s - loss: 0.5928 - accuracy: 0.7891\n",
      "Epoch 119: saving model to model/keypoint_classifier/keypoint_classifier.hdf5\n",
      "46/46 [==============================] - 0s 1ms/step - loss: 0.5226 - accuracy: 0.7959 - val_loss: 0.3066 - val_accuracy: 0.9251\n",
      "Epoch 120/1000\n",
      " 1/46 [..............................] - ETA: 0s - loss: 0.4326 - accuracy: 0.8047\n",
      "Epoch 120: saving model to model/keypoint_classifier/keypoint_classifier.hdf5\n",
      "46/46 [==============================] - 0s 1ms/step - loss: 0.4980 - accuracy: 0.8025 - val_loss: 0.2950 - val_accuracy: 0.9344\n",
      "Epoch 121/1000\n",
      " 1/46 [..............................] - ETA: 0s - loss: 0.6134 - accuracy: 0.7344\n",
      "Epoch 121: saving model to model/keypoint_classifier/keypoint_classifier.hdf5\n",
      "46/46 [==============================] - 0s 1ms/step - loss: 0.4950 - accuracy: 0.8112 - val_loss: 0.2982 - val_accuracy: 0.9214\n",
      "Epoch 122/1000\n",
      " 1/46 [..............................] - ETA: 0s - loss: 0.6621 - accuracy: 0.7266\n",
      "Epoch 122: saving model to model/keypoint_classifier/keypoint_classifier.hdf5\n",
      "46/46 [==============================] - 0s 1ms/step - loss: 0.5214 - accuracy: 0.7984 - val_loss: 0.3130 - val_accuracy: 0.9116\n",
      "Epoch 123/1000\n",
      " 1/46 [..............................] - ETA: 0s - loss: 0.6196 - accuracy: 0.7656\n",
      "Epoch 123: saving model to model/keypoint_classifier/keypoint_classifier.hdf5\n",
      "46/46 [==============================] - 0s 2ms/step - loss: 0.4996 - accuracy: 0.7998 - val_loss: 0.2845 - val_accuracy: 0.9412\n",
      "Epoch 124/1000\n",
      " 1/46 [..............................] - ETA: 0s - loss: 0.3722 - accuracy: 0.8672\n",
      "Epoch 124: saving model to model/keypoint_classifier/keypoint_classifier.hdf5\n",
      "46/46 [==============================] - 0s 1ms/step - loss: 0.5128 - accuracy: 0.7966 - val_loss: 0.3005 - val_accuracy: 0.9209\n",
      "Epoch 125/1000\n",
      " 1/46 [..............................] - ETA: 0s - loss: 0.4326 - accuracy: 0.8281\n",
      "Epoch 125: saving model to model/keypoint_classifier/keypoint_classifier.hdf5\n",
      "46/46 [==============================] - 0s 1ms/step - loss: 0.5086 - accuracy: 0.7999 - val_loss: 0.2840 - val_accuracy: 0.9365\n",
      "Epoch 126/1000\n",
      " 1/46 [..............................] - ETA: 0s - loss: 0.4596 - accuracy: 0.7734\n",
      "Epoch 126: saving model to model/keypoint_classifier/keypoint_classifier.hdf5\n",
      "46/46 [==============================] - 0s 1ms/step - loss: 0.5009 - accuracy: 0.8043 - val_loss: 0.3167 - val_accuracy: 0.9074\n",
      "Epoch 127/1000\n",
      " 1/46 [..............................] - ETA: 0s - loss: 0.4497 - accuracy: 0.8359\n",
      "Epoch 127: saving model to model/keypoint_classifier/keypoint_classifier.hdf5\n",
      "46/46 [==============================] - 0s 1ms/step - loss: 0.5112 - accuracy: 0.7985 - val_loss: 0.2953 - val_accuracy: 0.9220\n",
      "Epoch 128/1000\n",
      " 1/46 [..............................] - ETA: 0s - loss: 0.4876 - accuracy: 0.8281\n",
      "Epoch 128: saving model to model/keypoint_classifier/keypoint_classifier.hdf5\n",
      "46/46 [==============================] - 0s 1ms/step - loss: 0.4982 - accuracy: 0.8126 - val_loss: 0.3007 - val_accuracy: 0.9063\n",
      "Epoch 129/1000\n",
      " 1/46 [..............................] - ETA: 0s - loss: 0.5806 - accuracy: 0.7812\n",
      "Epoch 129: saving model to model/keypoint_classifier/keypoint_classifier.hdf5\n",
      "46/46 [==============================] - 0s 1ms/step - loss: 0.4993 - accuracy: 0.8072 - val_loss: 0.3139 - val_accuracy: 0.8996\n",
      "Epoch 130/1000\n",
      " 1/46 [..............................] - ETA: 0s - loss: 0.5096 - accuracy: 0.8047\n",
      "Epoch 130: saving model to model/keypoint_classifier/keypoint_classifier.hdf5\n",
      "46/46 [==============================] - 0s 1ms/step - loss: 0.5017 - accuracy: 0.8034 - val_loss: 0.3211 - val_accuracy: 0.8845\n",
      "Epoch 131/1000\n",
      " 1/46 [..............................] - ETA: 0s - loss: 0.4972 - accuracy: 0.8125\n",
      "Epoch 131: saving model to model/keypoint_classifier/keypoint_classifier.hdf5\n",
      "46/46 [==============================] - 0s 1ms/step - loss: 0.5078 - accuracy: 0.8005 - val_loss: 0.3012 - val_accuracy: 0.9126\n",
      "Epoch 132/1000\n",
      " 1/46 [..............................] - ETA: 0s - loss: 0.5350 - accuracy: 0.7812\n",
      "Epoch 132: saving model to model/keypoint_classifier/keypoint_classifier.hdf5\n",
      "46/46 [==============================] - 0s 1ms/step - loss: 0.4924 - accuracy: 0.7991 - val_loss: 0.3031 - val_accuracy: 0.9147\n",
      "Epoch 133/1000\n",
      " 1/46 [..............................] - ETA: 0s - loss: 0.5020 - accuracy: 0.8281\n",
      "Epoch 133: saving model to model/keypoint_classifier/keypoint_classifier.hdf5\n",
      "46/46 [==============================] - 0s 1ms/step - loss: 0.4971 - accuracy: 0.8055 - val_loss: 0.2914 - val_accuracy: 0.9334\n",
      "Epoch 133: early stopping\n"
     ]
    },
    {
     "data": {
      "text/plain": [
       "<keras.src.callbacks.History at 0x2cd200850>"
      ]
     },
     "execution_count": 33,
     "metadata": {},
     "output_type": "execute_result"
    }
   ],
   "source": [
    "model.fit(\n",
    "    X_train,\n",
    "    y_train,\n",
    "    epochs=1000,\n",
    "    batch_size=128,\n",
    "    validation_data=(X_test, y_test),\n",
    "    callbacks=[cp_callback, es_callback]\n",
    ")"
   ]
  },
  {
   "cell_type": "code",
   "execution_count": 34,
   "metadata": {},
   "outputs": [
    {
     "name": "stdout",
     "output_type": "stream",
     "text": [
      "16/16 [==============================] - 0s 634us/step - loss: 0.2914 - accuracy: 0.9334\n"
     ]
    }
   ],
   "source": [
    "# モデル評価\n",
    "val_loss, val_acc = model.evaluate(X_test, y_test, batch_size=128)"
   ]
  },
  {
   "cell_type": "code",
   "execution_count": 35,
   "metadata": {},
   "outputs": [],
   "source": [
    "# 保存したモデルのロード\n",
    "model = tf.keras.models.load_model(model_save_path)"
   ]
  },
  {
   "cell_type": "code",
   "execution_count": 36,
   "metadata": {},
   "outputs": [
    {
     "name": "stdout",
     "output_type": "stream",
     "text": [
      "1/1 [==============================] - 0s 34ms/step\n",
      "[3.1218806e-03 9.9583948e-01 1.7468830e-11 7.8476430e-04 2.5128352e-04\n",
      " 2.4839126e-06]\n",
      "1\n"
     ]
    }
   ],
   "source": [
    "# 推論テスト\n",
    "predict_result = model.predict(np.array([X_test[0]]))\n",
    "print(np.squeeze(predict_result))\n",
    "print(np.argmax(np.squeeze(predict_result)))"
   ]
  },
  {
   "cell_type": "markdown",
   "metadata": {},
   "source": [
    "# 混同行列"
   ]
  },
  {
   "cell_type": "code",
   "execution_count": 37,
   "metadata": {},
   "outputs": [
    {
     "name": "stdout",
     "output_type": "stream",
     "text": [
      "61/61 [==============================] - 0s 423us/step\n"
     ]
    },
    {
     "data": {
      "image/png": "[encoded data removed]",
      "text/plain": [
       "<Figure size 700x600 with 2 Axes>"
      ]
     },
     "metadata": {},
     "output_type": "display_data"
    },
    {
     "name": "stdout",
     "output_type": "stream",
     "text": [
      "Classification Report\n",
      "              precision    recall  f1-score   support\n",
      "\n",
      "           0       0.99      0.96      0.97       410\n",
      "           1       0.98      0.97      0.97       406\n",
      "           3       0.89      0.99      0.94        73\n",
      "           4       0.93      0.80      0.86       391\n",
      "           5       0.89      0.97      0.93       642\n",
      "\n",
      "    accuracy                           0.93      1922\n",
      "   macro avg       0.93      0.94      0.93      1922\n",
      "weighted avg       0.94      0.93      0.93      1922\n",
      "\n"
     ]
    }
   ],
   "source": [
    "import pandas as pd\n",
    "import seaborn as sns\n",
    "import matplotlib.pyplot as plt\n",
    "from sklearn.metrics import confusion_matrix, classification_report\n",
    "\n",
    "def print_confusion_matrix(y_true, y_pred, report=True):\n",
    "    labels = sorted(list(set(y_true)))\n",
    "    cmx_data = confusion_matrix(y_true, y_pred, labels=labels)\n",
    "    \n",
    "    df_cmx = pd.DataFrame(cmx_data, index=labels, columns=labels)\n",
    " \n",
    "    fig, ax = plt.subplots(figsize=(7, 6))\n",
    "    sns.heatmap(df_cmx, annot=True, fmt='g' ,square=False)\n",
    "    ax.set_ylim(len(set(y_true)), 0)\n",
    "    plt.show()\n",
    "    \n",
    "    if report:\n",
    "        print('Classification Report')\n",
    "        print(classification_report(y_test, y_pred))\n",
    "\n",
    "Y_pred = model.predict(X_test)\n",
    "y_pred = np.argmax(Y_pred, axis=1)\n",
    "\n",
    "print_confusion_matrix(y_test, y_pred)"
   ]
  },
  {
   "cell_type": "markdown",
   "metadata": {},
   "source": [
    "# Tensorflow-Lite用のモデルへ変換"
   ]
  },
  {
   "cell_type": "code",
   "execution_count": 38,
   "metadata": {},
   "outputs": [
    {
     "name": "stderr",
     "output_type": "stream",
     "text": [
      "/Users/nathanchen/Library/Python/3.9/lib/python/site-packages/keras/src/engine/training.py:3000: UserWarning: You are saving your model as an HDF5 file via `model.save()`. This file format is considered legacy. We recommend using instead the native Keras format, e.g. `model.save('my_model.keras')`.\n",
      "  saving_api.save_model(\n"
     ]
    }
   ],
   "source": [
    "# 推論専用のモデルとして保存\n",
    "model.save(model_save_path, include_optimizer=False)"
   ]
  },
  {
   "cell_type": "code",
   "execution_count": 39,
   "metadata": {},
   "outputs": [
    {
     "name": "stdout",
     "output_type": "stream",
     "text": [
      "INFO:tensorflow:Assets written to: /var/folders/fw/pp7153d102j6wdlj_0mzpm740000gn/T/tmpbzg1_i4b/assets\n"
     ]
    },
    {
     "name": "stderr",
     "output_type": "stream",
     "text": [
      "INFO:tensorflow:Assets written to: /var/folders/fw/pp7153d102j6wdlj_0mzpm740000gn/T/tmpbzg1_i4b/assets\n",
      "2023-08-14 09:38:18.720031: W tensorflow/compiler/mlir/lite/python/tf_tfl_flatbuffer_helpers.cc:364] Ignored output_format.\n",
      "2023-08-14 09:38:18.720213: W tensorflow/compiler/mlir/lite/python/tf_tfl_flatbuffer_helpers.cc:367] Ignored drop_control_dependency.\n",
      "2023-08-14 09:38:18.721064: I tensorflow/cc/saved_model/reader.cc:45] Reading SavedModel from: /var/folders/fw/pp7153d102j6wdlj_0mzpm740000gn/T/tmpbzg1_i4b\n",
      "2023-08-14 09:38:18.721920: I tensorflow/cc/saved_model/reader.cc:91] Reading meta graph with tags { serve }\n",
      "2023-08-14 09:38:18.721927: I tensorflow/cc/saved_model/reader.cc:132] Reading SavedModel debug info (if present) from: /var/folders/fw/pp7153d102j6wdlj_0mzpm740000gn/T/tmpbzg1_i4b\n",
      "2023-08-14 09:38:18.725171: I tensorflow/cc/saved_model/loader.cc:231] Restoring SavedModel bundle.\n",
      "2023-08-14 09:38:18.761747: I tensorflow/cc/saved_model/loader.cc:215] Running initialization op on SavedModel bundle at path: /var/folders/fw/pp7153d102j6wdlj_0mzpm740000gn/T/tmpbzg1_i4b\n",
      "2023-08-14 09:38:18.771793: I tensorflow/cc/saved_model/loader.cc:314] SavedModel load for tags { serve }; Status: success: OK. Took 50730 microseconds.\n"
     ]
    },
    {
     "data": {
      "text/plain": [
       "6660"
      ]
     },
     "execution_count": 39,
     "metadata": {},
     "output_type": "execute_result"
    }
   ],
   "source": [
    "# モデルを変換(量子化)\n",
    "tflite_save_path = 'model/keypoint_classifier/keypoint_classifier.tflite'\n",
    "\n",
    "converter = tf.lite.TFLiteConverter.from_keras_model(model)\n",
    "converter.optimizations = [tf.lite.Optimize.DEFAULT]\n",
    "tflite_quantized_model = converter.convert()\n",
    "\n",
    "open(tflite_save_path, 'wb').write(tflite_quantized_model)"
   ]
  },
  {
   "cell_type": "markdown",
   "metadata": {},
   "source": [
    "# 推論テスト"
   ]
  },
  {
   "cell_type": "code",
   "execution_count": 40,
   "metadata": {},
   "outputs": [],
   "source": [
    "interpreter = tf.lite.Interpreter(model_path=tflite_save_path)\n",
    "interpreter.allocate_tensors()"
   ]
  },
  {
   "cell_type": "code",
   "execution_count": 41,
   "metadata": {},
   "outputs": [],
   "source": [
    "# 入出力テンソルを取得\n",
    "input_details = interpreter.get_input_details()\n",
    "output_details = interpreter.get_output_details()"
   ]
  },
  {
   "cell_type": "code",
   "execution_count": 42,
   "metadata": {},
   "outputs": [],
   "source": [
    "interpreter.set_tensor(input_details[0]['index'], np.array([X_test[0]]))"
   ]
  },
  {
   "cell_type": "code",
   "execution_count": 43,
   "metadata": {
    "scrolled": true
   },
   "outputs": [
    {
     "name": "stdout",
     "output_type": "stream",
     "text": [
      "CPU times: user 90 µs, sys: 38 µs, total: 128 µs\n",
      "Wall time: 120 µs\n"
     ]
    }
   ],
   "source": [
    "%%time\n",
    "# 推論実施\n",
    "interpreter.invoke()\n",
    "tflite_results = interpreter.get_tensor(output_details[0]['index'])"
   ]
  },
  {
   "cell_type": "code",
   "execution_count": 44,
   "metadata": {},
   "outputs": [
    {
     "name": "stdout",
     "output_type": "stream",
     "text": [
      "[3.1218806e-03 9.9583948e-01 1.7468900e-11 7.8476546e-04 2.5128401e-04\n",
      " 2.4839103e-06]\n",
      "1\n"
     ]
    }
   ],
   "source": [
    "print(np.squeeze(tflite_results))\n",
    "print(np.argmax(np.squeeze(tflite_results)))"
   ]
  }
 ],
 "metadata": {
  "kernelspec": {
   "display_name": "Python 3",
   "language": "python",
   "name": "python3"
  },
  "language_info": {
   "codemirror_mode": {
    "name": "ipython",
    "version": 3
   },
   "file_extension": ".py",
   "mimetype": "text/x-python",
   "name": "python",
   "nbconvert_exporter": "python",
   "pygments_lexer": "ipython3",
   "version": "3.9.15"
  }
 },
 "nbformat": 4,
 "nbformat_minor": 4
}
