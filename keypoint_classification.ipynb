{
 "cells": [
  {
   "cell_type": "code",
   "execution_count": 23,
   "metadata": {},
   "outputs": [],
   "source": [
    "import csv\n",
    "\n",
    "import numpy as np\n",
    "import tensorflow as tf\n",
    "from sklearn.model_selection import train_test_split\n",
    "\n",
    "RANDOM_SEED = 42"
   ]
  },
  {
   "cell_type": "markdown",
   "metadata": {},
   "source": [
    "# 各パス指定"
   ]
  },
  {
   "cell_type": "code",
   "execution_count": 24,
   "metadata": {},
   "outputs": [],
   "source": [
    "dataset = 'model/keypoint_classifier/keypoint.csv'\n",
    "model_save_path = 'model/keypoint_classifier/keypoint_classifier.hdf5'"
   ]
  },
  {
   "cell_type": "markdown",
   "metadata": {},
   "source": [
    "# 分類数設定"
   ]
  },
  {
   "cell_type": "code",
   "execution_count": 25,
   "metadata": {},
   "outputs": [],
   "source": [
    "NUM_CLASSES = 6"
   ]
  },
  {
   "cell_type": "markdown",
   "metadata": {},
   "source": [
    "# 学習データ読み込み"
   ]
  },
  {
   "cell_type": "code",
   "execution_count": 26,
   "metadata": {},
   "outputs": [],
   "source": [
    "X_dataset = np.loadtxt(dataset, delimiter=',', dtype='float32', usecols=list(range(1, (21 * 2) + 1)))"
   ]
  },
  {
   "cell_type": "code",
   "execution_count": 27,
   "metadata": {},
   "outputs": [],
   "source": [
    "y_dataset = np.loadtxt(dataset, delimiter=',', dtype='int32', usecols=(0))"
   ]
  },
  {
   "cell_type": "code",
   "execution_count": 28,
   "metadata": {},
   "outputs": [],
   "source": [
    "X_train, X_test, y_train, y_test = train_test_split(X_dataset, y_dataset, train_size=0.75, random_state=RANDOM_SEED)"
   ]
  },
  {
   "cell_type": "markdown",
   "metadata": {},
   "source": [
    "# モデル構築"
   ]
  },
  {
   "cell_type": "code",
   "execution_count": 29,
   "metadata": {},
   "outputs": [],
   "source": [
    "model = tf.keras.models.Sequential([\n",
    "    tf.keras.layers.Input((21 * 2, )),\n",
    "    tf.keras.layers.Dropout(0.2),\n",
    "    tf.keras.layers.Dense(20, activation='relu'),\n",
    "    tf.keras.layers.Dropout(0.4),\n",
    "    tf.keras.layers.Dense(10, activation='relu'),\n",
    "    tf.keras.layers.Dense(NUM_CLASSES, activation='softmax')\n",
    "])"
   ]
  },
  {
   "cell_type": "code",
   "execution_count": 30,
   "metadata": {},
   "outputs": [
    {
     "name": "stdout",
     "output_type": "stream",
     "text": [
      "Model: \"sequential_1\"\n",
      "_________________________________________________________________\n",
      " Layer (type)                Output Shape              Param #   \n",
      "=================================================================\n",
      " dropout_2 (Dropout)         (None, 42)                0         \n",
      "                                                                 \n",
      " dense_3 (Dense)             (None, 20)                860       \n",
      "                                                                 \n",
      " dropout_3 (Dropout)         (None, 20)                0         \n",
      "                                                                 \n",
      " dense_4 (Dense)             (None, 10)                210       \n",
      "                                                                 \n",
      " dense_5 (Dense)             (None, 6)                 66        \n",
      "                                                                 \n",
      "=================================================================\n",
      "Total params: 1136 (4.44 KB)\n",
      "Trainable params: 1136 (4.44 KB)\n",
      "Non-trainable params: 0 (0.00 Byte)\n",
      "_________________________________________________________________\n"
     ]
    }
   ],
   "source": [
    "model.summary()  # tf.keras.utils.plot_model(model, show_shapes=True)"
   ]
  },
  {
   "cell_type": "code",
   "execution_count": 31,
   "metadata": {},
   "outputs": [],
   "source": [
    "# モデルチェックポイントのコールバック\n",
    "cp_callback = tf.keras.callbacks.ModelCheckpoint(\n",
    "    model_save_path, verbose=1, save_weights_only=False)\n",
    "# 早期打ち切り用コールバック\n",
    "es_callback = tf.keras.callbacks.EarlyStopping(patience=20, verbose=1)"
   ]
  },
  {
   "cell_type": "code",
   "execution_count": 32,
   "metadata": {},
   "outputs": [],
   "source": [
    "# モデルコンパイル\n",
    "model.compile(\n",
    "    optimizer='adam',\n",
    "    loss='sparse_categorical_crossentropy',\n",
    "    metrics=['accuracy']\n",
    ")"
   ]
  },
  {
   "cell_type": "markdown",
   "metadata": {},
   "source": [
    "# モデル訓練"
   ]
  },
  {
   "cell_type": "code",
   "execution_count": 33,
   "metadata": {
    "scrolled": true
   },
   "outputs": [
    {
     "name": "stdout",
     "output_type": "stream",
     "text": [
      "Epoch 1/1000\n",
      " 1/42 [..............................] - ETA: 9s - loss: 2.0553 - accuracy: 0.0781\n",
      "Epoch 1: saving model to model/keypoint_classifier/keypoint_classifier.hdf5\n",
      "42/42 [==============================] - 0s 3ms/step - loss: 1.8309 - accuracy: 0.1698 - val_loss: 1.7011 - val_accuracy: 0.2280\n",
      "Epoch 2/1000\n",
      " 1/42 [..............................] - ETA: 0s - loss: 1.6428 - accuracy: 0.2422\n",
      "Epoch 2: saving model to model/keypoint_classifier/keypoint_classifier.hdf5\n",
      "42/42 [==============================] - 0s 1ms/step - loss: 1.6604 - accuracy: 0.2771 - val_loss: 1.5670 - val_accuracy: 0.2885\n",
      "Epoch 3/1000\n",
      " 1/42 [..............................] - ETA: 0s - loss: 1.6212 - accuracy: 0.2422\n",
      "Epoch 3: saving model to model/keypoint_classifier/keypoint_classifier.hdf5\n",
      "42/42 [==============================] - 0s 1ms/step - loss: 1.5556 - accuracy: 0.3593 - val_loss: 1.4630 - val_accuracy: 0.4594\n",
      "Epoch 4/1000\n",
      " 1/42 [..............................] - ETA: 0s - loss: 1.4955 - accuracy: 0.3984\n",
      "Epoch 4: saving model to model/keypoint_classifier/keypoint_classifier.hdf5\n",
      "42/42 [==============================] - 0s 1ms/step - loss: 1.4647 - accuracy: 0.4238 - val_loss: 1.3398 - val_accuracy: 0.4880\n",
      "Epoch 5/1000\n",
      " 1/42 [..............................] - ETA: 0s - loss: 1.4603 - accuracy: 0.4844"
     ]
    },
    {
     "name": "stderr",
     "output_type": "stream",
     "text": [
      "/Users/jwzhang/Library/Python/3.9/lib/python/site-packages/keras/src/engine/training.py:3000: UserWarning: You are saving your model as an HDF5 file via `model.save()`. This file format is considered legacy. We recommend using instead the native Keras format, e.g. `model.save('my_model.keras')`.\n",
      "  saving_api.save_model(\n"
     ]
    },
    {
     "name": "stdout",
     "output_type": "stream",
     "text": [
      "\n",
      "Epoch 5: saving model to model/keypoint_classifier/keypoint_classifier.hdf5\n",
      "42/42 [==============================] - 0s 1ms/step - loss: 1.3770 - accuracy: 0.4520 - val_loss: 1.2203 - val_accuracy: 0.5266\n",
      "Epoch 6/1000\n",
      " 1/42 [..............................] - ETA: 0s - loss: 1.2624 - accuracy: 0.4922\n",
      "Epoch 6: saving model to model/keypoint_classifier/keypoint_classifier.hdf5\n",
      "42/42 [==============================] - 0s 1ms/step - loss: 1.2817 - accuracy: 0.4830 - val_loss: 1.1223 - val_accuracy: 0.5501\n",
      "Epoch 7/1000\n",
      " 1/42 [..............................] - ETA: 0s - loss: 1.2119 - accuracy: 0.4609\n",
      "Epoch 7: saving model to model/keypoint_classifier/keypoint_classifier.hdf5\n",
      "42/42 [==============================] - 0s 1ms/step - loss: 1.2041 - accuracy: 0.5095 - val_loss: 1.0202 - val_accuracy: 0.5944\n",
      "Epoch 8/1000\n",
      " 1/42 [..............................] - ETA: 0s - loss: 1.0949 - accuracy: 0.5391\n",
      "Epoch 8: saving model to model/keypoint_classifier/keypoint_classifier.hdf5\n",
      "42/42 [==============================] - 0s 1ms/step - loss: 1.1453 - accuracy: 0.5192 - val_loss: 0.9235 - val_accuracy: 0.6515\n",
      "Epoch 9/1000\n",
      " 1/42 [..............................] - ETA: 0s - loss: 1.1176 - accuracy: 0.5703\n",
      "Epoch 9: saving model to model/keypoint_classifier/keypoint_classifier.hdf5\n",
      "42/42 [==============================] - 0s 1ms/step - loss: 1.0850 - accuracy: 0.5301 - val_loss: 0.8450 - val_accuracy: 0.6487\n",
      "Epoch 10/1000\n",
      " 1/42 [..............................] - ETA: 0s - loss: 1.0043 - accuracy: 0.5938\n",
      "Epoch 10: saving model to model/keypoint_classifier/keypoint_classifier.hdf5\n",
      "42/42 [==============================] - 0s 1ms/step - loss: 1.0360 - accuracy: 0.5557 - val_loss: 0.7863 - val_accuracy: 0.6846\n",
      "Epoch 11/1000\n",
      " 1/42 [..............................] - ETA: 0s - loss: 0.9474 - accuracy: 0.6094\n",
      "Epoch 11: saving model to model/keypoint_classifier/keypoint_classifier.hdf5\n",
      "42/42 [==============================] - 0s 1ms/step - loss: 0.9707 - accuracy: 0.5818 - val_loss: 0.7232 - val_accuracy: 0.7132\n",
      "Epoch 12/1000\n",
      " 1/42 [..............................] - ETA: 0s - loss: 0.9728 - accuracy: 0.5234\n",
      "Epoch 12: saving model to model/keypoint_classifier/keypoint_classifier.hdf5\n",
      "42/42 [==============================] - 0s 1ms/step - loss: 0.9456 - accuracy: 0.5962 - val_loss: 0.6810 - val_accuracy: 0.7204\n",
      "Epoch 13/1000\n",
      " 1/42 [..............................] - ETA: 0s - loss: 0.9781 - accuracy: 0.6328\n",
      "Epoch 13: saving model to model/keypoint_classifier/keypoint_classifier.hdf5\n",
      "42/42 [==============================] - 0s 1ms/step - loss: 0.9382 - accuracy: 0.5951 - val_loss: 0.6602 - val_accuracy: 0.7860\n",
      "Epoch 14/1000\n",
      " 1/42 [..............................] - ETA: 0s - loss: 0.9110 - accuracy: 0.6328\n",
      "Epoch 14: saving model to model/keypoint_classifier/keypoint_classifier.hdf5\n",
      "42/42 [==============================] - 0s 1ms/step - loss: 0.9072 - accuracy: 0.6033 - val_loss: 0.6388 - val_accuracy: 0.7714\n",
      "Epoch 15/1000\n",
      " 1/42 [..............................] - ETA: 0s - loss: 0.8689 - accuracy: 0.6094\n",
      "Epoch 15: saving model to model/keypoint_classifier/keypoint_classifier.hdf5\n",
      "42/42 [==============================] - 0s 1ms/step - loss: 0.8683 - accuracy: 0.6297 - val_loss: 0.6121 - val_accuracy: 0.7473\n",
      "Epoch 16/1000\n",
      " 1/42 [..............................] - ETA: 0s - loss: 0.7765 - accuracy: 0.7266\n",
      "Epoch 16: saving model to model/keypoint_classifier/keypoint_classifier.hdf5\n",
      "42/42 [==============================] - 0s 1ms/step - loss: 0.8529 - accuracy: 0.6323 - val_loss: 0.5908 - val_accuracy: 0.8812\n",
      "Epoch 17/1000\n",
      " 1/42 [..............................] - ETA: 0s - loss: 0.7922 - accuracy: 0.6250\n",
      "Epoch 17: saving model to model/keypoint_classifier/keypoint_classifier.hdf5\n",
      "42/42 [==============================] - 0s 1ms/step - loss: 0.8351 - accuracy: 0.6422 - val_loss: 0.5738 - val_accuracy: 0.8874\n",
      "Epoch 18/1000\n",
      " 1/42 [..............................] - ETA: 0s - loss: 0.8593 - accuracy: 0.6328\n",
      "Epoch 18: saving model to model/keypoint_classifier/keypoint_classifier.hdf5\n",
      "42/42 [==============================] - 0s 1ms/step - loss: 0.8324 - accuracy: 0.6541 - val_loss: 0.5639 - val_accuracy: 0.8947\n",
      "Epoch 19/1000\n",
      " 1/42 [..............................] - ETA: 0s - loss: 0.8467 - accuracy: 0.6406\n",
      "Epoch 19: saving model to model/keypoint_classifier/keypoint_classifier.hdf5\n",
      "42/42 [==============================] - 0s 1ms/step - loss: 0.8269 - accuracy: 0.6596 - val_loss: 0.5470 - val_accuracy: 0.9003\n",
      "Epoch 20/1000\n",
      " 1/42 [..............................] - ETA: 0s - loss: 0.7241 - accuracy: 0.6953\n",
      "Epoch 20: saving model to model/keypoint_classifier/keypoint_classifier.hdf5\n",
      "42/42 [==============================] - 0s 1ms/step - loss: 0.7946 - accuracy: 0.6616 - val_loss: 0.5349 - val_accuracy: 0.8840\n",
      "Epoch 21/1000\n",
      " 1/42 [..............................] - ETA: 0s - loss: 0.8417 - accuracy: 0.6172\n",
      "Epoch 21: saving model to model/keypoint_classifier/keypoint_classifier.hdf5\n",
      "42/42 [==============================] - 0s 1ms/step - loss: 0.7799 - accuracy: 0.6779 - val_loss: 0.5160 - val_accuracy: 0.9020\n",
      "Epoch 22/1000\n",
      " 1/42 [..............................] - ETA: 0s - loss: 0.8002 - accuracy: 0.6797\n",
      "Epoch 22: saving model to model/keypoint_classifier/keypoint_classifier.hdf5\n",
      "42/42 [==============================] - 0s 1ms/step - loss: 0.7669 - accuracy: 0.6723 - val_loss: 0.5069 - val_accuracy: 0.8992\n",
      "Epoch 23/1000\n",
      " 1/42 [..............................] - ETA: 0s - loss: 0.8007 - accuracy: 0.6562\n",
      "Epoch 23: saving model to model/keypoint_classifier/keypoint_classifier.hdf5\n",
      "42/42 [==============================] - 0s 1ms/step - loss: 0.7651 - accuracy: 0.6855 - val_loss: 0.4918 - val_accuracy: 0.9020\n",
      "Epoch 24/1000\n",
      " 1/42 [..............................] - ETA: 0s - loss: 0.7268 - accuracy: 0.7500\n",
      "Epoch 24: saving model to model/keypoint_classifier/keypoint_classifier.hdf5\n",
      "42/42 [==============================] - 0s 1ms/step - loss: 0.7499 - accuracy: 0.6895 - val_loss: 0.4916 - val_accuracy: 0.8947\n",
      "Epoch 25/1000\n",
      " 1/42 [..............................] - ETA: 0s - loss: 0.8342 - accuracy: 0.6016\n",
      "Epoch 25: saving model to model/keypoint_classifier/keypoint_classifier.hdf5\n",
      "42/42 [==============================] - 0s 1ms/step - loss: 0.7336 - accuracy: 0.6977 - val_loss: 0.4738 - val_accuracy: 0.9120\n",
      "Epoch 26/1000\n",
      " 1/42 [..............................] - ETA: 0s - loss: 0.8527 - accuracy: 0.6797\n",
      "Epoch 26: saving model to model/keypoint_classifier/keypoint_classifier.hdf5\n",
      "42/42 [==============================] - 0s 1ms/step - loss: 0.7352 - accuracy: 0.6956 - val_loss: 0.4729 - val_accuracy: 0.9188\n",
      "Epoch 27/1000\n",
      " 1/42 [..............................] - ETA: 0s - loss: 0.6406 - accuracy: 0.7188\n",
      "Epoch 27: saving model to model/keypoint_classifier/keypoint_classifier.hdf5\n",
      "42/42 [==============================] - 0s 1ms/step - loss: 0.7260 - accuracy: 0.7009 - val_loss: 0.4593 - val_accuracy: 0.9171\n",
      "Epoch 28/1000\n",
      " 1/42 [..............................] - ETA: 0s - loss: 0.7550 - accuracy: 0.6719\n",
      "Epoch 28: saving model to model/keypoint_classifier/keypoint_classifier.hdf5\n",
      "42/42 [==============================] - 0s 1ms/step - loss: 0.7256 - accuracy: 0.7044 - val_loss: 0.4555 - val_accuracy: 0.9188\n",
      "Epoch 29/1000\n",
      " 1/42 [..............................] - ETA: 0s - loss: 0.6733 - accuracy: 0.7188\n",
      "Epoch 29: saving model to model/keypoint_classifier/keypoint_classifier.hdf5\n",
      "42/42 [==============================] - 0s 1ms/step - loss: 0.7133 - accuracy: 0.7048 - val_loss: 0.4488 - val_accuracy: 0.9188\n",
      "Epoch 30/1000\n",
      " 1/42 [..............................] - ETA: 0s - loss: 0.7214 - accuracy: 0.7109\n",
      "Epoch 30: saving model to model/keypoint_classifier/keypoint_classifier.hdf5\n",
      "42/42 [==============================] - 0s 1ms/step - loss: 0.7202 - accuracy: 0.7085 - val_loss: 0.4490 - val_accuracy: 0.9160\n",
      "Epoch 31/1000\n",
      " 1/42 [..............................] - ETA: 0s - loss: 0.6977 - accuracy: 0.6797\n",
      "Epoch 31: saving model to model/keypoint_classifier/keypoint_classifier.hdf5\n",
      "42/42 [==============================] - 0s 1ms/step - loss: 0.7060 - accuracy: 0.7188 - val_loss: 0.4396 - val_accuracy: 0.9227\n",
      "Epoch 32/1000\n",
      " 1/42 [..............................] - ETA: 0s - loss: 0.7184 - accuracy: 0.6797\n",
      "Epoch 32: saving model to model/keypoint_classifier/keypoint_classifier.hdf5\n",
      "42/42 [==============================] - 0s 1ms/step - loss: 0.6948 - accuracy: 0.7098 - val_loss: 0.4303 - val_accuracy: 0.9289\n",
      "Epoch 33/1000\n",
      " 1/42 [..............................] - ETA: 0s - loss: 0.8706 - accuracy: 0.7031\n",
      "Epoch 33: saving model to model/keypoint_classifier/keypoint_classifier.hdf5\n",
      "42/42 [==============================] - 0s 2ms/step - loss: 0.7094 - accuracy: 0.7081 - val_loss: 0.4386 - val_accuracy: 0.9232\n",
      "Epoch 34/1000\n",
      " 1/42 [..............................] - ETA: 0s - loss: 0.7563 - accuracy: 0.6953\n",
      "Epoch 34: saving model to model/keypoint_classifier/keypoint_classifier.hdf5\n",
      "42/42 [==============================] - 0s 1ms/step - loss: 0.6908 - accuracy: 0.7212 - val_loss: 0.4193 - val_accuracy: 0.9277\n",
      "Epoch 35/1000\n",
      " 1/42 [..............................] - ETA: 0s - loss: 0.6148 - accuracy: 0.7656\n",
      "Epoch 35: saving model to model/keypoint_classifier/keypoint_classifier.hdf5\n",
      "42/42 [==============================] - 0s 1ms/step - loss: 0.6837 - accuracy: 0.7209 - val_loss: 0.4195 - val_accuracy: 0.9283\n",
      "Epoch 36/1000\n",
      " 1/42 [..............................] - ETA: 0s - loss: 0.7314 - accuracy: 0.6875\n",
      "Epoch 36: saving model to model/keypoint_classifier/keypoint_classifier.hdf5\n",
      "42/42 [==============================] - 0s 1ms/step - loss: 0.6781 - accuracy: 0.7280 - val_loss: 0.4102 - val_accuracy: 0.9317\n",
      "Epoch 37/1000\n",
      " 1/42 [..............................] - ETA: 0s - loss: 0.6813 - accuracy: 0.7500\n",
      "Epoch 37: saving model to model/keypoint_classifier/keypoint_classifier.hdf5\n",
      "42/42 [==============================] - 0s 1ms/step - loss: 0.6692 - accuracy: 0.7375 - val_loss: 0.4212 - val_accuracy: 0.9193\n",
      "Epoch 38/1000\n",
      " 1/42 [..............................] - ETA: 0s - loss: 0.6200 - accuracy: 0.7266\n",
      "Epoch 38: saving model to model/keypoint_classifier/keypoint_classifier.hdf5\n",
      "42/42 [==============================] - 0s 1ms/step - loss: 0.6610 - accuracy: 0.7287 - val_loss: 0.4002 - val_accuracy: 0.9289\n",
      "Epoch 39/1000\n",
      " 1/42 [..............................] - ETA: 0s - loss: 0.7120 - accuracy: 0.6875\n",
      "Epoch 39: saving model to model/keypoint_classifier/keypoint_classifier.hdf5\n",
      "42/42 [==============================] - 0s 1ms/step - loss: 0.6483 - accuracy: 0.7463 - val_loss: 0.4050 - val_accuracy: 0.9244\n",
      "Epoch 40/1000\n",
      " 1/42 [..............................] - ETA: 0s - loss: 0.5925 - accuracy: 0.7578\n",
      "Epoch 40: saving model to model/keypoint_classifier/keypoint_classifier.hdf5\n",
      "42/42 [==============================] - 0s 1ms/step - loss: 0.6599 - accuracy: 0.7309 - val_loss: 0.3970 - val_accuracy: 0.9266\n",
      "Epoch 41/1000\n",
      " 1/42 [..............................] - ETA: 0s - loss: 0.7855 - accuracy: 0.7031\n",
      "Epoch 41: saving model to model/keypoint_classifier/keypoint_classifier.hdf5\n",
      "42/42 [==============================] - 0s 1ms/step - loss: 0.6633 - accuracy: 0.7380 - val_loss: 0.3969 - val_accuracy: 0.9294\n",
      "Epoch 42/1000\n",
      " 1/42 [..............................] - ETA: 0s - loss: 0.7272 - accuracy: 0.6484\n",
      "Epoch 42: saving model to model/keypoint_classifier/keypoint_classifier.hdf5\n",
      "42/42 [==============================] - 0s 1ms/step - loss: 0.6484 - accuracy: 0.7332 - val_loss: 0.3855 - val_accuracy: 0.9249\n",
      "Epoch 43/1000\n",
      " 1/42 [..............................] - ETA: 0s - loss: 0.6039 - accuracy: 0.7578\n",
      "Epoch 43: saving model to model/keypoint_classifier/keypoint_classifier.hdf5\n",
      "42/42 [==============================] - 0s 1ms/step - loss: 0.6335 - accuracy: 0.7522 - val_loss: 0.3791 - val_accuracy: 0.9311\n",
      "Epoch 44/1000\n",
      " 1/42 [..............................] - ETA: 0s - loss: 0.6428 - accuracy: 0.7031\n",
      "Epoch 44: saving model to model/keypoint_classifier/keypoint_classifier.hdf5\n",
      "42/42 [==============================] - 0s 1ms/step - loss: 0.6407 - accuracy: 0.7416 - val_loss: 0.3852 - val_accuracy: 0.9204\n",
      "Epoch 45/1000\n",
      " 1/42 [..............................] - ETA: 0s - loss: 0.6716 - accuracy: 0.7500\n",
      "Epoch 45: saving model to model/keypoint_classifier/keypoint_classifier.hdf5\n",
      "42/42 [==============================] - 0s 1ms/step - loss: 0.6448 - accuracy: 0.7436 - val_loss: 0.3787 - val_accuracy: 0.9311\n",
      "Epoch 46/1000\n",
      " 1/42 [..............................] - ETA: 0s - loss: 0.6097 - accuracy: 0.7500\n",
      "Epoch 46: saving model to model/keypoint_classifier/keypoint_classifier.hdf5\n",
      "42/42 [==============================] - 0s 1ms/step - loss: 0.6301 - accuracy: 0.7511 - val_loss: 0.3708 - val_accuracy: 0.9266\n",
      "Epoch 47/1000\n",
      " 1/42 [..............................] - ETA: 0s - loss: 0.5412 - accuracy: 0.7969\n",
      "Epoch 47: saving model to model/keypoint_classifier/keypoint_classifier.hdf5\n",
      "42/42 [==============================] - 0s 1ms/step - loss: 0.6350 - accuracy: 0.7476 - val_loss: 0.3663 - val_accuracy: 0.9333\n",
      "Epoch 48/1000\n",
      " 1/42 [..............................] - ETA: 0s - loss: 0.6923 - accuracy: 0.7344\n",
      "Epoch 48: saving model to model/keypoint_classifier/keypoint_classifier.hdf5\n",
      "42/42 [==============================] - 0s 1ms/step - loss: 0.6236 - accuracy: 0.7575 - val_loss: 0.3711 - val_accuracy: 0.9317\n",
      "Epoch 49/1000\n",
      " 1/42 [..............................] - ETA: 0s - loss: 0.5767 - accuracy: 0.8203\n",
      "Epoch 49: saving model to model/keypoint_classifier/keypoint_classifier.hdf5\n",
      "42/42 [==============================] - 0s 1ms/step - loss: 0.6058 - accuracy: 0.7679 - val_loss: 0.3579 - val_accuracy: 0.9345\n",
      "Epoch 50/1000\n",
      " 1/42 [..............................] - ETA: 0s - loss: 0.5710 - accuracy: 0.7969\n",
      "Epoch 50: saving model to model/keypoint_classifier/keypoint_classifier.hdf5\n",
      "42/42 [==============================] - 0s 1ms/step - loss: 0.6064 - accuracy: 0.7616 - val_loss: 0.3523 - val_accuracy: 0.9345\n",
      "Epoch 51/1000\n",
      " 1/42 [..............................] - ETA: 0s - loss: 0.6890 - accuracy: 0.7031\n",
      "Epoch 51: saving model to model/keypoint_classifier/keypoint_classifier.hdf5\n",
      "42/42 [==============================] - 0s 1ms/step - loss: 0.6351 - accuracy: 0.7472 - val_loss: 0.3652 - val_accuracy: 0.9384\n",
      "Epoch 52/1000\n",
      " 1/42 [..............................] - ETA: 0s - loss: 0.6803 - accuracy: 0.7266\n",
      "Epoch 52: saving model to model/keypoint_classifier/keypoint_classifier.hdf5\n",
      "42/42 [==============================] - 0s 1ms/step - loss: 0.6048 - accuracy: 0.7642 - val_loss: 0.3621 - val_accuracy: 0.9289\n",
      "Epoch 53/1000\n",
      " 1/42 [..............................] - ETA: 0s - loss: 0.6101 - accuracy: 0.7578\n",
      "Epoch 53: saving model to model/keypoint_classifier/keypoint_classifier.hdf5\n",
      "42/42 [==============================] - 0s 1ms/step - loss: 0.6071 - accuracy: 0.7627 - val_loss: 0.3603 - val_accuracy: 0.9339\n",
      "Epoch 54/1000\n",
      " 1/42 [..............................] - ETA: 0s - loss: 0.5655 - accuracy: 0.7734\n",
      "Epoch 54: saving model to model/keypoint_classifier/keypoint_classifier.hdf5\n",
      "42/42 [==============================] - 0s 1ms/step - loss: 0.5914 - accuracy: 0.7706 - val_loss: 0.3376 - val_accuracy: 0.9434\n",
      "Epoch 55/1000\n",
      " 1/42 [..............................] - ETA: 0s - loss: 0.6484 - accuracy: 0.7656\n",
      "Epoch 55: saving model to model/keypoint_classifier/keypoint_classifier.hdf5\n",
      "42/42 [==============================] - 0s 1ms/step - loss: 0.6048 - accuracy: 0.7661 - val_loss: 0.3628 - val_accuracy: 0.9339\n",
      "Epoch 56/1000\n",
      " 1/42 [..............................] - ETA: 0s - loss: 0.4713 - accuracy: 0.8125\n",
      "Epoch 56: saving model to model/keypoint_classifier/keypoint_classifier.hdf5\n",
      "42/42 [==============================] - 0s 1ms/step - loss: 0.5993 - accuracy: 0.7687 - val_loss: 0.3367 - val_accuracy: 0.9367\n",
      "Epoch 57/1000\n",
      " 1/42 [..............................] - ETA: 0s - loss: 0.5125 - accuracy: 0.7969\n",
      "Epoch 57: saving model to model/keypoint_classifier/keypoint_classifier.hdf5\n",
      "42/42 [==============================] - 0s 1ms/step - loss: 0.5844 - accuracy: 0.7734 - val_loss: 0.3411 - val_accuracy: 0.9356\n",
      "Epoch 58/1000\n",
      " 1/42 [..............................] - ETA: 0s - loss: 0.5837 - accuracy: 0.7656\n",
      "Epoch 58: saving model to model/keypoint_classifier/keypoint_classifier.hdf5\n",
      "42/42 [==============================] - 0s 1ms/step - loss: 0.5865 - accuracy: 0.7763 - val_loss: 0.3306 - val_accuracy: 0.9389\n",
      "Epoch 59/1000\n",
      " 1/42 [..............................] - ETA: 0s - loss: 0.5728 - accuracy: 0.7734\n",
      "Epoch 59: saving model to model/keypoint_classifier/keypoint_classifier.hdf5\n",
      "42/42 [==============================] - 0s 1ms/step - loss: 0.5603 - accuracy: 0.7844 - val_loss: 0.3430 - val_accuracy: 0.9300\n",
      "Epoch 60/1000\n",
      " 1/42 [..............................] - ETA: 0s - loss: 0.5760 - accuracy: 0.7109\n",
      "Epoch 60: saving model to model/keypoint_classifier/keypoint_classifier.hdf5\n",
      "42/42 [==============================] - 0s 1ms/step - loss: 0.5754 - accuracy: 0.7747 - val_loss: 0.3299 - val_accuracy: 0.9395\n",
      "Epoch 61/1000\n",
      " 1/42 [..............................] - ETA: 0s - loss: 0.5333 - accuracy: 0.7812\n",
      "Epoch 61: saving model to model/keypoint_classifier/keypoint_classifier.hdf5\n",
      "42/42 [==============================] - 0s 1ms/step - loss: 0.5549 - accuracy: 0.7829 - val_loss: 0.3250 - val_accuracy: 0.9440\n",
      "Epoch 62/1000\n",
      " 1/42 [..............................] - ETA: 0s - loss: 0.6712 - accuracy: 0.7266\n",
      "Epoch 62: saving model to model/keypoint_classifier/keypoint_classifier.hdf5\n",
      "42/42 [==============================] - 0s 1ms/step - loss: 0.5846 - accuracy: 0.7762 - val_loss: 0.3421 - val_accuracy: 0.9367\n",
      "Epoch 63/1000\n",
      " 1/42 [..............................] - ETA: 0s - loss: 0.6316 - accuracy: 0.7656\n",
      "Epoch 63: saving model to model/keypoint_classifier/keypoint_classifier.hdf5\n",
      "42/42 [==============================] - 0s 1ms/step - loss: 0.5739 - accuracy: 0.7758 - val_loss: 0.3362 - val_accuracy: 0.9406\n",
      "Epoch 64/1000\n",
      " 1/42 [..............................] - ETA: 0s - loss: 0.4314 - accuracy: 0.8594\n",
      "Epoch 64: saving model to model/keypoint_classifier/keypoint_classifier.hdf5\n",
      "42/42 [==============================] - 0s 1ms/step - loss: 0.5690 - accuracy: 0.7797 - val_loss: 0.3337 - val_accuracy: 0.9451\n",
      "Epoch 65/1000\n",
      " 1/42 [..............................] - ETA: 0s - loss: 0.5350 - accuracy: 0.7656\n",
      "Epoch 65: saving model to model/keypoint_classifier/keypoint_classifier.hdf5\n",
      "42/42 [==============================] - 0s 1ms/step - loss: 0.5589 - accuracy: 0.7913 - val_loss: 0.3172 - val_accuracy: 0.9496\n",
      "Epoch 66/1000\n",
      " 1/42 [..............................] - ETA: 0s - loss: 0.7921 - accuracy: 0.6875\n",
      "Epoch 66: saving model to model/keypoint_classifier/keypoint_classifier.hdf5\n",
      "42/42 [==============================] - 0s 1ms/step - loss: 0.5722 - accuracy: 0.7803 - val_loss: 0.3138 - val_accuracy: 0.9462\n",
      "Epoch 67/1000\n",
      " 1/42 [..............................] - ETA: 0s - loss: 0.5332 - accuracy: 0.7969\n",
      "Epoch 67: saving model to model/keypoint_classifier/keypoint_classifier.hdf5\n",
      "42/42 [==============================] - 0s 1ms/step - loss: 0.5577 - accuracy: 0.7844 - val_loss: 0.3135 - val_accuracy: 0.9451\n",
      "Epoch 68/1000\n",
      " 1/42 [..............................] - ETA: 0s - loss: 0.4865 - accuracy: 0.7891\n",
      "Epoch 68: saving model to model/keypoint_classifier/keypoint_classifier.hdf5\n",
      "42/42 [==============================] - 0s 1ms/step - loss: 0.5552 - accuracy: 0.7892 - val_loss: 0.3323 - val_accuracy: 0.9389\n",
      "Epoch 69/1000\n",
      " 1/42 [..............................] - ETA: 0s - loss: 0.4941 - accuracy: 0.8281\n",
      "Epoch 69: saving model to model/keypoint_classifier/keypoint_classifier.hdf5\n",
      "42/42 [==============================] - 0s 1ms/step - loss: 0.5636 - accuracy: 0.7790 - val_loss: 0.3278 - val_accuracy: 0.9378\n",
      "Epoch 70/1000\n",
      " 1/42 [..............................] - ETA: 0s - loss: 0.5944 - accuracy: 0.7969\n",
      "Epoch 70: saving model to model/keypoint_classifier/keypoint_classifier.hdf5\n",
      "42/42 [==============================] - 0s 1ms/step - loss: 0.5503 - accuracy: 0.7917 - val_loss: 0.3100 - val_accuracy: 0.9473\n",
      "Epoch 71/1000\n",
      " 1/42 [..............................] - ETA: 0s - loss: 0.5309 - accuracy: 0.7891\n",
      "Epoch 71: saving model to model/keypoint_classifier/keypoint_classifier.hdf5\n",
      "42/42 [==============================] - 0s 1ms/step - loss: 0.5378 - accuracy: 0.7917 - val_loss: 0.3133 - val_accuracy: 0.9417\n",
      "Epoch 72/1000\n",
      " 1/42 [..............................] - ETA: 0s - loss: 0.4885 - accuracy: 0.8516\n",
      "Epoch 72: saving model to model/keypoint_classifier/keypoint_classifier.hdf5\n",
      "42/42 [==============================] - 0s 1ms/step - loss: 0.5508 - accuracy: 0.7898 - val_loss: 0.3110 - val_accuracy: 0.9440\n",
      "Epoch 73/1000\n",
      " 1/42 [..............................] - ETA: 0s - loss: 0.5106 - accuracy: 0.7891\n",
      "Epoch 73: saving model to model/keypoint_classifier/keypoint_classifier.hdf5\n",
      "42/42 [==============================] - 0s 1ms/step - loss: 0.5418 - accuracy: 0.7937 - val_loss: 0.3068 - val_accuracy: 0.9378\n",
      "Epoch 74/1000\n",
      " 1/42 [..............................] - ETA: 0s - loss: 0.5307 - accuracy: 0.7812\n",
      "Epoch 74: saving model to model/keypoint_classifier/keypoint_classifier.hdf5\n",
      "42/42 [==============================] - 0s 1ms/step - loss: 0.5444 - accuracy: 0.7919 - val_loss: 0.3035 - val_accuracy: 0.9445\n",
      "Epoch 75/1000\n",
      " 1/42 [..............................] - ETA: 0s - loss: 0.5889 - accuracy: 0.7734\n",
      "Epoch 75: saving model to model/keypoint_classifier/keypoint_classifier.hdf5\n",
      "42/42 [==============================] - 0s 2ms/step - loss: 0.5424 - accuracy: 0.7892 - val_loss: 0.3036 - val_accuracy: 0.9462\n",
      "Epoch 76/1000\n",
      " 1/42 [..............................] - ETA: 0s - loss: 0.5115 - accuracy: 0.8281\n",
      "Epoch 76: saving model to model/keypoint_classifier/keypoint_classifier.hdf5\n",
      "42/42 [==============================] - 0s 1ms/step - loss: 0.5350 - accuracy: 0.7950 - val_loss: 0.2955 - val_accuracy: 0.9468\n",
      "Epoch 77/1000\n",
      " 1/42 [..............................] - ETA: 0s - loss: 0.4486 - accuracy: 0.8438\n",
      "Epoch 77: saving model to model/keypoint_classifier/keypoint_classifier.hdf5\n",
      "42/42 [==============================] - 0s 1ms/step - loss: 0.5259 - accuracy: 0.8004 - val_loss: 0.3015 - val_accuracy: 0.9591\n",
      "Epoch 78/1000\n",
      " 1/42 [..............................] - ETA: 0s - loss: 0.5710 - accuracy: 0.8125\n",
      "Epoch 78: saving model to model/keypoint_classifier/keypoint_classifier.hdf5\n",
      "42/42 [==============================] - 0s 1ms/step - loss: 0.5212 - accuracy: 0.8053 - val_loss: 0.2975 - val_accuracy: 0.9406\n",
      "Epoch 79/1000\n",
      " 1/42 [..............................] - ETA: 0s - loss: 0.4621 - accuracy: 0.7891\n",
      "Epoch 79: saving model to model/keypoint_classifier/keypoint_classifier.hdf5\n",
      "42/42 [==============================] - 0s 1ms/step - loss: 0.5299 - accuracy: 0.7991 - val_loss: 0.3002 - val_accuracy: 0.9457\n",
      "Epoch 80/1000\n",
      " 1/42 [..............................] - ETA: 0s - loss: 0.4661 - accuracy: 0.8281\n",
      "Epoch 80: saving model to model/keypoint_classifier/keypoint_classifier.hdf5\n",
      "42/42 [==============================] - 0s 1ms/step - loss: 0.5348 - accuracy: 0.8014 - val_loss: 0.3039 - val_accuracy: 0.9434\n",
      "Epoch 81/1000\n",
      " 1/42 [..............................] - ETA: 0s - loss: 0.5906 - accuracy: 0.7656\n",
      "Epoch 81: saving model to model/keypoint_classifier/keypoint_classifier.hdf5\n",
      "42/42 [==============================] - 0s 1ms/step - loss: 0.5327 - accuracy: 0.8023 - val_loss: 0.3257 - val_accuracy: 0.9401\n",
      "Epoch 82/1000\n",
      " 1/42 [..............................] - ETA: 0s - loss: 0.5232 - accuracy: 0.8203\n",
      "Epoch 82: saving model to model/keypoint_classifier/keypoint_classifier.hdf5\n",
      "42/42 [==============================] - 0s 1ms/step - loss: 0.5152 - accuracy: 0.7993 - val_loss: 0.3050 - val_accuracy: 0.9451\n",
      "Epoch 83/1000\n",
      " 1/42 [..............................] - ETA: 0s - loss: 0.6097 - accuracy: 0.7578\n",
      "Epoch 83: saving model to model/keypoint_classifier/keypoint_classifier.hdf5\n",
      "42/42 [==============================] - 0s 1ms/step - loss: 0.5145 - accuracy: 0.7965 - val_loss: 0.3045 - val_accuracy: 0.9401\n",
      "Epoch 84/1000\n",
      " 1/42 [..............................] - ETA: 0s - loss: 0.5289 - accuracy: 0.7812\n",
      "Epoch 84: saving model to model/keypoint_classifier/keypoint_classifier.hdf5\n",
      "42/42 [==============================] - 0s 1ms/step - loss: 0.5102 - accuracy: 0.8102 - val_loss: 0.3006 - val_accuracy: 0.9485\n",
      "Epoch 85/1000\n",
      " 1/42 [..............................] - ETA: 0s - loss: 0.5098 - accuracy: 0.8047\n",
      "Epoch 85: saving model to model/keypoint_classifier/keypoint_classifier.hdf5\n",
      "42/42 [==============================] - 0s 1ms/step - loss: 0.5249 - accuracy: 0.7975 - val_loss: 0.3167 - val_accuracy: 0.9445\n",
      "Epoch 86/1000\n",
      " 1/42 [..............................] - ETA: 0s - loss: 0.4412 - accuracy: 0.8125\n",
      "Epoch 86: saving model to model/keypoint_classifier/keypoint_classifier.hdf5\n",
      "42/42 [==============================] - 0s 1ms/step - loss: 0.5132 - accuracy: 0.8031 - val_loss: 0.2980 - val_accuracy: 0.9479\n",
      "Epoch 87/1000\n",
      " 1/42 [..............................] - ETA: 0s - loss: 0.4223 - accuracy: 0.8281\n",
      "Epoch 87: saving model to model/keypoint_classifier/keypoint_classifier.hdf5\n",
      "42/42 [==============================] - 0s 1ms/step - loss: 0.5081 - accuracy: 0.8047 - val_loss: 0.3046 - val_accuracy: 0.9434\n",
      "Epoch 88/1000\n",
      " 1/42 [..............................] - ETA: 0s - loss: 0.4521 - accuracy: 0.8203\n",
      "Epoch 88: saving model to model/keypoint_classifier/keypoint_classifier.hdf5\n",
      "42/42 [==============================] - 0s 1ms/step - loss: 0.5031 - accuracy: 0.8111 - val_loss: 0.3046 - val_accuracy: 0.9429\n",
      "Epoch 89/1000\n",
      " 1/42 [..............................] - ETA: 0s - loss: 0.6645 - accuracy: 0.7891\n",
      "Epoch 89: saving model to model/keypoint_classifier/keypoint_classifier.hdf5\n",
      "42/42 [==============================] - 0s 1ms/step - loss: 0.5003 - accuracy: 0.8047 - val_loss: 0.2970 - val_accuracy: 0.9501\n",
      "Epoch 90/1000\n",
      " 1/42 [..............................] - ETA: 0s - loss: 0.5165 - accuracy: 0.7891\n",
      "Epoch 90: saving model to model/keypoint_classifier/keypoint_classifier.hdf5\n",
      "42/42 [==============================] - 0s 1ms/step - loss: 0.5045 - accuracy: 0.8075 - val_loss: 0.2996 - val_accuracy: 0.9395\n",
      "Epoch 91/1000\n",
      " 1/42 [..............................] - ETA: 0s - loss: 0.6345 - accuracy: 0.7500\n",
      "Epoch 91: saving model to model/keypoint_classifier/keypoint_classifier.hdf5\n",
      "42/42 [==============================] - 0s 1ms/step - loss: 0.5197 - accuracy: 0.7991 - val_loss: 0.2891 - val_accuracy: 0.9529\n",
      "Epoch 92/1000\n",
      " 1/42 [..............................] - ETA: 0s - loss: 0.6553 - accuracy: 0.7422\n",
      "Epoch 92: saving model to model/keypoint_classifier/keypoint_classifier.hdf5\n",
      "42/42 [==============================] - 0s 1ms/step - loss: 0.4982 - accuracy: 0.8087 - val_loss: 0.2796 - val_accuracy: 0.9619\n",
      "Epoch 93/1000\n",
      " 1/42 [..............................] - ETA: 0s - loss: 0.4883 - accuracy: 0.8203\n",
      "Epoch 93: saving model to model/keypoint_classifier/keypoint_classifier.hdf5\n",
      "42/42 [==============================] - 0s 1ms/step - loss: 0.5101 - accuracy: 0.8109 - val_loss: 0.3175 - val_accuracy: 0.9389\n",
      "Epoch 94/1000\n",
      " 1/42 [..............................] - ETA: 0s - loss: 0.5064 - accuracy: 0.7812\n",
      "Epoch 94: saving model to model/keypoint_classifier/keypoint_classifier.hdf5\n",
      "42/42 [==============================] - 0s 1ms/step - loss: 0.4972 - accuracy: 0.8033 - val_loss: 0.3004 - val_accuracy: 0.9451\n",
      "Epoch 95/1000\n",
      " 1/42 [..............................] - ETA: 0s - loss: 0.4338 - accuracy: 0.8516\n",
      "Epoch 95: saving model to model/keypoint_classifier/keypoint_classifier.hdf5\n",
      "42/42 [==============================] - 0s 1ms/step - loss: 0.5050 - accuracy: 0.8046 - val_loss: 0.3016 - val_accuracy: 0.9529\n",
      "Epoch 96/1000\n",
      " 1/42 [..............................] - ETA: 0s - loss: 0.3608 - accuracy: 0.8516\n",
      "Epoch 96: saving model to model/keypoint_classifier/keypoint_classifier.hdf5\n",
      "42/42 [==============================] - 0s 1ms/step - loss: 0.4843 - accuracy: 0.8171 - val_loss: 0.2890 - val_accuracy: 0.9591\n",
      "Epoch 97/1000\n",
      " 1/42 [..............................] - ETA: 0s - loss: 0.4655 - accuracy: 0.8672\n",
      "Epoch 97: saving model to model/keypoint_classifier/keypoint_classifier.hdf5\n",
      "42/42 [==============================] - 0s 1ms/step - loss: 0.4999 - accuracy: 0.8120 - val_loss: 0.3110 - val_accuracy: 0.9518\n",
      "Epoch 98/1000\n",
      " 1/42 [..............................] - ETA: 0s - loss: 0.4668 - accuracy: 0.8203\n",
      "Epoch 98: saving model to model/keypoint_classifier/keypoint_classifier.hdf5\n",
      "42/42 [==============================] - 0s 1ms/step - loss: 0.5131 - accuracy: 0.8019 - val_loss: 0.3123 - val_accuracy: 0.9457\n",
      "Epoch 99/1000\n",
      " 1/42 [..............................] - ETA: 0s - loss: 0.4584 - accuracy: 0.7891\n",
      "Epoch 99: saving model to model/keypoint_classifier/keypoint_classifier.hdf5\n",
      "42/42 [==============================] - 0s 1ms/step - loss: 0.5045 - accuracy: 0.8051 - val_loss: 0.3047 - val_accuracy: 0.9552\n",
      "Epoch 100/1000\n",
      " 1/42 [..............................] - ETA: 0s - loss: 0.5531 - accuracy: 0.7812\n",
      "Epoch 100: saving model to model/keypoint_classifier/keypoint_classifier.hdf5\n",
      "42/42 [==============================] - 0s 1ms/step - loss: 0.4883 - accuracy: 0.8117 - val_loss: 0.3135 - val_accuracy: 0.9373\n",
      "Epoch 101/1000\n",
      " 1/42 [..............................] - ETA: 0s - loss: 0.4984 - accuracy: 0.7969\n",
      "Epoch 101: saving model to model/keypoint_classifier/keypoint_classifier.hdf5\n",
      "42/42 [==============================] - 0s 1ms/step - loss: 0.4969 - accuracy: 0.8094 - val_loss: 0.3113 - val_accuracy: 0.9541\n",
      "Epoch 102/1000\n",
      " 1/42 [..............................] - ETA: 0s - loss: 0.3755 - accuracy: 0.8906\n",
      "Epoch 102: saving model to model/keypoint_classifier/keypoint_classifier.hdf5\n",
      "42/42 [==============================] - 0s 1ms/step - loss: 0.4879 - accuracy: 0.8057 - val_loss: 0.3066 - val_accuracy: 0.9541\n",
      "Epoch 103/1000\n",
      " 1/42 [..............................] - ETA: 0s - loss: 0.5242 - accuracy: 0.8047\n",
      "Epoch 103: saving model to model/keypoint_classifier/keypoint_classifier.hdf5\n",
      "42/42 [==============================] - 0s 1ms/step - loss: 0.4711 - accuracy: 0.8141 - val_loss: 0.2933 - val_accuracy: 0.9563\n",
      "Epoch 104/1000\n",
      " 1/42 [..............................] - ETA: 0s - loss: 0.3836 - accuracy: 0.8438\n",
      "Epoch 104: saving model to model/keypoint_classifier/keypoint_classifier.hdf5\n",
      "42/42 [==============================] - 0s 2ms/step - loss: 0.4871 - accuracy: 0.8141 - val_loss: 0.3007 - val_accuracy: 0.9591\n",
      "Epoch 105/1000\n",
      " 1/42 [..............................] - ETA: 0s - loss: 0.5298 - accuracy: 0.8047\n",
      "Epoch 105: saving model to model/keypoint_classifier/keypoint_classifier.hdf5\n",
      "42/42 [==============================] - 0s 1ms/step - loss: 0.4806 - accuracy: 0.8163 - val_loss: 0.2817 - val_accuracy: 0.9591\n",
      "Epoch 106/1000\n",
      " 1/42 [..............................] - ETA: 0s - loss: 0.3732 - accuracy: 0.8672\n",
      "Epoch 106: saving model to model/keypoint_classifier/keypoint_classifier.hdf5\n",
      "42/42 [==============================] - 0s 1ms/step - loss: 0.4833 - accuracy: 0.8201 - val_loss: 0.3020 - val_accuracy: 0.9457\n",
      "Epoch 107/1000\n",
      " 1/42 [..............................] - ETA: 0s - loss: 0.5447 - accuracy: 0.8203\n",
      "Epoch 107: saving model to model/keypoint_classifier/keypoint_classifier.hdf5\n",
      "42/42 [==============================] - 0s 1ms/step - loss: 0.4836 - accuracy: 0.8130 - val_loss: 0.3060 - val_accuracy: 0.9496\n",
      "Epoch 108/1000\n",
      " 1/42 [..............................] - ETA: 0s - loss: 0.4532 - accuracy: 0.7500\n",
      "Epoch 108: saving model to model/keypoint_classifier/keypoint_classifier.hdf5\n",
      "42/42 [==============================] - 0s 1ms/step - loss: 0.4915 - accuracy: 0.8150 - val_loss: 0.2966 - val_accuracy: 0.9552\n",
      "Epoch 109/1000\n",
      " 1/42 [..............................] - ETA: 0s - loss: 0.5065 - accuracy: 0.7969\n",
      "Epoch 109: saving model to model/keypoint_classifier/keypoint_classifier.hdf5\n",
      "42/42 [==============================] - 0s 1ms/step - loss: 0.4744 - accuracy: 0.8145 - val_loss: 0.3133 - val_accuracy: 0.9541\n",
      "Epoch 110/1000\n",
      " 1/42 [..............................] - ETA: 0s - loss: 0.4682 - accuracy: 0.7891\n",
      "Epoch 110: saving model to model/keypoint_classifier/keypoint_classifier.hdf5\n",
      "42/42 [==============================] - 0s 1ms/step - loss: 0.4788 - accuracy: 0.8204 - val_loss: 0.2987 - val_accuracy: 0.9613\n",
      "Epoch 111/1000\n",
      " 1/42 [..............................] - ETA: 0s - loss: 0.4990 - accuracy: 0.7969\n",
      "Epoch 111: saving model to model/keypoint_classifier/keypoint_classifier.hdf5\n",
      "42/42 [==============================] - 0s 1ms/step - loss: 0.4870 - accuracy: 0.8130 - val_loss: 0.3196 - val_accuracy: 0.9529\n",
      "Epoch 112/1000\n",
      " 1/42 [..............................] - ETA: 0s - loss: 0.4124 - accuracy: 0.8672\n",
      "Epoch 112: saving model to model/keypoint_classifier/keypoint_classifier.hdf5\n",
      "42/42 [==============================] - 0s 1ms/step - loss: 0.4729 - accuracy: 0.8180 - val_loss: 0.3096 - val_accuracy: 0.9535\n",
      "Epoch 112: early stopping\n"
     ]
    },
    {
     "data": {
      "text/plain": [
       "<keras.src.callbacks.History at 0x28ec79100>"
      ]
     },
     "execution_count": 33,
     "metadata": {},
     "output_type": "execute_result"
    }
   ],
   "source": [
    "model.fit(\n",
    "    X_train,\n",
    "    y_train,\n",
    "    epochs=1000,\n",
    "    batch_size=128,\n",
    "    validation_data=(X_test, y_test),\n",
    "    callbacks=[cp_callback, es_callback]\n",
    ")"
   ]
  },
  {
   "cell_type": "code",
   "execution_count": 34,
   "metadata": {},
   "outputs": [
    {
     "name": "stdout",
     "output_type": "stream",
     "text": [
      "14/14 [==============================] - 0s 598us/step - loss: 0.3096 - accuracy: 0.9535\n"
     ]
    }
   ],
   "source": [
    "# モデル評価\n",
    "val_loss, val_acc = model.evaluate(X_test, y_test, batch_size=128)"
   ]
  },
  {
   "cell_type": "code",
   "execution_count": 35,
   "metadata": {},
   "outputs": [],
   "source": [
    "# 保存したモデルのロード\n",
    "model = tf.keras.models.load_model(model_save_path)"
   ]
  },
  {
   "cell_type": "code",
   "execution_count": 36,
   "metadata": {},
   "outputs": [
    {
     "name": "stdout",
     "output_type": "stream",
     "text": [
      "1/1 [==============================] - 0s 35ms/step\n",
      "[7.1526237e-02 9.2754865e-01 2.0631490e-09 3.4449055e-05 2.2876224e-08\n",
      " 8.9067972e-04]\n",
      "1\n"
     ]
    }
   ],
   "source": [
    "# 推論テスト\n",
    "predict_result = model.predict(np.array([X_test[0]]))\n",
    "print(np.squeeze(predict_result))\n",
    "print(np.argmax(np.squeeze(predict_result)))"
   ]
  },
  {
   "cell_type": "markdown",
   "metadata": {},
   "source": [
    "# 混同行列"
   ]
  },
  {
   "cell_type": "code",
   "execution_count": 37,
   "metadata": {},
   "outputs": [
    {
     "name": "stdout",
     "output_type": "stream",
     "text": [
      "56/56 [==============================] - 0s 463us/step\n"
     ]
    },
    {
     "data": {
      "image/png": "[encoded data removed]",
      "text/plain": [
       "<Figure size 700x600 with 2 Axes>"
      ]
     },
     "metadata": {},
     "output_type": "display_data"
    },
    {
     "name": "stdout",
     "output_type": "stream",
     "text": [
      "Classification Report\n",
      "              precision    recall  f1-score   support\n",
      "\n",
      "           0       0.98      0.96      0.97       404\n",
      "           1       0.99      0.98      0.99       396\n",
      "           3       0.86      0.97      0.91        91\n",
      "           4       0.91      0.94      0.92       371\n",
      "           5       0.95      0.93      0.94       523\n",
      "\n",
      "    accuracy                           0.95      1785\n",
      "   macro avg       0.94      0.96      0.95      1785\n",
      "weighted avg       0.95      0.95      0.95      1785\n",
      "\n"
     ]
    }
   ],
   "source": [
    "import pandas as pd\n",
    "import seaborn as sns\n",
    "import matplotlib.pyplot as plt\n",
    "from sklearn.metrics import confusion_matrix, classification_report\n",
    "\n",
    "def print_confusion_matrix(y_true, y_pred, report=True):\n",
    "    labels = sorted(list(set(y_true)))\n",
    "    cmx_data = confusion_matrix(y_true, y_pred, labels=labels)\n",
    "    \n",
    "    df_cmx = pd.DataFrame(cmx_data, index=labels, columns=labels)\n",
    " \n",
    "    fig, ax = plt.subplots(figsize=(7, 6))\n",
    "    sns.heatmap(df_cmx, annot=True, fmt='g' ,square=False)\n",
    "    ax.set_ylim(len(set(y_true)), 0)\n",
    "    plt.show()\n",
    "    \n",
    "    if report:\n",
    "        print('Classification Report')\n",
    "        print(classification_report(y_test, y_pred))\n",
    "\n",
    "Y_pred = model.predict(X_test)\n",
    "y_pred = np.argmax(Y_pred, axis=1)\n",
    "\n",
    "print_confusion_matrix(y_test, y_pred)"
   ]
  },
  {
   "cell_type": "markdown",
   "metadata": {},
   "source": [
    "# Tensorflow-Lite用のモデルへ変換"
   ]
  },
  {
   "cell_type": "code",
   "execution_count": 38,
   "metadata": {},
   "outputs": [
    {
     "name": "stderr",
     "output_type": "stream",
     "text": [
      "/Users/jwzhang/Library/Python/3.9/lib/python/site-packages/keras/src/engine/training.py:3000: UserWarning: You are saving your model as an HDF5 file via `model.save()`. This file format is considered legacy. We recommend using instead the native Keras format, e.g. `model.save('my_model.keras')`.\n",
      "  saving_api.save_model(\n"
     ]
    }
   ],
   "source": [
    "# 推論専用のモデルとして保存\n",
    "model.save(model_save_path, include_optimizer=False)"
   ]
  },
  {
   "cell_type": "code",
   "execution_count": 39,
   "metadata": {},
   "outputs": [
    {
     "name": "stdout",
     "output_type": "stream",
     "text": [
      "INFO:tensorflow:Assets written to: /var/folders/7y/jht0wq9156v777kgwmnb4xl40000gn/T/tmpskwhk1d6/assets\n"
     ]
    },
    {
     "name": "stderr",
     "output_type": "stream",
     "text": [
      "INFO:tensorflow:Assets written to: /var/folders/7y/jht0wq9156v777kgwmnb4xl40000gn/T/tmpskwhk1d6/assets\n",
      "2023-08-11 18:09:20.087462: W tensorflow/compiler/mlir/lite/python/tf_tfl_flatbuffer_helpers.cc:364] Ignored output_format.\n",
      "2023-08-11 18:09:20.087478: W tensorflow/compiler/mlir/lite/python/tf_tfl_flatbuffer_helpers.cc:367] Ignored drop_control_dependency.\n",
      "2023-08-11 18:09:20.087665: I tensorflow/cc/saved_model/reader.cc:45] Reading SavedModel from: /var/folders/7y/jht0wq9156v777kgwmnb4xl40000gn/T/tmpskwhk1d6\n",
      "2023-08-11 18:09:20.088446: I tensorflow/cc/saved_model/reader.cc:91] Reading meta graph with tags { serve }\n",
      "2023-08-11 18:09:20.088452: I tensorflow/cc/saved_model/reader.cc:132] Reading SavedModel debug info (if present) from: /var/folders/7y/jht0wq9156v777kgwmnb4xl40000gn/T/tmpskwhk1d6\n",
      "2023-08-11 18:09:20.091334: I tensorflow/cc/saved_model/loader.cc:231] Restoring SavedModel bundle.\n",
      "2023-08-11 18:09:20.128710: I tensorflow/cc/saved_model/loader.cc:215] Running initialization op on SavedModel bundle at path: /var/folders/7y/jht0wq9156v777kgwmnb4xl40000gn/T/tmpskwhk1d6\n",
      "2023-08-11 18:09:20.139490: I tensorflow/cc/saved_model/loader.cc:314] SavedModel load for tags { serve }; Status: success: OK. Took 51826 microseconds.\n"
     ]
    },
    {
     "data": {
      "text/plain": [
       "6660"
      ]
     },
     "execution_count": 39,
     "metadata": {},
     "output_type": "execute_result"
    }
   ],
   "source": [
    "# モデルを変換(量子化)\n",
    "tflite_save_path = 'model/keypoint_classifier/keypoint_classifier.tflite'\n",
    "\n",
    "converter = tf.lite.TFLiteConverter.from_keras_model(model)\n",
    "converter.optimizations = [tf.lite.Optimize.DEFAULT]\n",
    "tflite_quantized_model = converter.convert()\n",
    "\n",
    "open(tflite_save_path, 'wb').write(tflite_quantized_model)"
   ]
  },
  {
   "cell_type": "markdown",
   "metadata": {},
   "source": [
    "# 推論テスト"
   ]
  },
  {
   "cell_type": "code",
   "execution_count": 40,
   "metadata": {},
   "outputs": [],
   "source": [
    "interpreter = tf.lite.Interpreter(model_path=tflite_save_path)\n",
    "interpreter.allocate_tensors()"
   ]
  },
  {
   "cell_type": "code",
   "execution_count": 41,
   "metadata": {},
   "outputs": [],
   "source": [
    "# 入出力テンソルを取得\n",
    "input_details = interpreter.get_input_details()\n",
    "output_details = interpreter.get_output_details()"
   ]
  },
  {
   "cell_type": "code",
   "execution_count": 42,
   "metadata": {},
   "outputs": [],
   "source": [
    "interpreter.set_tensor(input_details[0]['index'], np.array([X_test[0]]))"
   ]
  },
  {
   "cell_type": "code",
   "execution_count": 43,
   "metadata": {
    "scrolled": true
   },
   "outputs": [
    {
     "name": "stdout",
     "output_type": "stream",
     "text": [
      "CPU times: user 146 µs, sys: 31 µs, total: 177 µs\n",
      "Wall time: 187 µs\n"
     ]
    }
   ],
   "source": [
    "%%time\n",
    "# 推論実施\n",
    "interpreter.invoke()\n",
    "tflite_results = interpreter.get_tensor(output_details[0]['index'])"
   ]
  },
  {
   "cell_type": "code",
   "execution_count": 44,
   "metadata": {},
   "outputs": [
    {
     "name": "stdout",
     "output_type": "stream",
     "text": [
      "[7.1526326e-02 9.2754853e-01 2.0631565e-09 3.4449182e-05 2.2876266e-08\n",
      " 8.9068129e-04]\n",
      "1\n"
     ]
    }
   ],
   "source": [
    "print(np.squeeze(tflite_results))\n",
    "print(np.argmax(np.squeeze(tflite_results)))"
   ]
  }
 ],
 "metadata": {
  "kernelspec": {
   "display_name": "Python 3",
   "language": "python",
   "name": "python3"
  },
  "language_info": {
   "codemirror_mode": {
    "name": "ipython",
    "version": 3
   },
   "file_extension": ".py",
   "mimetype": "text/x-python",
   "name": "python",
   "nbconvert_exporter": "python",
   "pygments_lexer": "ipython3",
   "version": "3.9.15"
  }
 },
 "nbformat": 4,
 "nbformat_minor": 4
}
